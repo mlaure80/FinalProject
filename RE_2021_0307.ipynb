{
 "cells": [
  {
   "cell_type": "code",
   "execution_count": 1,
   "metadata": {},
   "outputs": [
    {
     "name": "stderr",
     "output_type": "stream",
     "text": [
      "/home/jalfonso/anaconda3/envs/PythonTime/lib/python3.7/importlib/_bootstrap.py:219: RuntimeWarning: numpy.ufunc size changed, may indicate binary incompatibility. Expected 192 from C header, got 216 from PyObject\n",
      "  return f(*args, **kwds)\n",
      "/home/jalfonso/anaconda3/envs/PythonTime/lib/python3.7/importlib/_bootstrap.py:219: RuntimeWarning: numpy.ufunc size changed, may indicate binary incompatibility. Expected 192 from C header, got 216 from PyObject\n",
      "  return f(*args, **kwds)\n"
     ]
    }
   ],
   "source": [
    "import os\n",
    "import pandas as pd\n",
    "import numpy as np\n",
    "from sklearn import linear_model\n",
    "from sklearn.metrics import mean_squared_error,r2_score\n",
    "\n",
    "# time series data so do not use this splitter\n",
    "from sklearn.model_selection import train_test_split\n",
    "\n",
    "# if you do not want to use the manual one i showed you, you can use the following\n",
    "from sklearn.model_selection import TimeSeriesSplit\n",
    "\n",
    "# visualization libraries\n",
    "from matplotlib import pyplot as plt\n",
    "import matplotlib as mpl"
   ]
  },
  {
   "cell_type": "code",
   "execution_count": null,
   "metadata": {},
   "outputs": [],
   "source": [
    "# importing date time functionalities\n",
    "from datetime import datetime"
   ]
  },
  {
   "cell_type": "code",
   "execution_count": 34,
   "metadata": {},
   "outputs": [
    {
     "name": "stderr",
     "output_type": "stream",
     "text": [
      "/home/jalfonso/anaconda3/envs/PythonTime/lib/python3.7/site-packages/IPython/core/interactiveshell.py:3147: DtypeWarning: Columns (1,2) have mixed types.Specify dtype option on import or set low_memory=False.\n",
      "  interactivity=interactivity, compiler=compiler, result=result)\n"
     ]
    },
    {
     "data": {
      "text/html": [
       "<div>\n",
       "<style scoped>\n",
       "    .dataframe tbody tr th:only-of-type {\n",
       "        vertical-align: middle;\n",
       "    }\n",
       "\n",
       "    .dataframe tbody tr th {\n",
       "        vertical-align: top;\n",
       "    }\n",
       "\n",
       "    .dataframe thead th {\n",
       "        text-align: right;\n",
       "    }\n",
       "</style>\n",
       "<table border=\"1\" class=\"dataframe\">\n",
       "  <thead>\n",
       "    <tr style=\"text-align: right;\">\n",
       "      <th></th>\n",
       "      <th>Bedrooms</th>\n",
       "      <th>Zipcode</th>\n",
       "      <th>1/31/2015</th>\n",
       "      <th>2/28/2015</th>\n",
       "      <th>3/31/2015</th>\n",
       "      <th>4/30/2015</th>\n",
       "      <th>5/31/2015</th>\n",
       "      <th>6/30/2015</th>\n",
       "      <th>7/31/2015</th>\n",
       "      <th>8/31/2015</th>\n",
       "      <th>...</th>\n",
       "      <th>4/30/2020</th>\n",
       "      <th>5/31/2020</th>\n",
       "      <th>6/30/2020</th>\n",
       "      <th>7/31/2020</th>\n",
       "      <th>8/31/2020</th>\n",
       "      <th>9/30/2020</th>\n",
       "      <th>10/31/2020</th>\n",
       "      <th>11/30/2020</th>\n",
       "      <th>12/31/2020</th>\n",
       "      <th>1/31/2021</th>\n",
       "    </tr>\n",
       "  </thead>\n",
       "  <tbody>\n",
       "    <tr>\n",
       "      <th>0</th>\n",
       "      <td>1</td>\n",
       "      <td>10025</td>\n",
       "      <td>687255.0</td>\n",
       "      <td>692013.0</td>\n",
       "      <td>692222.0</td>\n",
       "      <td>691676.0</td>\n",
       "      <td>690212.0</td>\n",
       "      <td>691754.0</td>\n",
       "      <td>693115.0</td>\n",
       "      <td>695782.0</td>\n",
       "      <td>...</td>\n",
       "      <td>689319.0</td>\n",
       "      <td>688401.0</td>\n",
       "      <td>687989.0</td>\n",
       "      <td>686916.0</td>\n",
       "      <td>685278.0</td>\n",
       "      <td>682705.0</td>\n",
       "      <td>681110.0</td>\n",
       "      <td>680490.0</td>\n",
       "      <td>681329.0</td>\n",
       "      <td>681740.0</td>\n",
       "    </tr>\n",
       "    <tr>\n",
       "      <th>1</th>\n",
       "      <td>1</td>\n",
       "      <td>60657</td>\n",
       "      <td>205053.0</td>\n",
       "      <td>204925.0</td>\n",
       "      <td>205317.0</td>\n",
       "      <td>206342.0</td>\n",
       "      <td>206843.0</td>\n",
       "      <td>205887.0</td>\n",
       "      <td>205218.0</td>\n",
       "      <td>205337.0</td>\n",
       "      <td>...</td>\n",
       "      <td>217151.0</td>\n",
       "      <td>217353.0</td>\n",
       "      <td>217807.0</td>\n",
       "      <td>218778.0</td>\n",
       "      <td>220062.0</td>\n",
       "      <td>221396.0</td>\n",
       "      <td>222713.0</td>\n",
       "      <td>224034.0</td>\n",
       "      <td>225383.0</td>\n",
       "      <td>226155.0</td>\n",
       "    </tr>\n",
       "    <tr>\n",
       "      <th>2</th>\n",
       "      <td>1</td>\n",
       "      <td>10023</td>\n",
       "      <td>832919.0</td>\n",
       "      <td>834728.0</td>\n",
       "      <td>835364.0</td>\n",
       "      <td>840480.0</td>\n",
       "      <td>840354.0</td>\n",
       "      <td>844932.0</td>\n",
       "      <td>848041.0</td>\n",
       "      <td>851860.0</td>\n",
       "      <td>...</td>\n",
       "      <td>764479.0</td>\n",
       "      <td>762927.0</td>\n",
       "      <td>763024.0</td>\n",
       "      <td>762572.0</td>\n",
       "      <td>762335.0</td>\n",
       "      <td>762696.0</td>\n",
       "      <td>764745.0</td>\n",
       "      <td>766037.0</td>\n",
       "      <td>768289.0</td>\n",
       "      <td>769852.0</td>\n",
       "    </tr>\n",
       "    <tr>\n",
       "      <th>3</th>\n",
       "      <td>1</td>\n",
       "      <td>60614</td>\n",
       "      <td>233676.0</td>\n",
       "      <td>233681.0</td>\n",
       "      <td>234129.0</td>\n",
       "      <td>235117.0</td>\n",
       "      <td>236302.0</td>\n",
       "      <td>236381.0</td>\n",
       "      <td>236871.0</td>\n",
       "      <td>237395.0</td>\n",
       "      <td>...</td>\n",
       "      <td>246589.0</td>\n",
       "      <td>246965.0</td>\n",
       "      <td>247455.0</td>\n",
       "      <td>247958.0</td>\n",
       "      <td>248226.0</td>\n",
       "      <td>248181.0</td>\n",
       "      <td>248364.0</td>\n",
       "      <td>249036.0</td>\n",
       "      <td>250130.0</td>\n",
       "      <td>250644.0</td>\n",
       "    </tr>\n",
       "    <tr>\n",
       "      <th>4</th>\n",
       "      <td>1</td>\n",
       "      <td>77449</td>\n",
       "      <td>104257.0</td>\n",
       "      <td>105348.0</td>\n",
       "      <td>105860.0</td>\n",
       "      <td>107274.0</td>\n",
       "      <td>108457.0</td>\n",
       "      <td>109481.0</td>\n",
       "      <td>109150.0</td>\n",
       "      <td>109544.0</td>\n",
       "      <td>...</td>\n",
       "      <td>137762.0</td>\n",
       "      <td>138753.0</td>\n",
       "      <td>139456.0</td>\n",
       "      <td>140111.0</td>\n",
       "      <td>140617.0</td>\n",
       "      <td>142016.0</td>\n",
       "      <td>143976.0</td>\n",
       "      <td>146953.0</td>\n",
       "      <td>149562.0</td>\n",
       "      <td>151943.0</td>\n",
       "    </tr>\n",
       "  </tbody>\n",
       "</table>\n",
       "<p>5 rows × 75 columns</p>\n",
       "</div>"
      ],
      "text/plain": [
       "   Bedrooms Zipcode  1/31/2015  2/28/2015  3/31/2015  4/30/2015  5/31/2015  \\\n",
       "0         1   10025   687255.0   692013.0   692222.0   691676.0   690212.0   \n",
       "1         1   60657   205053.0   204925.0   205317.0   206342.0   206843.0   \n",
       "2         1   10023   832919.0   834728.0   835364.0   840480.0   840354.0   \n",
       "3         1   60614   233676.0   233681.0   234129.0   235117.0   236302.0   \n",
       "4         1   77449   104257.0   105348.0   105860.0   107274.0   108457.0   \n",
       "\n",
       "   6/30/2015  7/31/2015  8/31/2015  ...  4/30/2020  5/31/2020  6/30/2020  \\\n",
       "0   691754.0   693115.0   695782.0  ...   689319.0   688401.0   687989.0   \n",
       "1   205887.0   205218.0   205337.0  ...   217151.0   217353.0   217807.0   \n",
       "2   844932.0   848041.0   851860.0  ...   764479.0   762927.0   763024.0   \n",
       "3   236381.0   236871.0   237395.0  ...   246589.0   246965.0   247455.0   \n",
       "4   109481.0   109150.0   109544.0  ...   137762.0   138753.0   139456.0   \n",
       "\n",
       "   7/31/2020  8/31/2020  9/30/2020  10/31/2020  11/30/2020  12/31/2020  \\\n",
       "0   686916.0   685278.0   682705.0    681110.0    680490.0    681329.0   \n",
       "1   218778.0   220062.0   221396.0    222713.0    224034.0    225383.0   \n",
       "2   762572.0   762335.0   762696.0    764745.0    766037.0    768289.0   \n",
       "3   247958.0   248226.0   248181.0    248364.0    249036.0    250130.0   \n",
       "4   140111.0   140617.0   142016.0    143976.0    146953.0    149562.0   \n",
       "\n",
       "   1/31/2021  \n",
       "0   681740.0  \n",
       "1   226155.0  \n",
       "2   769852.0  \n",
       "3   250644.0  \n",
       "4   151943.0  \n",
       "\n",
       "[5 rows x 75 columns]"
      ]
     },
     "execution_count": 34,
     "metadata": {},
     "output_type": "execute_result"
    }
   ],
   "source": [
    "# good way of preloading the dtypes as opposed to doing these laterere\n",
    "median=pd.read_csv('medianSalesPrice.csv', dtype={\"Bedrooms\": int, \"RegionName\": \"string\"})\n",
    "median=median.drop(columns=['RegionID','SizeRank','RegionType','StateName','State','Metro','City','CountyName'])\n",
    "median=median.rename(columns={'RegionName':'Zipcode'})\n",
    "median.head()"
   ]
  },
  {
   "cell_type": "markdown",
   "metadata": {},
   "source": [
    "# Selecting Zip codes\n",
    "- assumption: we care for zipcode level data and are agnostic about the city\n",
    "- we have another dimension with bedrooms which needs to be taken care of in the time series side. because the bedroom value does not happen in silo, and it is not an either 1,2,3,4,5 for each day we can assume that we need to silo the data for each bedroom as well"
   ]
  },
  {
   "cell_type": "code",
   "execution_count": 21,
   "metadata": {},
   "outputs": [
    {
     "name": "stdout",
     "output_type": "stream",
     "text": [
      "Enter zipcode: 33178\n",
      "Enter zipcode: 33131\n",
      "Enter zipcode: \n"
     ]
    },
    {
     "data": {
      "text/plain": [
       "['33178', '33131']"
      ]
     },
     "execution_count": 21,
     "metadata": {},
     "output_type": "execute_result"
    }
   ],
   "source": [
    "zip_codes_study=[]\n",
    "z_code='10'\n",
    "while z_code!='':\n",
    "    z_code=input('Enter zipcode: ')\n",
    "    if z_code =='':\n",
    "        continue\n",
    "    zip_codes_study.append(z_code)\n",
    "    \n",
    "zip_codes_study"
   ]
  },
  {
   "cell_type": "code",
   "execution_count": 9,
   "metadata": {},
   "outputs": [
    {
     "ename": "TypeError",
     "evalue": "an integer is required (got type str)",
     "output_type": "error",
     "traceback": [
      "\u001b[0;31m---------------------------------------------------------------------------\u001b[0m",
      "\u001b[0;31mTypeError\u001b[0m                                 Traceback (most recent call last)",
      "\u001b[0;32m<ipython-input-9-cd2fb5f531fc>\u001b[0m in \u001b[0;36m<module>\u001b[0;34m\u001b[0m\n\u001b[0;32m----> 1\u001b[0;31m \u001b[0mdatetime\u001b[0m\u001b[0;34m.\u001b[0m\u001b[0mfromordinal\u001b[0m\u001b[0;34m(\u001b[0m\u001b[0;34m'4/30/2020'\u001b[0m\u001b[0;34m)\u001b[0m\u001b[0;34m\u001b[0m\u001b[0;34m\u001b[0m\u001b[0m\n\u001b[0m",
      "\u001b[0;31mTypeError\u001b[0m: an integer is required (got type str)"
     ]
    }
   ],
   "source": [
    "datetime.fromordinal('4/30/2020')"
   ]
  },
  {
   "cell_type": "code",
   "execution_count": 8,
   "metadata": {},
   "outputs": [
    {
     "data": {
      "text/plain": [
       "datetime.datetime(2021, 2, 1, 0, 0)"
      ]
     },
     "execution_count": 8,
     "metadata": {},
     "output_type": "execute_result"
    }
   ],
   "source": [
    "datetime.fromisoformat('2021-02-01')"
   ]
  },
  {
   "cell_type": "code",
   "execution_count": 29,
   "metadata": {},
   "outputs": [],
   "source": [
    "bedrooms= median['Bedrooms'].unique() # get the available choices in our dataset"
   ]
  },
  {
   "cell_type": "code",
   "execution_count": 43,
   "metadata": {},
   "outputs": [
    {
     "data": {
      "text/html": [
       "<div>\n",
       "<style scoped>\n",
       "    .dataframe tbody tr th:only-of-type {\n",
       "        vertical-align: middle;\n",
       "    }\n",
       "\n",
       "    .dataframe tbody tr th {\n",
       "        vertical-align: top;\n",
       "    }\n",
       "\n",
       "    .dataframe thead th {\n",
       "        text-align: right;\n",
       "    }\n",
       "</style>\n",
       "<table border=\"1\" class=\"dataframe\">\n",
       "  <thead>\n",
       "    <tr style=\"text-align: right;\">\n",
       "      <th></th>\n",
       "      <th>Bedrooms</th>\n",
       "      <th>Zipcode</th>\n",
       "      <th>1/31/2015</th>\n",
       "      <th>2/28/2015</th>\n",
       "      <th>3/31/2015</th>\n",
       "      <th>4/30/2015</th>\n",
       "      <th>5/31/2015</th>\n",
       "      <th>6/30/2015</th>\n",
       "      <th>7/31/2015</th>\n",
       "      <th>8/31/2015</th>\n",
       "      <th>...</th>\n",
       "      <th>4/30/2020</th>\n",
       "      <th>5/31/2020</th>\n",
       "      <th>6/30/2020</th>\n",
       "      <th>7/31/2020</th>\n",
       "      <th>8/31/2020</th>\n",
       "      <th>9/30/2020</th>\n",
       "      <th>10/31/2020</th>\n",
       "      <th>11/30/2020</th>\n",
       "      <th>12/31/2020</th>\n",
       "      <th>1/31/2021</th>\n",
       "    </tr>\n",
       "  </thead>\n",
       "  <tbody>\n",
       "    <tr>\n",
       "      <th>19200</th>\n",
       "      <td>2</td>\n",
       "      <td>33178</td>\n",
       "      <td>231300.0</td>\n",
       "      <td>231248.0</td>\n",
       "      <td>231027.0</td>\n",
       "      <td>231400.0</td>\n",
       "      <td>232539.0</td>\n",
       "      <td>233295.0</td>\n",
       "      <td>234073.0</td>\n",
       "      <td>234704.0</td>\n",
       "      <td>...</td>\n",
       "      <td>249556.0</td>\n",
       "      <td>249560.0</td>\n",
       "      <td>249134.0</td>\n",
       "      <td>249153.0</td>\n",
       "      <td>249559.0</td>\n",
       "      <td>250467.0</td>\n",
       "      <td>251510.0</td>\n",
       "      <td>252071.0</td>\n",
       "      <td>253238.0</td>\n",
       "      <td>254715.0</td>\n",
       "    </tr>\n",
       "  </tbody>\n",
       "</table>\n",
       "<p>1 rows × 75 columns</p>\n",
       "</div>"
      ],
      "text/plain": [
       "       Bedrooms Zipcode  1/31/2015  2/28/2015  3/31/2015  4/30/2015  \\\n",
       "19200         2   33178   231300.0   231248.0   231027.0   231400.0   \n",
       "\n",
       "       5/31/2015  6/30/2015  7/31/2015  8/31/2015  ...  4/30/2020  5/31/2020  \\\n",
       "19200   232539.0   233295.0   234073.0   234704.0  ...   249556.0   249560.0   \n",
       "\n",
       "       6/30/2020  7/31/2020  8/31/2020  9/30/2020  10/31/2020  11/30/2020  \\\n",
       "19200   249134.0   249153.0   249559.0   250467.0    251510.0    252071.0   \n",
       "\n",
       "       12/31/2020  1/31/2021  \n",
       "19200    253238.0   254715.0  \n",
       "\n",
       "[1 rows x 75 columns]"
      ]
     },
     "execution_count": 43,
     "metadata": {},
     "output_type": "execute_result"
    }
   ],
   "source": [
    "Zipcode='33178'\n",
    "bedrooms=2\n",
    "\n",
    "median.query(\"Bedrooms == @bedrooms & Zipcode==@Zipcode\")"
   ]
  },
  {
   "cell_type": "code",
   "execution_count": 48,
   "metadata": {},
   "outputs": [
    {
     "data": {
      "text/html": [
       "<div>\n",
       "<style scoped>\n",
       "    .dataframe tbody tr th:only-of-type {\n",
       "        vertical-align: middle;\n",
       "    }\n",
       "\n",
       "    .dataframe tbody tr th {\n",
       "        vertical-align: top;\n",
       "    }\n",
       "\n",
       "    .dataframe thead th {\n",
       "        text-align: right;\n",
       "    }\n",
       "</style>\n",
       "<table border=\"1\" class=\"dataframe\">\n",
       "  <thead>\n",
       "    <tr style=\"text-align: right;\">\n",
       "      <th></th>\n",
       "      <th>623</th>\n",
       "    </tr>\n",
       "  </thead>\n",
       "  <tbody>\n",
       "    <tr>\n",
       "      <th>1/31/2015</th>\n",
       "      <td>219321</td>\n",
       "    </tr>\n",
       "    <tr>\n",
       "      <th>2/28/2015</th>\n",
       "      <td>219223</td>\n",
       "    </tr>\n",
       "    <tr>\n",
       "      <th>3/31/2015</th>\n",
       "      <td>219191</td>\n",
       "    </tr>\n",
       "    <tr>\n",
       "      <th>4/30/2015</th>\n",
       "      <td>218721</td>\n",
       "    </tr>\n",
       "    <tr>\n",
       "      <th>5/31/2015</th>\n",
       "      <td>217711</td>\n",
       "    </tr>\n",
       "    <tr>\n",
       "      <th>...</th>\n",
       "      <td>...</td>\n",
       "    </tr>\n",
       "    <tr>\n",
       "      <th>9/30/2020</th>\n",
       "      <td>208198</td>\n",
       "    </tr>\n",
       "    <tr>\n",
       "      <th>10/31/2020</th>\n",
       "      <td>209419</td>\n",
       "    </tr>\n",
       "    <tr>\n",
       "      <th>11/30/2020</th>\n",
       "      <td>209805</td>\n",
       "    </tr>\n",
       "    <tr>\n",
       "      <th>12/31/2020</th>\n",
       "      <td>210270</td>\n",
       "    </tr>\n",
       "    <tr>\n",
       "      <th>1/31/2021</th>\n",
       "      <td>210640</td>\n",
       "    </tr>\n",
       "  </tbody>\n",
       "</table>\n",
       "<p>73 rows × 1 columns</p>\n",
       "</div>"
      ],
      "text/plain": [
       "               623\n",
       "1/31/2015   219321\n",
       "2/28/2015   219223\n",
       "3/31/2015   219191\n",
       "4/30/2015   218721\n",
       "5/31/2015   217711\n",
       "...            ...\n",
       "9/30/2020   208198\n",
       "10/31/2020  209419\n",
       "11/30/2020  209805\n",
       "12/31/2020  210270\n",
       "1/31/2021   210640\n",
       "\n",
       "[73 rows x 1 columns]"
      ]
     },
     "execution_count": 48,
     "metadata": {},
     "output_type": "execute_result"
    }
   ],
   "source": [
    "median.query(\"Bedrooms == 1 & Zipcode=='33178'\").T[2:]"
   ]
  },
  {
   "cell_type": "code",
   "execution_count": 64,
   "metadata": {},
   "outputs": [],
   "source": [
    "house_data_matrix={}\n",
    "for bedroom in range(1,6):\n",
    "    for zip_code in zip_codes_study:\n",
    "        house_data_matrix[zip_code+'_'+str(bedroom)]=median.query(\"Bedrooms == @bedrooms & Zipcode==@Zipcode\").T[2:].copy()\n",
    "        house_data_matrix[zip_code+'_'+str(bedroom)].index=pd.to_datetime(house_data_matrix[zip_code+'_'+str(bedroom)].index)\n",
    "        old_col=house_data_matrix[zip_code+'_'+str(bedroom)].columns[0]\n",
    "        house_data_matrix[zip_code+'_'+str(bedroom)]=house_data_matrix[zip_code+'_'+str(bedroom)].rename(columns={\n",
    "            old_col:zip_code+'_'+str(bedroom)\n",
    "        })"
   ]
  },
  {
   "cell_type": "code",
   "execution_count": 65,
   "metadata": {},
   "outputs": [
    {
     "data": {
      "text/plain": [
       "dict_keys(['33178_1', '33131_1', '33178_2', '33131_2', '33178_3', '33131_3', '33178_4', '33131_4', '33178_5', '33131_5'])"
      ]
     },
     "execution_count": 65,
     "metadata": {},
     "output_type": "execute_result"
    }
   ],
   "source": [
    "house_data_matrix.keys()"
   ]
  },
  {
   "cell_type": "code",
   "execution_count": 73,
   "metadata": {},
   "outputs": [
    {
     "data": {
      "text/html": [
       "<div>\n",
       "<style scoped>\n",
       "    .dataframe tbody tr th:only-of-type {\n",
       "        vertical-align: middle;\n",
       "    }\n",
       "\n",
       "    .dataframe tbody tr th {\n",
       "        vertical-align: top;\n",
       "    }\n",
       "\n",
       "    .dataframe thead th {\n",
       "        text-align: right;\n",
       "    }\n",
       "</style>\n",
       "<table border=\"1\" class=\"dataframe\">\n",
       "  <thead>\n",
       "    <tr style=\"text-align: right;\">\n",
       "      <th></th>\n",
       "      <th>33131_1</th>\n",
       "    </tr>\n",
       "  </thead>\n",
       "  <tbody>\n",
       "    <tr>\n",
       "      <th>count</th>\n",
       "      <td>73.0</td>\n",
       "    </tr>\n",
       "    <tr>\n",
       "      <th>unique</th>\n",
       "      <td>73.0</td>\n",
       "    </tr>\n",
       "    <tr>\n",
       "      <th>top</th>\n",
       "      <td>247678.0</td>\n",
       "    </tr>\n",
       "    <tr>\n",
       "      <th>freq</th>\n",
       "      <td>1.0</td>\n",
       "    </tr>\n",
       "  </tbody>\n",
       "</table>\n",
       "</div>"
      ],
      "text/plain": [
       "         33131_1\n",
       "count       73.0\n",
       "unique      73.0\n",
       "top     247678.0\n",
       "freq         1.0"
      ]
     },
     "execution_count": 73,
     "metadata": {},
     "output_type": "execute_result"
    }
   ],
   "source": [
    "house_data_matrix['33131_1'].describe()"
   ]
  },
  {
   "cell_type": "code",
   "execution_count": 74,
   "metadata": {},
   "outputs": [
    {
     "data": {
      "text/html": [
       "<div>\n",
       "<style scoped>\n",
       "    .dataframe tbody tr th:only-of-type {\n",
       "        vertical-align: middle;\n",
       "    }\n",
       "\n",
       "    .dataframe tbody tr th {\n",
       "        vertical-align: top;\n",
       "    }\n",
       "\n",
       "    .dataframe thead th {\n",
       "        text-align: right;\n",
       "    }\n",
       "</style>\n",
       "<table border=\"1\" class=\"dataframe\">\n",
       "  <thead>\n",
       "    <tr style=\"text-align: right;\">\n",
       "      <th></th>\n",
       "      <th>33178_1</th>\n",
       "    </tr>\n",
       "  </thead>\n",
       "  <tbody>\n",
       "    <tr>\n",
       "      <th>count</th>\n",
       "      <td>73.0</td>\n",
       "    </tr>\n",
       "    <tr>\n",
       "      <th>unique</th>\n",
       "      <td>73.0</td>\n",
       "    </tr>\n",
       "    <tr>\n",
       "      <th>top</th>\n",
       "      <td>247678.0</td>\n",
       "    </tr>\n",
       "    <tr>\n",
       "      <th>freq</th>\n",
       "      <td>1.0</td>\n",
       "    </tr>\n",
       "  </tbody>\n",
       "</table>\n",
       "</div>"
      ],
      "text/plain": [
       "         33178_1\n",
       "count       73.0\n",
       "unique      73.0\n",
       "top     247678.0\n",
       "freq         1.0"
      ]
     },
     "execution_count": 74,
     "metadata": {},
     "output_type": "execute_result"
    }
   ],
   "source": [
    "house_data_matrix['33178_1'].describe()"
   ]
  },
  {
   "cell_type": "code",
   "execution_count": 77,
   "metadata": {},
   "outputs": [
    {
     "data": {
      "text/html": [
       "<div>\n",
       "<style scoped>\n",
       "    .dataframe tbody tr th:only-of-type {\n",
       "        vertical-align: middle;\n",
       "    }\n",
       "\n",
       "    .dataframe tbody tr th {\n",
       "        vertical-align: top;\n",
       "    }\n",
       "\n",
       "    .dataframe thead th {\n",
       "        text-align: right;\n",
       "    }\n",
       "</style>\n",
       "<table border=\"1\" class=\"dataframe\">\n",
       "  <thead>\n",
       "    <tr style=\"text-align: right;\">\n",
       "      <th></th>\n",
       "      <th>33178_1</th>\n",
       "    </tr>\n",
       "  </thead>\n",
       "  <tbody>\n",
       "    <tr>\n",
       "      <th>2015-01-31</th>\n",
       "      <td>231300</td>\n",
       "    </tr>\n",
       "    <tr>\n",
       "      <th>2015-02-28</th>\n",
       "      <td>231248</td>\n",
       "    </tr>\n",
       "    <tr>\n",
       "      <th>2015-03-31</th>\n",
       "      <td>231027</td>\n",
       "    </tr>\n",
       "    <tr>\n",
       "      <th>2015-04-30</th>\n",
       "      <td>231400</td>\n",
       "    </tr>\n",
       "    <tr>\n",
       "      <th>2015-05-31</th>\n",
       "      <td>232539</td>\n",
       "    </tr>\n",
       "  </tbody>\n",
       "</table>\n",
       "</div>"
      ],
      "text/plain": [
       "           33178_1\n",
       "2015-01-31  231300\n",
       "2015-02-28  231248\n",
       "2015-03-31  231027\n",
       "2015-04-30  231400\n",
       "2015-05-31  232539"
      ]
     },
     "execution_count": 77,
     "metadata": {},
     "output_type": "execute_result"
    }
   ],
   "source": [
    "house_data_matrix['33178_1'].head()"
   ]
  },
  {
   "cell_type": "code",
   "execution_count": 79,
   "metadata": {},
   "outputs": [
    {
     "data": {
      "text/html": [
       "<div>\n",
       "<style scoped>\n",
       "    .dataframe tbody tr th:only-of-type {\n",
       "        vertical-align: middle;\n",
       "    }\n",
       "\n",
       "    .dataframe tbody tr th {\n",
       "        vertical-align: top;\n",
       "    }\n",
       "\n",
       "    .dataframe thead th {\n",
       "        text-align: right;\n",
       "    }\n",
       "</style>\n",
       "<table border=\"1\" class=\"dataframe\">\n",
       "  <thead>\n",
       "    <tr style=\"text-align: right;\">\n",
       "      <th></th>\n",
       "      <th>33178_1</th>\n",
       "    </tr>\n",
       "  </thead>\n",
       "  <tbody>\n",
       "    <tr>\n",
       "      <th>2015-01-31</th>\n",
       "      <td>231300</td>\n",
       "    </tr>\n",
       "    <tr>\n",
       "      <th>2015-02-28</th>\n",
       "      <td>231248</td>\n",
       "    </tr>\n",
       "    <tr>\n",
       "      <th>2015-03-31</th>\n",
       "      <td>231027</td>\n",
       "    </tr>\n",
       "    <tr>\n",
       "      <th>2015-04-30</th>\n",
       "      <td>231400</td>\n",
       "    </tr>\n",
       "    <tr>\n",
       "      <th>2015-05-31</th>\n",
       "      <td>232539</td>\n",
       "    </tr>\n",
       "    <tr>\n",
       "      <th>...</th>\n",
       "      <td>...</td>\n",
       "    </tr>\n",
       "    <tr>\n",
       "      <th>2019-11-30</th>\n",
       "      <td>251412</td>\n",
       "    </tr>\n",
       "    <tr>\n",
       "      <th>2019-12-31</th>\n",
       "      <td>250856</td>\n",
       "    </tr>\n",
       "    <tr>\n",
       "      <th>2020-01-31</th>\n",
       "      <td>250072</td>\n",
       "    </tr>\n",
       "    <tr>\n",
       "      <th>2020-02-29</th>\n",
       "      <td>249797</td>\n",
       "    </tr>\n",
       "    <tr>\n",
       "      <th>2020-03-31</th>\n",
       "      <td>249712</td>\n",
       "    </tr>\n",
       "  </tbody>\n",
       "</table>\n",
       "<p>63 rows × 1 columns</p>\n",
       "</div>"
      ],
      "text/plain": [
       "           33178_1\n",
       "2015-01-31  231300\n",
       "2015-02-28  231248\n",
       "2015-03-31  231027\n",
       "2015-04-30  231400\n",
       "2015-05-31  232539\n",
       "...            ...\n",
       "2019-11-30  251412\n",
       "2019-12-31  250856\n",
       "2020-01-31  250072\n",
       "2020-02-29  249797\n",
       "2020-03-31  249712\n",
       "\n",
       "[63 rows x 1 columns]"
      ]
     },
     "execution_count": 79,
     "metadata": {},
     "output_type": "execute_result"
    }
   ],
   "source": [
    "house_data_matrix['33178_1'].iloc[0:-10:]"
   ]
  },
  {
   "cell_type": "markdown",
   "metadata": {},
   "source": [
    "# Using a Time Series Model"
   ]
  },
  {
   "cell_type": "code",
   "execution_count": 100,
   "metadata": {},
   "outputs": [],
   "source": [
    "from statsmodels.tsa.holtwinters import ExponentialSmoothing\n",
    "from statsmodels.tsa.holtwinters import SimpleExpSmoothing, Holt"
   ]
  },
  {
   "cell_type": "code",
   "execution_count": 88,
   "metadata": {},
   "outputs": [
    {
     "data": {
      "text/plain": [
       "array([231300.0, 231248.0, 231027.0, 231400.0, 232539.0, 233295.0,\n",
       "       234073.0, 234704.0, 235536.0, 235838.0, 235907.0, 236571.0,\n",
       "       238428.0, 240260.0, 242119.0, 242969.0, 243468.0, 244505.0,\n",
       "       246171.0, 247160.0, 247630.0, 247493.0, 247678.0, 247470.0,\n",
       "       247310.0, 247287.0, 246769.0, 246567.0, 246759.0, 246672.0,\n",
       "       245961.0, 245757.0, 245699.0, 246489.0, 246026.0, 246185.0,\n",
       "       246049.0, 246708.0, 247412.0, 248272.0, 248505.0, 248574.0,\n",
       "       248598.0, 248880.0, 249298.0, 249367.0, 250890.0, 251579.0,\n",
       "       252491.0, 251765.0, 251513.0, 251358.0, 251397.0, 252295.0,\n",
       "       252919.0, 252916.0, 252315.0, 251740.0, 251412.0, 250856.0,\n",
       "       250072.0], dtype=object)"
      ]
     },
     "execution_count": 88,
     "metadata": {},
     "output_type": "execute_result"
    }
   ],
   "source": [
    "np.asarray(train['33178_1'])"
   ]
  },
  {
   "cell_type": "code",
   "execution_count": 106,
   "metadata": {},
   "outputs": [
    {
     "data": {
      "text/plain": [
       "array([231300.0, 231248.0, 231027.0, 231400.0, 232539.0, 233295.0,\n",
       "       234073.0, 234704.0, 235536.0, 235838.0, 235907.0, 236571.0,\n",
       "       238428.0, 240260.0, 242119.0, 242969.0, 243468.0, 244505.0,\n",
       "       246171.0, 247160.0, 247630.0, 247493.0, 247678.0, 247470.0,\n",
       "       247310.0, 247287.0, 246769.0, 246567.0, 246759.0, 246672.0,\n",
       "       245961.0, 245757.0, 245699.0, 246489.0, 246026.0, 246185.0,\n",
       "       246049.0, 246708.0, 247412.0, 248272.0, 248505.0, 248574.0,\n",
       "       248598.0, 248880.0, 249298.0, 249367.0, 250890.0, 251579.0,\n",
       "       252491.0, 251765.0, 251513.0, 251358.0, 251397.0, 252295.0,\n",
       "       252919.0, 252916.0, 252315.0, 251740.0, 251412.0, 250856.0,\n",
       "       250072.0], dtype=object)"
      ]
     },
     "execution_count": 106,
     "metadata": {},
     "output_type": "execute_result"
    }
   ],
   "source": [
    "train.values.ravel()"
   ]
  },
  {
   "cell_type": "code",
   "execution_count": 108,
   "metadata": {},
   "outputs": [
    {
     "data": {
      "text/plain": [
       "2015-01-31    231300\n",
       "2015-02-28    231248\n",
       "2015-03-31    231027\n",
       "2015-04-30    231400\n",
       "2015-05-31    232539\n",
       "               ...  \n",
       "2019-09-30    252315\n",
       "2019-10-31    251740\n",
       "2019-11-30    251412\n",
       "2019-12-31    250856\n",
       "2020-01-31    250072\n",
       "Length: 61, dtype: object"
      ]
     },
     "execution_count": 108,
     "metadata": {},
     "output_type": "execute_result"
    }
   ],
   "source": [
    "pd.Series(train.values.ravel(),train.index)"
   ]
  },
  {
   "cell_type": "code",
   "execution_count": 221,
   "metadata": {},
   "outputs": [
    {
     "name": "stderr",
     "output_type": "stream",
     "text": [
      "/home/jalfonso/anaconda3/envs/PythonTime/lib/python3.7/site-packages/statsmodels/tsa/holtwinters/model.py:429: FutureWarning: After 0.13 initialization must be handled at model creation\n",
      "  FutureWarning,\n",
      "/home/jalfonso/anaconda3/envs/PythonTime/lib/python3.7/site-packages/statsmodels/tsa/holtwinters/model.py:80: RuntimeWarning: overflow encountered in matmul\n",
      "  return err.T @ err\n",
      "/home/jalfonso/anaconda3/envs/PythonTime/lib/python3.7/site-packages/statsmodels/tsa/holtwinters/model.py:922: ConvergenceWarning: Optimization failed to converge. Check mle_retvals.\n",
      "  ConvergenceWarning,\n"
     ]
    }
   ],
   "source": [
    "num_months=12 # you can change this is you want for your model\n",
    "\n",
    "zip_bdr='33178_1'\n",
    "\n",
    "\n",
    "train = house_data_matrix[zip_bdr].iloc[0:-num_months, :]  # if you wish to predict another series, then chg\n",
    "test = house_data_matrix[zip_bdr].iloc[-num_months:, :]\n",
    "train.index = pd.to_datetime(train.index)\n",
    "test.index = pd.to_datetime(test.index)\n",
    "\n",
    "train_eval=train.copy()\n",
    "pred = test.copy() # this way do not need to create an eval dataframe, just populate\n",
    "\n",
    "# model = SimpleExpSmoothing(np.asarray(train['data']))\n",
    "# model._index = pd.to_datetime(train.index)\n",
    "\n",
    "exp_model = ExponentialSmoothing(np.asarray(train[zip_bdr]), trend='mul', seasonal=None)\n",
    "# model2 = ExponentialSmoothing(np.asarray(train['data']), trend='mul', seasonal=None, damped=True)\n",
    "# model._index = pd.to_datetime(train.index)\n",
    "exp_model_fit = exp_model.fit()\n",
    "\n",
    "holt_model_fit = Holt(np.asarray(train[zip_bdr]), exponential=True, initialization_method=\"estimated\").fit(smoothing_level=0.8, smoothing_trend=0.2, optimized=False)\n"
   ]
  },
  {
   "cell_type": "code",
   "execution_count": 161,
   "metadata": {},
   "outputs": [
    {
     "data": {
      "text/html": [
       "<table class=\"simpletable\">\n",
       "<caption>ExponentialSmoothing Model Results</caption>\n",
       "<tr>\n",
       "  <th>Dep. Variable:</th>            <td>endog</td>        <th>  No. Observations:  </th>        <td>61</td>       \n",
       "</tr>\n",
       "<tr>\n",
       "  <th>Model:</th>            <td>ExponentialSmoothing</td> <th>  SSE                </th>   <td>18653064.198</td>  \n",
       "</tr>\n",
       "<tr>\n",
       "  <th>Optimized:</th>                <td>True</td>         <th>  AIC                </th>      <td>778.469</td>    \n",
       "</tr>\n",
       "<tr>\n",
       "  <th>Trend:</th>               <td>Multiplicative</td>    <th>  BIC                </th>      <td>786.913</td>    \n",
       "</tr>\n",
       "<tr>\n",
       "  <th>Seasonal:</th>                 <td>None</td>         <th>  AICC               </th>      <td>780.025</td>    \n",
       "</tr>\n",
       "<tr>\n",
       "  <th>Seasonal Periods:</th>         <td>None</td>         <th>  Date:              </th> <td>Sun, 07 Mar 2021</td>\n",
       "</tr>\n",
       "<tr>\n",
       "  <th>Box-Cox:</th>                  <td>False</td>        <th>  Time:              </th>     <td>13:24:19</td>    \n",
       "</tr>\n",
       "<tr>\n",
       "  <th>Box-Cox Coeff.:</th>           <td>None</td>         <th>                     </th>         <td> </td>       \n",
       "</tr>\n",
       "</table>\n",
       "<table class=\"simpletable\">\n",
       "<tr>\n",
       "         <td></td>                 <th>coeff</th>                <th>code</th>               <th>optimized</th>     \n",
       "</tr>\n",
       "<tr>\n",
       "  <th>smoothing_level</th> <td>           0.9950000</td> <td>               alpha</td> <td>                True</td>\n",
       "</tr>\n",
       "<tr>\n",
       "  <th>smoothing_trend</th> <td>           0.6870238</td> <td>                beta</td> <td>                True</td>\n",
       "</tr>\n",
       "<tr>\n",
       "  <th>initial_level</th>   <td>           2.313e+05</td> <td>                 l.0</td> <td>                True</td>\n",
       "</tr>\n",
       "<tr>\n",
       "  <th>initial_trend</th>   <td>           1.0019611</td> <td>                 b.0</td> <td>                True</td>\n",
       "</tr>\n",
       "</table>"
      ],
      "text/plain": [
       "<class 'statsmodels.iolib.summary.Summary'>\n",
       "\"\"\"\n",
       "                       ExponentialSmoothing Model Results                       \n",
       "================================================================================\n",
       "Dep. Variable:                    endog   No. Observations:                   61\n",
       "Model:             ExponentialSmoothing   SSE                       18653064.198\n",
       "Optimized:                         True   AIC                            778.469\n",
       "Trend:                   Multiplicative   BIC                            786.913\n",
       "Seasonal:                          None   AICC                           780.025\n",
       "Seasonal Periods:                  None   Date:                 Sun, 07 Mar 2021\n",
       "Box-Cox:                          False   Time:                         13:24:19\n",
       "Box-Cox Coeff.:                    None                                         \n",
       "==============================================================================\n",
       "                       coeff                 code              optimized      \n",
       "------------------------------------------------------------------------------\n",
       "smoothing_level            0.9950000                alpha                 True\n",
       "smoothing_trend            0.6870238                 beta                 True\n",
       "initial_level              2.313e+05                  l.0                 True\n",
       "initial_trend              1.0019611                  b.0                 True\n",
       "------------------------------------------------------------------------------\n",
       "\"\"\""
      ]
     },
     "execution_count": 161,
     "metadata": {},
     "output_type": "execute_result"
    }
   ],
   "source": [
    "exp_model_fit.summary()"
   ]
  },
  {
   "cell_type": "code",
   "execution_count": 222,
   "metadata": {},
   "outputs": [
    {
     "data": {
      "text/plain": [
       "(array([249926.59557764, 249636.83946933, 249347.41929405, 249058.33466236,\n",
       "        248769.58518522, 248481.17047408, 248193.09014081, 247905.34379775,\n",
       "        247617.93105768, 247330.85153385, 247044.10483991, 246757.69059002]),\n",
       " array([249380.86865243, 248690.23104922, 248001.50610395, 247314.68851969,\n",
       "        246629.77301418, 245946.75431978, 245265.62718345, 244586.38636669,\n",
       "        243909.02664551, 243233.54281038, 242559.92966622, 241888.18203231]))"
      ]
     },
     "execution_count": 222,
     "metadata": {},
     "output_type": "execute_result"
    }
   ],
   "source": [
    "holt_model_fit.forecast(num_months),exp_model_fit.forecast(num_months)"
   ]
  },
  {
   "cell_type": "code",
   "execution_count": 223,
   "metadata": {},
   "outputs": [
    {
     "data": {
      "text/html": [
       "<table class=\"simpletable\">\n",
       "<caption>Holt Model Results</caption>\n",
       "<tr>\n",
       "  <th>Dep. Variable:</th>         <td>endog</td>     <th>  No. Observations:  </th>        <td>61</td>       \n",
       "</tr>\n",
       "<tr>\n",
       "  <th>Model:</th>                 <td>Holt</td>      <th>  SSE                </th>   <td>27420087.637</td>  \n",
       "</tr>\n",
       "<tr>\n",
       "  <th>Optimized:</th>             <td>False</td>     <th>  AIC                </th>      <td>801.971</td>    \n",
       "</tr>\n",
       "<tr>\n",
       "  <th>Trend:</th>            <td>Multiplicative</td> <th>  BIC                </th>      <td>810.414</td>    \n",
       "</tr>\n",
       "<tr>\n",
       "  <th>Seasonal:</th>              <td>None</td>      <th>  AICC               </th>      <td>803.526</td>    \n",
       "</tr>\n",
       "<tr>\n",
       "  <th>Seasonal Periods:</th>      <td>None</td>      <th>  Date:              </th> <td>Sun, 07 Mar 2021</td>\n",
       "</tr>\n",
       "<tr>\n",
       "  <th>Box-Cox:</th>               <td>False</td>     <th>  Time:              </th>     <td>14:22:58</td>    \n",
       "</tr>\n",
       "<tr>\n",
       "  <th>Box-Cox Coeff.:</th>        <td>None</td>      <th>                     </th>         <td> </td>       \n",
       "</tr>\n",
       "</table>\n",
       "<table class=\"simpletable\">\n",
       "<tr>\n",
       "         <td></td>                 <th>coeff</th>                <th>code</th>               <th>optimized</th>     \n",
       "</tr>\n",
       "<tr>\n",
       "  <th>smoothing_level</th> <td>           0.8000000</td> <td>               alpha</td> <td>               False</td>\n",
       "</tr>\n",
       "<tr>\n",
       "  <th>smoothing_trend</th> <td>           0.2000000</td> <td>                beta</td> <td>               False</td>\n",
       "</tr>\n",
       "<tr>\n",
       "  <th>initial_level</th>   <td>          2.2983e+05</td> <td>                 l.0</td> <td>               False</td>\n",
       "</tr>\n",
       "<tr>\n",
       "  <th>initial_trend</th>   <td>           1.0025847</td> <td>                 b.0</td> <td>               False</td>\n",
       "</tr>\n",
       "</table>"
      ],
      "text/plain": [
       "<class 'statsmodels.iolib.summary.Summary'>\n",
       "\"\"\"\n",
       "                              Holt Model Results                              \n",
       "==============================================================================\n",
       "Dep. Variable:                  endog   No. Observations:                   61\n",
       "Model:                           Holt   SSE                       27420087.637\n",
       "Optimized:                      False   AIC                            801.971\n",
       "Trend:                 Multiplicative   BIC                            810.414\n",
       "Seasonal:                        None   AICC                           803.526\n",
       "Seasonal Periods:                None   Date:                 Sun, 07 Mar 2021\n",
       "Box-Cox:                        False   Time:                         14:22:58\n",
       "Box-Cox Coeff.:                  None                                         \n",
       "==============================================================================\n",
       "                       coeff                 code              optimized      \n",
       "------------------------------------------------------------------------------\n",
       "smoothing_level            0.8000000                alpha                False\n",
       "smoothing_trend            0.2000000                 beta                False\n",
       "initial_level             2.2983e+05                  l.0                False\n",
       "initial_trend              1.0025847                  b.0                False\n",
       "------------------------------------------------------------------------------\n",
       "\"\"\""
      ]
     },
     "execution_count": 223,
     "metadata": {},
     "output_type": "execute_result"
    }
   ],
   "source": [
    "holt_model_fit.summary()"
   ]
  },
  {
   "cell_type": "code",
   "execution_count": 224,
   "metadata": {},
   "outputs": [],
   "source": [
    "train_eval['exp_model']=exp_model_fit.fittedvalues\n",
    "train_eval['holt_model']=holt_model_fit.fittedvalues"
   ]
  },
  {
   "cell_type": "code",
   "execution_count": 225,
   "metadata": {},
   "outputs": [],
   "source": [
    "pred['exp_model']=exp_model_fit.forecast(num_months)\n",
    "pred['holt_model']=holt_model_fit.forecast(num_months)"
   ]
  },
  {
   "cell_type": "code",
   "execution_count": 226,
   "metadata": {},
   "outputs": [
    {
     "data": {
      "text/plain": [
       "['Solarize_Light2',\n",
       " '_classic_test_patch',\n",
       " 'bmh',\n",
       " 'classic',\n",
       " 'dark_background',\n",
       " 'fast',\n",
       " 'fivethirtyeight',\n",
       " 'ggplot',\n",
       " 'grayscale',\n",
       " 'seaborn',\n",
       " 'seaborn-bright',\n",
       " 'seaborn-colorblind',\n",
       " 'seaborn-dark',\n",
       " 'seaborn-dark-palette',\n",
       " 'seaborn-darkgrid',\n",
       " 'seaborn-deep',\n",
       " 'seaborn-muted',\n",
       " 'seaborn-notebook',\n",
       " 'seaborn-paper',\n",
       " 'seaborn-pastel',\n",
       " 'seaborn-poster',\n",
       " 'seaborn-talk',\n",
       " 'seaborn-ticks',\n",
       " 'seaborn-white',\n",
       " 'seaborn-whitegrid',\n",
       " 'tableau-colorblind10']"
      ]
     },
     "execution_count": 226,
     "metadata": {},
     "output_type": "execute_result"
    }
   ],
   "source": [
    "plt.style.available"
   ]
  },
  {
   "cell_type": "code",
   "execution_count": 227,
   "metadata": {},
   "outputs": [],
   "source": [
    "plt.style.use('seaborn-notebook')"
   ]
  },
  {
   "cell_type": "code",
   "execution_count": 228,
   "metadata": {},
   "outputs": [
    {
     "data": {
      "text/plain": [
       "Text(0, 0.5, 'Home Value: 33178_1')"
      ]
     },
     "execution_count": 228,
     "metadata": {},
     "output_type": "execute_result"
    },
    {
     "data": {
      "image/png": "[encoded data removed]",
      "text/plain": [
       "<Figure size 720x576 with 1 Axes>"
      ]
     },
     "metadata": {},
     "output_type": "display_data"
    }
   ],
   "source": [
    "fig, ax = plt.subplots(1, figsize=(10, 8))\n",
    "ax.plot(train_eval.index,train_eval[zip_bdr],label='real data',color='#2e4053',linewidth=3)\n",
    "ax.plot(train_eval.index,train_eval['exp_model'],label='ExpMA',color='#af7ac5',linewidth=2)\n",
    "ax.plot(train_eval.index,train_eval['holt_model'],label='Holt',color='#e67e22',linewidth=2)\n",
    "plt.title(f'Model Evaluation\\n{train.columns[0]}')\n",
    "#plot the predictions\n",
    "ax.plot(pred.index,pred[zip_bdr],color='#2e4053',linewidth=3)\n",
    "ax.plot(pred.index,pred.exp_model,label='ExpMA',color='#af7ac5',linewidth=2,linestyle='-.',alpha=0.5)\n",
    "ax.plot(pred.index,pred.holt_model,label='Holt',color='#e67e22',linewidth=2,linestyle='-.',alpha=0.5)\n",
    "plt.legend(loc='best')\n",
    "ax.yaxis.set_major_formatter(mpl.ticker.StrMethodFormatter('{x:,.0f}'))\n",
    "ax.set_ylabel(f'Home Value: {train.columns[0]}')"
   ]
  },
  {
   "cell_type": "markdown",
   "metadata": {},
   "source": [
    "# Question for you\n",
    "- why would Exponential moving average be worse for your model?\n",
    "- where would exponential make more sense for you?"
   ]
  },
  {
   "cell_type": "code",
   "execution_count": 218,
   "metadata": {},
   "outputs": [],
   "source": [
    "# holt_model_fit.params"
   ]
  },
  {
   "cell_type": "code",
   "execution_count": null,
   "metadata": {},
   "outputs": [],
   "source": []
  }
 ],
 "metadata": {
  "kernelspec": {
   "display_name": "Python 3",
   "language": "python",
   "name": "python3"
  },
  "language_info": {
   "codemirror_mode": {
    "name": "ipython",
    "version": 3
   },
   "file_extension": ".py",
   "mimetype": "text/x-python",
   "name": "python",
   "nbconvert_exporter": "python",
   "pygments_lexer": "ipython3",
   "version": "3.7.9"
  },
  "varInspector": {
   "cols": {
    "lenName": 16,
    "lenType": 16,
    "lenVar": 40
   },
   "kernels_config": {
    "python": {
     "delete_cmd_postfix": "",
     "delete_cmd_prefix": "del ",
     "library": "var_list.py",
     "varRefreshCmd": "print(var_dic_list())"
    },
    "r": {
     "delete_cmd_postfix": ") ",
     "delete_cmd_prefix": "rm(",
     "library": "var_list.r",
     "varRefreshCmd": "cat(var_dic_list()) "
    }
   },
   "types_to_exclude": [
    "module",
    "function",
    "builtin_function_or_method",
    "instance",
    "_Feature"
   ],
   "window_display": false
  }
 },
 "nbformat": 4,
 "nbformat_minor": 5
}
