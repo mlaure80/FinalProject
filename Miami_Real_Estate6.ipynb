{
 "cells": [
  {
   "cell_type": "code",
   "execution_count": 2,
   "metadata": {},
   "outputs": [],
   "source": [
    "import pycaret\n",
    "from matplotlib import pyplot as plt\n",
    "import os\n",
    "import pandas as pd\n",
    "import numpy as np\n",
    "from sklearn import linear_model\n",
    "from sklearn.metrics import mean_squared_error,r2_score\n",
    "from sklearn.model_selection import train_test_split\n",
    "# visualization libraries\n",
    "import seaborn as sns\n",
    "from fbprophet import Prophet"
   ]
  },
  {
   "cell_type": "code",
   "execution_count": 28,
   "metadata": {},
   "outputs": [],
   "source": [
    "median=pd.read_csv('medianSalesPrice2.csv', dtype={\"Bedrooms\": \"string\"})"
   ]
  },
  {
   "cell_type": "code",
   "execution_count": 27,
   "metadata": {},
   "outputs": [
    {
     "ename": "KeyError",
     "evalue": "'RegionName'",
     "output_type": "error",
     "traceback": [
      "\u001b[1;31m---------------------------------------------------------------------------\u001b[0m",
      "\u001b[1;31mKeyError\u001b[0m                                  Traceback (most recent call last)",
      "\u001b[1;32mC:\\users\\betan\\anaconda3\\envs\\PythonTime\\lib\\site-packages\\pandas\\core\\indexes\\base.py\u001b[0m in \u001b[0;36mget_loc\u001b[1;34m(self, key, method, tolerance)\u001b[0m\n\u001b[0;32m   2894\u001b[0m             \u001b[1;32mtry\u001b[0m\u001b[1;33m:\u001b[0m\u001b[1;33m\u001b[0m\u001b[1;33m\u001b[0m\u001b[0m\n\u001b[1;32m-> 2895\u001b[1;33m                 \u001b[1;32mreturn\u001b[0m \u001b[0mself\u001b[0m\u001b[1;33m.\u001b[0m\u001b[0m_engine\u001b[0m\u001b[1;33m.\u001b[0m\u001b[0mget_loc\u001b[0m\u001b[1;33m(\u001b[0m\u001b[0mcasted_key\u001b[0m\u001b[1;33m)\u001b[0m\u001b[1;33m\u001b[0m\u001b[1;33m\u001b[0m\u001b[0m\n\u001b[0m\u001b[0;32m   2896\u001b[0m             \u001b[1;32mexcept\u001b[0m \u001b[0mKeyError\u001b[0m \u001b[1;32mas\u001b[0m \u001b[0merr\u001b[0m\u001b[1;33m:\u001b[0m\u001b[1;33m\u001b[0m\u001b[1;33m\u001b[0m\u001b[0m\n",
      "\u001b[1;32mpandas\\_libs\\index.pyx\u001b[0m in \u001b[0;36mpandas._libs.index.IndexEngine.get_loc\u001b[1;34m()\u001b[0m\n",
      "\u001b[1;32mpandas\\_libs\\index.pyx\u001b[0m in \u001b[0;36mpandas._libs.index.IndexEngine.get_loc\u001b[1;34m()\u001b[0m\n",
      "\u001b[1;32mpandas\\_libs\\hashtable_class_helper.pxi\u001b[0m in \u001b[0;36mpandas._libs.hashtable.PyObjectHashTable.get_item\u001b[1;34m()\u001b[0m\n",
      "\u001b[1;32mpandas\\_libs\\hashtable_class_helper.pxi\u001b[0m in \u001b[0;36mpandas._libs.hashtable.PyObjectHashTable.get_item\u001b[1;34m()\u001b[0m\n",
      "\u001b[1;31mKeyError\u001b[0m: 'RegionName'",
      "\nThe above exception was the direct cause of the following exception:\n",
      "\u001b[1;31mKeyError\u001b[0m                                  Traceback (most recent call last)",
      "\u001b[1;32m<ipython-input-27-f476c31a03e9>\u001b[0m in \u001b[0;36m<module>\u001b[1;34m\u001b[0m\n\u001b[1;32m----> 1\u001b[1;33m \u001b[0mmedian\u001b[0m\u001b[1;33m=\u001b[0m \u001b[0mmedian\u001b[0m\u001b[1;33m.\u001b[0m\u001b[0mloc\u001b[0m\u001b[1;33m[\u001b[0m\u001b[0mmedian\u001b[0m\u001b[1;33m[\u001b[0m\u001b[1;34m'RegionName'\u001b[0m\u001b[1;33m]\u001b[0m \u001b[1;33m==\u001b[0m \u001b[1;34m'33178'\u001b[0m\u001b[1;33m]\u001b[0m\u001b[1;33m\u001b[0m\u001b[1;33m\u001b[0m\u001b[0m\n\u001b[0m\u001b[0;32m      2\u001b[0m \u001b[0mmedian\u001b[0m\u001b[1;33m=\u001b[0m\u001b[0mmedian\u001b[0m\u001b[1;33m.\u001b[0m\u001b[0mdrop\u001b[0m\u001b[1;33m(\u001b[0m\u001b[0mcolumns\u001b[0m\u001b[1;33m=\u001b[0m\u001b[1;33m[\u001b[0m\u001b[1;34m'RegionID'\u001b[0m\u001b[1;33m,\u001b[0m\u001b[1;34m'SizeRank'\u001b[0m\u001b[1;33m,\u001b[0m\u001b[1;34m'RegionType'\u001b[0m\u001b[1;33m,\u001b[0m\u001b[1;34m'StateName'\u001b[0m\u001b[1;33m,\u001b[0m\u001b[1;34m'State'\u001b[0m\u001b[1;33m,\u001b[0m\u001b[1;34m'Metro'\u001b[0m\u001b[1;33m,\u001b[0m\u001b[1;34m'City'\u001b[0m\u001b[1;33m,\u001b[0m\u001b[1;34m'CountyName'\u001b[0m\u001b[1;33m,\u001b[0m\u001b[1;34m'RegionName'\u001b[0m\u001b[1;33m]\u001b[0m\u001b[1;33m)\u001b[0m\u001b[1;33m\u001b[0m\u001b[1;33m\u001b[0m\u001b[0m\n",
      "\u001b[1;32mC:\\users\\betan\\anaconda3\\envs\\PythonTime\\lib\\site-packages\\pandas\\core\\frame.py\u001b[0m in \u001b[0;36m__getitem__\u001b[1;34m(self, key)\u001b[0m\n\u001b[0;32m   2900\u001b[0m             \u001b[1;32mif\u001b[0m \u001b[0mself\u001b[0m\u001b[1;33m.\u001b[0m\u001b[0mcolumns\u001b[0m\u001b[1;33m.\u001b[0m\u001b[0mnlevels\u001b[0m \u001b[1;33m>\u001b[0m \u001b[1;36m1\u001b[0m\u001b[1;33m:\u001b[0m\u001b[1;33m\u001b[0m\u001b[1;33m\u001b[0m\u001b[0m\n\u001b[0;32m   2901\u001b[0m                 \u001b[1;32mreturn\u001b[0m \u001b[0mself\u001b[0m\u001b[1;33m.\u001b[0m\u001b[0m_getitem_multilevel\u001b[0m\u001b[1;33m(\u001b[0m\u001b[0mkey\u001b[0m\u001b[1;33m)\u001b[0m\u001b[1;33m\u001b[0m\u001b[1;33m\u001b[0m\u001b[0m\n\u001b[1;32m-> 2902\u001b[1;33m             \u001b[0mindexer\u001b[0m \u001b[1;33m=\u001b[0m \u001b[0mself\u001b[0m\u001b[1;33m.\u001b[0m\u001b[0mcolumns\u001b[0m\u001b[1;33m.\u001b[0m\u001b[0mget_loc\u001b[0m\u001b[1;33m(\u001b[0m\u001b[0mkey\u001b[0m\u001b[1;33m)\u001b[0m\u001b[1;33m\u001b[0m\u001b[1;33m\u001b[0m\u001b[0m\n\u001b[0m\u001b[0;32m   2903\u001b[0m             \u001b[1;32mif\u001b[0m \u001b[0mis_integer\u001b[0m\u001b[1;33m(\u001b[0m\u001b[0mindexer\u001b[0m\u001b[1;33m)\u001b[0m\u001b[1;33m:\u001b[0m\u001b[1;33m\u001b[0m\u001b[1;33m\u001b[0m\u001b[0m\n\u001b[0;32m   2904\u001b[0m                 \u001b[0mindexer\u001b[0m \u001b[1;33m=\u001b[0m \u001b[1;33m[\u001b[0m\u001b[0mindexer\u001b[0m\u001b[1;33m]\u001b[0m\u001b[1;33m\u001b[0m\u001b[1;33m\u001b[0m\u001b[0m\n",
      "\u001b[1;32mC:\\users\\betan\\anaconda3\\envs\\PythonTime\\lib\\site-packages\\pandas\\core\\indexes\\base.py\u001b[0m in \u001b[0;36mget_loc\u001b[1;34m(self, key, method, tolerance)\u001b[0m\n\u001b[0;32m   2895\u001b[0m                 \u001b[1;32mreturn\u001b[0m \u001b[0mself\u001b[0m\u001b[1;33m.\u001b[0m\u001b[0m_engine\u001b[0m\u001b[1;33m.\u001b[0m\u001b[0mget_loc\u001b[0m\u001b[1;33m(\u001b[0m\u001b[0mcasted_key\u001b[0m\u001b[1;33m)\u001b[0m\u001b[1;33m\u001b[0m\u001b[1;33m\u001b[0m\u001b[0m\n\u001b[0;32m   2896\u001b[0m             \u001b[1;32mexcept\u001b[0m \u001b[0mKeyError\u001b[0m \u001b[1;32mas\u001b[0m \u001b[0merr\u001b[0m\u001b[1;33m:\u001b[0m\u001b[1;33m\u001b[0m\u001b[1;33m\u001b[0m\u001b[0m\n\u001b[1;32m-> 2897\u001b[1;33m                 \u001b[1;32mraise\u001b[0m \u001b[0mKeyError\u001b[0m\u001b[1;33m(\u001b[0m\u001b[0mkey\u001b[0m\u001b[1;33m)\u001b[0m \u001b[1;32mfrom\u001b[0m \u001b[0merr\u001b[0m\u001b[1;33m\u001b[0m\u001b[1;33m\u001b[0m\u001b[0m\n\u001b[0m\u001b[0;32m   2898\u001b[0m \u001b[1;33m\u001b[0m\u001b[0m\n\u001b[0;32m   2899\u001b[0m         \u001b[1;32mif\u001b[0m \u001b[0mtolerance\u001b[0m \u001b[1;32mis\u001b[0m \u001b[1;32mnot\u001b[0m \u001b[1;32mNone\u001b[0m\u001b[1;33m:\u001b[0m\u001b[1;33m\u001b[0m\u001b[1;33m\u001b[0m\u001b[0m\n",
      "\u001b[1;31mKeyError\u001b[0m: 'RegionName'"
     ]
    }
   ],
   "source": [
    "median= median.loc[median['RegionName'] == '33178']\n",
    "median=median.drop(columns=['RegionID','SizeRank','RegionType','StateName','State','Metro','City','CountyName','RegionName'])\n"
   ]
  },
  {
   "cell_type": "code",
   "execution_count": 29,
   "metadata": {},
   "outputs": [
    {
     "data": {
      "text/plain": [
       "Bedrooms    string\n",
       "Values      object\n",
       "Total        int64\n",
       "dtype: object"
      ]
     },
     "execution_count": 29,
     "metadata": {},
     "output_type": "execute_result"
    }
   ],
   "source": [
    "median.dtypes"
   ]
  },
  {
   "cell_type": "code",
   "execution_count": 30,
   "metadata": {},
   "outputs": [],
   "source": [
    "median = median.fillna(0)"
   ]
  },
  {
   "cell_type": "code",
   "execution_count": 31,
   "metadata": {},
   "outputs": [
    {
     "data": {
      "text/plain": [
       "Series([], dtype: float64)"
      ]
     },
     "execution_count": 31,
     "metadata": {},
     "output_type": "execute_result"
    }
   ],
   "source": [
    "null_columns=median.columns[median.isnull().any()]\n",
    "median[null_columns].isnull().sum()"
   ]
  },
  {
   "cell_type": "code",
   "execution_count": 32,
   "metadata": {},
   "outputs": [],
   "source": [
    "#medianMelt= pd.melt(median, id_vars=['Bedrooms'])"
   ]
  },
  {
   "cell_type": "code",
   "execution_count": 33,
   "metadata": {},
   "outputs": [],
   "source": [
    "median.rename(columns = {'Values': 'date'}, inplace = True)"
   ]
  },
  {
   "cell_type": "code",
   "execution_count": 34,
   "metadata": {},
   "outputs": [],
   "source": [
    "median['date']=pd.to_datetime(median['date'])"
   ]
  },
  {
   "cell_type": "code",
   "execution_count": 35,
   "metadata": {},
   "outputs": [],
   "source": [
    "# medianMelt2=medianMelt.drop(columns=['CountyName','date'])\n",
    "median=median.drop(columns=['date'])"
   ]
  },
  {
   "cell_type": "code",
   "execution_count": 36,
   "metadata": {},
   "outputs": [
    {
     "data": {
      "text/html": [
       "<div>\n",
       "<style scoped>\n",
       "    .dataframe tbody tr th:only-of-type {\n",
       "        vertical-align: middle;\n",
       "    }\n",
       "\n",
       "    .dataframe tbody tr th {\n",
       "        vertical-align: top;\n",
       "    }\n",
       "\n",
       "    .dataframe thead th {\n",
       "        text-align: right;\n",
       "    }\n",
       "</style>\n",
       "<table border=\"1\" class=\"dataframe\">\n",
       "  <thead>\n",
       "    <tr style=\"text-align: right;\">\n",
       "      <th></th>\n",
       "      <th>Bedrooms</th>\n",
       "      <th>Total</th>\n",
       "    </tr>\n",
       "  </thead>\n",
       "  <tbody>\n",
       "    <tr>\n",
       "      <th>0</th>\n",
       "      <td>1</td>\n",
       "      <td>219321</td>\n",
       "    </tr>\n",
       "    <tr>\n",
       "      <th>1</th>\n",
       "      <td>1</td>\n",
       "      <td>219223</td>\n",
       "    </tr>\n",
       "    <tr>\n",
       "      <th>2</th>\n",
       "      <td>1</td>\n",
       "      <td>219191</td>\n",
       "    </tr>\n",
       "    <tr>\n",
       "      <th>3</th>\n",
       "      <td>1</td>\n",
       "      <td>218721</td>\n",
       "    </tr>\n",
       "    <tr>\n",
       "      <th>4</th>\n",
       "      <td>1</td>\n",
       "      <td>217711</td>\n",
       "    </tr>\n",
       "    <tr>\n",
       "      <th>...</th>\n",
       "      <td>...</td>\n",
       "      <td>...</td>\n",
       "    </tr>\n",
       "    <tr>\n",
       "      <th>360</th>\n",
       "      <td>5</td>\n",
       "      <td>701111</td>\n",
       "    </tr>\n",
       "    <tr>\n",
       "      <th>361</th>\n",
       "      <td>5</td>\n",
       "      <td>703419</td>\n",
       "    </tr>\n",
       "    <tr>\n",
       "      <th>362</th>\n",
       "      <td>5</td>\n",
       "      <td>706214</td>\n",
       "    </tr>\n",
       "    <tr>\n",
       "      <th>363</th>\n",
       "      <td>5</td>\n",
       "      <td>709939</td>\n",
       "    </tr>\n",
       "    <tr>\n",
       "      <th>364</th>\n",
       "      <td>5</td>\n",
       "      <td>714459</td>\n",
       "    </tr>\n",
       "  </tbody>\n",
       "</table>\n",
       "<p>365 rows × 2 columns</p>\n",
       "</div>"
      ],
      "text/plain": [
       "    Bedrooms   Total\n",
       "0          1  219321\n",
       "1          1  219223\n",
       "2          1  219191\n",
       "3          1  218721\n",
       "4          1  217711\n",
       "..       ...     ...\n",
       "360        5  701111\n",
       "361        5  703419\n",
       "362        5  706214\n",
       "363        5  709939\n",
       "364        5  714459\n",
       "\n",
       "[365 rows x 2 columns]"
      ]
     },
     "execution_count": 36,
     "metadata": {},
     "output_type": "execute_result"
    }
   ],
   "source": [
    "median"
   ]
  },
  {
   "cell_type": "code",
   "execution_count": 37,
   "metadata": {},
   "outputs": [],
   "source": [
    "from pycaret.classification import setup\n",
    "from pycaret.classification import tune_model\n",
    "from pycaret.classification import compare_models, create_model,plot_model, predict_model"
   ]
  },
  {
   "cell_type": "code",
   "execution_count": 38,
   "metadata": {},
   "outputs": [],
   "source": [
    "#median = median.loc[median['date'] >= '2020-01-31']"
   ]
  },
  {
   "cell_type": "code",
   "execution_count": 39,
   "metadata": {},
   "outputs": [],
   "source": [
    "#medianMelt2=medianMelt2[['Bedrooms','City','value']]"
   ]
  },
  {
   "cell_type": "code",
   "execution_count": 40,
   "metadata": {},
   "outputs": [],
   "source": [
    "# medianMelt2=medianMelt2.reset_index(drop=True)\n",
    "# medianMelt2"
   ]
  },
  {
   "cell_type": "code",
   "execution_count": 16,
   "metadata": {},
   "outputs": [
    {
     "data": {
      "text/plain": [
       "5    73\n",
       "4    73\n",
       "3    73\n",
       "2    73\n",
       "1    73\n",
       "Name: Bedrooms, dtype: int64"
      ]
     },
     "execution_count": 16,
     "metadata": {},
     "output_type": "execute_result"
    }
   ],
   "source": [
    "medianMelt['Bedrooms'].value_counts()"
   ]
  },
  {
   "cell_type": "code",
   "execution_count": 41,
   "metadata": {},
   "outputs": [
    {
     "data": {
      "text/html": [
       "<style  type=\"text/css\" >\n",
       "</style><table id=\"T_d0ea5c86_7d71_11eb_a2f1_7c2a31f00fa9\" ><thead>    <tr>        <th class=\"blank level0\" ></th>        <th class=\"col_heading level0 col0\" >Description</th>        <th class=\"col_heading level0 col1\" >Value</th>    </tr></thead><tbody>\n",
       "                <tr>\n",
       "                        <th id=\"T_d0ea5c86_7d71_11eb_a2f1_7c2a31f00fa9level0_row0\" class=\"row_heading level0 row0\" >0</th>\n",
       "                        <td id=\"T_d0ea5c86_7d71_11eb_a2f1_7c2a31f00fa9row0_col0\" class=\"data row0 col0\" >session_id</td>\n",
       "                        <td id=\"T_d0ea5c86_7d71_11eb_a2f1_7c2a31f00fa9row0_col1\" class=\"data row0 col1\" >7141</td>\n",
       "            </tr>\n",
       "            <tr>\n",
       "                        <th id=\"T_d0ea5c86_7d71_11eb_a2f1_7c2a31f00fa9level0_row1\" class=\"row_heading level0 row1\" >1</th>\n",
       "                        <td id=\"T_d0ea5c86_7d71_11eb_a2f1_7c2a31f00fa9row1_col0\" class=\"data row1 col0\" >Target</td>\n",
       "                        <td id=\"T_d0ea5c86_7d71_11eb_a2f1_7c2a31f00fa9row1_col1\" class=\"data row1 col1\" >Total</td>\n",
       "            </tr>\n",
       "            <tr>\n",
       "                        <th id=\"T_d0ea5c86_7d71_11eb_a2f1_7c2a31f00fa9level0_row2\" class=\"row_heading level0 row2\" >2</th>\n",
       "                        <td id=\"T_d0ea5c86_7d71_11eb_a2f1_7c2a31f00fa9row2_col0\" class=\"data row2 col0\" >Target Type</td>\n",
       "                        <td id=\"T_d0ea5c86_7d71_11eb_a2f1_7c2a31f00fa9row2_col1\" class=\"data row2 col1\" >Multiclass</td>\n",
       "            </tr>\n",
       "            <tr>\n",
       "                        <th id=\"T_d0ea5c86_7d71_11eb_a2f1_7c2a31f00fa9level0_row3\" class=\"row_heading level0 row3\" >3</th>\n",
       "                        <td id=\"T_d0ea5c86_7d71_11eb_a2f1_7c2a31f00fa9row3_col0\" class=\"data row3 col0\" >Label Encoded</td>\n",
       "                        <td id=\"T_d0ea5c86_7d71_11eb_a2f1_7c2a31f00fa9row3_col1\" class=\"data row3 col1\" >None</td>\n",
       "            </tr>\n",
       "            <tr>\n",
       "                        <th id=\"T_d0ea5c86_7d71_11eb_a2f1_7c2a31f00fa9level0_row4\" class=\"row_heading level0 row4\" >4</th>\n",
       "                        <td id=\"T_d0ea5c86_7d71_11eb_a2f1_7c2a31f00fa9row4_col0\" class=\"data row4 col0\" >Original Data</td>\n",
       "                        <td id=\"T_d0ea5c86_7d71_11eb_a2f1_7c2a31f00fa9row4_col1\" class=\"data row4 col1\" >(365, 2)</td>\n",
       "            </tr>\n",
       "            <tr>\n",
       "                        <th id=\"T_d0ea5c86_7d71_11eb_a2f1_7c2a31f00fa9level0_row5\" class=\"row_heading level0 row5\" >5</th>\n",
       "                        <td id=\"T_d0ea5c86_7d71_11eb_a2f1_7c2a31f00fa9row5_col0\" class=\"data row5 col0\" >Missing Values</td>\n",
       "                        <td id=\"T_d0ea5c86_7d71_11eb_a2f1_7c2a31f00fa9row5_col1\" class=\"data row5 col1\" >False</td>\n",
       "            </tr>\n",
       "            <tr>\n",
       "                        <th id=\"T_d0ea5c86_7d71_11eb_a2f1_7c2a31f00fa9level0_row6\" class=\"row_heading level0 row6\" >6</th>\n",
       "                        <td id=\"T_d0ea5c86_7d71_11eb_a2f1_7c2a31f00fa9row6_col0\" class=\"data row6 col0\" >Numeric Features</td>\n",
       "                        <td id=\"T_d0ea5c86_7d71_11eb_a2f1_7c2a31f00fa9row6_col1\" class=\"data row6 col1\" >0</td>\n",
       "            </tr>\n",
       "            <tr>\n",
       "                        <th id=\"T_d0ea5c86_7d71_11eb_a2f1_7c2a31f00fa9level0_row7\" class=\"row_heading level0 row7\" >7</th>\n",
       "                        <td id=\"T_d0ea5c86_7d71_11eb_a2f1_7c2a31f00fa9row7_col0\" class=\"data row7 col0\" >Categorical Features</td>\n",
       "                        <td id=\"T_d0ea5c86_7d71_11eb_a2f1_7c2a31f00fa9row7_col1\" class=\"data row7 col1\" >0</td>\n",
       "            </tr>\n",
       "            <tr>\n",
       "                        <th id=\"T_d0ea5c86_7d71_11eb_a2f1_7c2a31f00fa9level0_row8\" class=\"row_heading level0 row8\" >8</th>\n",
       "                        <td id=\"T_d0ea5c86_7d71_11eb_a2f1_7c2a31f00fa9row8_col0\" class=\"data row8 col0\" >Ordinal Features</td>\n",
       "                        <td id=\"T_d0ea5c86_7d71_11eb_a2f1_7c2a31f00fa9row8_col1\" class=\"data row8 col1\" >False</td>\n",
       "            </tr>\n",
       "            <tr>\n",
       "                        <th id=\"T_d0ea5c86_7d71_11eb_a2f1_7c2a31f00fa9level0_row9\" class=\"row_heading level0 row9\" >9</th>\n",
       "                        <td id=\"T_d0ea5c86_7d71_11eb_a2f1_7c2a31f00fa9row9_col0\" class=\"data row9 col0\" >High Cardinality Features</td>\n",
       "                        <td id=\"T_d0ea5c86_7d71_11eb_a2f1_7c2a31f00fa9row9_col1\" class=\"data row9 col1\" >False</td>\n",
       "            </tr>\n",
       "            <tr>\n",
       "                        <th id=\"T_d0ea5c86_7d71_11eb_a2f1_7c2a31f00fa9level0_row10\" class=\"row_heading level0 row10\" >10</th>\n",
       "                        <td id=\"T_d0ea5c86_7d71_11eb_a2f1_7c2a31f00fa9row10_col0\" class=\"data row10 col0\" >High Cardinality Method</td>\n",
       "                        <td id=\"T_d0ea5c86_7d71_11eb_a2f1_7c2a31f00fa9row10_col1\" class=\"data row10 col1\" >None</td>\n",
       "            </tr>\n",
       "            <tr>\n",
       "                        <th id=\"T_d0ea5c86_7d71_11eb_a2f1_7c2a31f00fa9level0_row11\" class=\"row_heading level0 row11\" >11</th>\n",
       "                        <td id=\"T_d0ea5c86_7d71_11eb_a2f1_7c2a31f00fa9row11_col0\" class=\"data row11 col0\" >Transformed Train Set</td>\n",
       "                        <td id=\"T_d0ea5c86_7d71_11eb_a2f1_7c2a31f00fa9row11_col1\" class=\"data row11 col1\" >(255, 1)</td>\n",
       "            </tr>\n",
       "            <tr>\n",
       "                        <th id=\"T_d0ea5c86_7d71_11eb_a2f1_7c2a31f00fa9level0_row12\" class=\"row_heading level0 row12\" >12</th>\n",
       "                        <td id=\"T_d0ea5c86_7d71_11eb_a2f1_7c2a31f00fa9row12_col0\" class=\"data row12 col0\" >Transformed Test Set</td>\n",
       "                        <td id=\"T_d0ea5c86_7d71_11eb_a2f1_7c2a31f00fa9row12_col1\" class=\"data row12 col1\" >(110, 1)</td>\n",
       "            </tr>\n",
       "            <tr>\n",
       "                        <th id=\"T_d0ea5c86_7d71_11eb_a2f1_7c2a31f00fa9level0_row13\" class=\"row_heading level0 row13\" >13</th>\n",
       "                        <td id=\"T_d0ea5c86_7d71_11eb_a2f1_7c2a31f00fa9row13_col0\" class=\"data row13 col0\" >Shuffle Train-Test</td>\n",
       "                        <td id=\"T_d0ea5c86_7d71_11eb_a2f1_7c2a31f00fa9row13_col1\" class=\"data row13 col1\" >True</td>\n",
       "            </tr>\n",
       "            <tr>\n",
       "                        <th id=\"T_d0ea5c86_7d71_11eb_a2f1_7c2a31f00fa9level0_row14\" class=\"row_heading level0 row14\" >14</th>\n",
       "                        <td id=\"T_d0ea5c86_7d71_11eb_a2f1_7c2a31f00fa9row14_col0\" class=\"data row14 col0\" >Stratify Train-Test</td>\n",
       "                        <td id=\"T_d0ea5c86_7d71_11eb_a2f1_7c2a31f00fa9row14_col1\" class=\"data row14 col1\" >False</td>\n",
       "            </tr>\n",
       "            <tr>\n",
       "                        <th id=\"T_d0ea5c86_7d71_11eb_a2f1_7c2a31f00fa9level0_row15\" class=\"row_heading level0 row15\" >15</th>\n",
       "                        <td id=\"T_d0ea5c86_7d71_11eb_a2f1_7c2a31f00fa9row15_col0\" class=\"data row15 col0\" >Fold Generator</td>\n",
       "                        <td id=\"T_d0ea5c86_7d71_11eb_a2f1_7c2a31f00fa9row15_col1\" class=\"data row15 col1\" >StratifiedKFold</td>\n",
       "            </tr>\n",
       "            <tr>\n",
       "                        <th id=\"T_d0ea5c86_7d71_11eb_a2f1_7c2a31f00fa9level0_row16\" class=\"row_heading level0 row16\" >16</th>\n",
       "                        <td id=\"T_d0ea5c86_7d71_11eb_a2f1_7c2a31f00fa9row16_col0\" class=\"data row16 col0\" >Fold Number</td>\n",
       "                        <td id=\"T_d0ea5c86_7d71_11eb_a2f1_7c2a31f00fa9row16_col1\" class=\"data row16 col1\" >10</td>\n",
       "            </tr>\n",
       "            <tr>\n",
       "                        <th id=\"T_d0ea5c86_7d71_11eb_a2f1_7c2a31f00fa9level0_row17\" class=\"row_heading level0 row17\" >17</th>\n",
       "                        <td id=\"T_d0ea5c86_7d71_11eb_a2f1_7c2a31f00fa9row17_col0\" class=\"data row17 col0\" >CPU Jobs</td>\n",
       "                        <td id=\"T_d0ea5c86_7d71_11eb_a2f1_7c2a31f00fa9row17_col1\" class=\"data row17 col1\" >-1</td>\n",
       "            </tr>\n",
       "            <tr>\n",
       "                        <th id=\"T_d0ea5c86_7d71_11eb_a2f1_7c2a31f00fa9level0_row18\" class=\"row_heading level0 row18\" >18</th>\n",
       "                        <td id=\"T_d0ea5c86_7d71_11eb_a2f1_7c2a31f00fa9row18_col0\" class=\"data row18 col0\" >Use GPU</td>\n",
       "                        <td id=\"T_d0ea5c86_7d71_11eb_a2f1_7c2a31f00fa9row18_col1\" class=\"data row18 col1\" >False</td>\n",
       "            </tr>\n",
       "            <tr>\n",
       "                        <th id=\"T_d0ea5c86_7d71_11eb_a2f1_7c2a31f00fa9level0_row19\" class=\"row_heading level0 row19\" >19</th>\n",
       "                        <td id=\"T_d0ea5c86_7d71_11eb_a2f1_7c2a31f00fa9row19_col0\" class=\"data row19 col0\" >Log Experiment</td>\n",
       "                        <td id=\"T_d0ea5c86_7d71_11eb_a2f1_7c2a31f00fa9row19_col1\" class=\"data row19 col1\" >False</td>\n",
       "            </tr>\n",
       "            <tr>\n",
       "                        <th id=\"T_d0ea5c86_7d71_11eb_a2f1_7c2a31f00fa9level0_row20\" class=\"row_heading level0 row20\" >20</th>\n",
       "                        <td id=\"T_d0ea5c86_7d71_11eb_a2f1_7c2a31f00fa9row20_col0\" class=\"data row20 col0\" >Experiment Name</td>\n",
       "                        <td id=\"T_d0ea5c86_7d71_11eb_a2f1_7c2a31f00fa9row20_col1\" class=\"data row20 col1\" >clf-default-name</td>\n",
       "            </tr>\n",
       "            <tr>\n",
       "                        <th id=\"T_d0ea5c86_7d71_11eb_a2f1_7c2a31f00fa9level0_row21\" class=\"row_heading level0 row21\" >21</th>\n",
       "                        <td id=\"T_d0ea5c86_7d71_11eb_a2f1_7c2a31f00fa9row21_col0\" class=\"data row21 col0\" >USI</td>\n",
       "                        <td id=\"T_d0ea5c86_7d71_11eb_a2f1_7c2a31f00fa9row21_col1\" class=\"data row21 col1\" >5363</td>\n",
       "            </tr>\n",
       "            <tr>\n",
       "                        <th id=\"T_d0ea5c86_7d71_11eb_a2f1_7c2a31f00fa9level0_row22\" class=\"row_heading level0 row22\" >22</th>\n",
       "                        <td id=\"T_d0ea5c86_7d71_11eb_a2f1_7c2a31f00fa9row22_col0\" class=\"data row22 col0\" >Imputation Type</td>\n",
       "                        <td id=\"T_d0ea5c86_7d71_11eb_a2f1_7c2a31f00fa9row22_col1\" class=\"data row22 col1\" >simple</td>\n",
       "            </tr>\n",
       "            <tr>\n",
       "                        <th id=\"T_d0ea5c86_7d71_11eb_a2f1_7c2a31f00fa9level0_row23\" class=\"row_heading level0 row23\" >23</th>\n",
       "                        <td id=\"T_d0ea5c86_7d71_11eb_a2f1_7c2a31f00fa9row23_col0\" class=\"data row23 col0\" >Iterative Imputation Iteration</td>\n",
       "                        <td id=\"T_d0ea5c86_7d71_11eb_a2f1_7c2a31f00fa9row23_col1\" class=\"data row23 col1\" >None</td>\n",
       "            </tr>\n",
       "            <tr>\n",
       "                        <th id=\"T_d0ea5c86_7d71_11eb_a2f1_7c2a31f00fa9level0_row24\" class=\"row_heading level0 row24\" >24</th>\n",
       "                        <td id=\"T_d0ea5c86_7d71_11eb_a2f1_7c2a31f00fa9row24_col0\" class=\"data row24 col0\" >Numeric Imputer</td>\n",
       "                        <td id=\"T_d0ea5c86_7d71_11eb_a2f1_7c2a31f00fa9row24_col1\" class=\"data row24 col1\" >mean</td>\n",
       "            </tr>\n",
       "            <tr>\n",
       "                        <th id=\"T_d0ea5c86_7d71_11eb_a2f1_7c2a31f00fa9level0_row25\" class=\"row_heading level0 row25\" >25</th>\n",
       "                        <td id=\"T_d0ea5c86_7d71_11eb_a2f1_7c2a31f00fa9row25_col0\" class=\"data row25 col0\" >Iterative Imputation Numeric Model</td>\n",
       "                        <td id=\"T_d0ea5c86_7d71_11eb_a2f1_7c2a31f00fa9row25_col1\" class=\"data row25 col1\" >None</td>\n",
       "            </tr>\n",
       "            <tr>\n",
       "                        <th id=\"T_d0ea5c86_7d71_11eb_a2f1_7c2a31f00fa9level0_row26\" class=\"row_heading level0 row26\" >26</th>\n",
       "                        <td id=\"T_d0ea5c86_7d71_11eb_a2f1_7c2a31f00fa9row26_col0\" class=\"data row26 col0\" >Categorical Imputer</td>\n",
       "                        <td id=\"T_d0ea5c86_7d71_11eb_a2f1_7c2a31f00fa9row26_col1\" class=\"data row26 col1\" >constant</td>\n",
       "            </tr>\n",
       "            <tr>\n",
       "                        <th id=\"T_d0ea5c86_7d71_11eb_a2f1_7c2a31f00fa9level0_row27\" class=\"row_heading level0 row27\" >27</th>\n",
       "                        <td id=\"T_d0ea5c86_7d71_11eb_a2f1_7c2a31f00fa9row27_col0\" class=\"data row27 col0\" >Iterative Imputation Categorical Model</td>\n",
       "                        <td id=\"T_d0ea5c86_7d71_11eb_a2f1_7c2a31f00fa9row27_col1\" class=\"data row27 col1\" >None</td>\n",
       "            </tr>\n",
       "            <tr>\n",
       "                        <th id=\"T_d0ea5c86_7d71_11eb_a2f1_7c2a31f00fa9level0_row28\" class=\"row_heading level0 row28\" >28</th>\n",
       "                        <td id=\"T_d0ea5c86_7d71_11eb_a2f1_7c2a31f00fa9row28_col0\" class=\"data row28 col0\" >Unknown Categoricals Handling</td>\n",
       "                        <td id=\"T_d0ea5c86_7d71_11eb_a2f1_7c2a31f00fa9row28_col1\" class=\"data row28 col1\" >least_frequent</td>\n",
       "            </tr>\n",
       "            <tr>\n",
       "                        <th id=\"T_d0ea5c86_7d71_11eb_a2f1_7c2a31f00fa9level0_row29\" class=\"row_heading level0 row29\" >29</th>\n",
       "                        <td id=\"T_d0ea5c86_7d71_11eb_a2f1_7c2a31f00fa9row29_col0\" class=\"data row29 col0\" >Normalize</td>\n",
       "                        <td id=\"T_d0ea5c86_7d71_11eb_a2f1_7c2a31f00fa9row29_col1\" class=\"data row29 col1\" >False</td>\n",
       "            </tr>\n",
       "            <tr>\n",
       "                        <th id=\"T_d0ea5c86_7d71_11eb_a2f1_7c2a31f00fa9level0_row30\" class=\"row_heading level0 row30\" >30</th>\n",
       "                        <td id=\"T_d0ea5c86_7d71_11eb_a2f1_7c2a31f00fa9row30_col0\" class=\"data row30 col0\" >Normalize Method</td>\n",
       "                        <td id=\"T_d0ea5c86_7d71_11eb_a2f1_7c2a31f00fa9row30_col1\" class=\"data row30 col1\" >None</td>\n",
       "            </tr>\n",
       "            <tr>\n",
       "                        <th id=\"T_d0ea5c86_7d71_11eb_a2f1_7c2a31f00fa9level0_row31\" class=\"row_heading level0 row31\" >31</th>\n",
       "                        <td id=\"T_d0ea5c86_7d71_11eb_a2f1_7c2a31f00fa9row31_col0\" class=\"data row31 col0\" >Transformation</td>\n",
       "                        <td id=\"T_d0ea5c86_7d71_11eb_a2f1_7c2a31f00fa9row31_col1\" class=\"data row31 col1\" >False</td>\n",
       "            </tr>\n",
       "            <tr>\n",
       "                        <th id=\"T_d0ea5c86_7d71_11eb_a2f1_7c2a31f00fa9level0_row32\" class=\"row_heading level0 row32\" >32</th>\n",
       "                        <td id=\"T_d0ea5c86_7d71_11eb_a2f1_7c2a31f00fa9row32_col0\" class=\"data row32 col0\" >Transformation Method</td>\n",
       "                        <td id=\"T_d0ea5c86_7d71_11eb_a2f1_7c2a31f00fa9row32_col1\" class=\"data row32 col1\" >None</td>\n",
       "            </tr>\n",
       "            <tr>\n",
       "                        <th id=\"T_d0ea5c86_7d71_11eb_a2f1_7c2a31f00fa9level0_row33\" class=\"row_heading level0 row33\" >33</th>\n",
       "                        <td id=\"T_d0ea5c86_7d71_11eb_a2f1_7c2a31f00fa9row33_col0\" class=\"data row33 col0\" >PCA</td>\n",
       "                        <td id=\"T_d0ea5c86_7d71_11eb_a2f1_7c2a31f00fa9row33_col1\" class=\"data row33 col1\" >False</td>\n",
       "            </tr>\n",
       "            <tr>\n",
       "                        <th id=\"T_d0ea5c86_7d71_11eb_a2f1_7c2a31f00fa9level0_row34\" class=\"row_heading level0 row34\" >34</th>\n",
       "                        <td id=\"T_d0ea5c86_7d71_11eb_a2f1_7c2a31f00fa9row34_col0\" class=\"data row34 col0\" >PCA Method</td>\n",
       "                        <td id=\"T_d0ea5c86_7d71_11eb_a2f1_7c2a31f00fa9row34_col1\" class=\"data row34 col1\" >None</td>\n",
       "            </tr>\n",
       "            <tr>\n",
       "                        <th id=\"T_d0ea5c86_7d71_11eb_a2f1_7c2a31f00fa9level0_row35\" class=\"row_heading level0 row35\" >35</th>\n",
       "                        <td id=\"T_d0ea5c86_7d71_11eb_a2f1_7c2a31f00fa9row35_col0\" class=\"data row35 col0\" >PCA Components</td>\n",
       "                        <td id=\"T_d0ea5c86_7d71_11eb_a2f1_7c2a31f00fa9row35_col1\" class=\"data row35 col1\" >None</td>\n",
       "            </tr>\n",
       "            <tr>\n",
       "                        <th id=\"T_d0ea5c86_7d71_11eb_a2f1_7c2a31f00fa9level0_row36\" class=\"row_heading level0 row36\" >36</th>\n",
       "                        <td id=\"T_d0ea5c86_7d71_11eb_a2f1_7c2a31f00fa9row36_col0\" class=\"data row36 col0\" >Ignore Low Variance</td>\n",
       "                        <td id=\"T_d0ea5c86_7d71_11eb_a2f1_7c2a31f00fa9row36_col1\" class=\"data row36 col1\" >False</td>\n",
       "            </tr>\n",
       "            <tr>\n",
       "                        <th id=\"T_d0ea5c86_7d71_11eb_a2f1_7c2a31f00fa9level0_row37\" class=\"row_heading level0 row37\" >37</th>\n",
       "                        <td id=\"T_d0ea5c86_7d71_11eb_a2f1_7c2a31f00fa9row37_col0\" class=\"data row37 col0\" >Combine Rare Levels</td>\n",
       "                        <td id=\"T_d0ea5c86_7d71_11eb_a2f1_7c2a31f00fa9row37_col1\" class=\"data row37 col1\" >False</td>\n",
       "            </tr>\n",
       "            <tr>\n",
       "                        <th id=\"T_d0ea5c86_7d71_11eb_a2f1_7c2a31f00fa9level0_row38\" class=\"row_heading level0 row38\" >38</th>\n",
       "                        <td id=\"T_d0ea5c86_7d71_11eb_a2f1_7c2a31f00fa9row38_col0\" class=\"data row38 col0\" >Rare Level Threshold</td>\n",
       "                        <td id=\"T_d0ea5c86_7d71_11eb_a2f1_7c2a31f00fa9row38_col1\" class=\"data row38 col1\" >None</td>\n",
       "            </tr>\n",
       "            <tr>\n",
       "                        <th id=\"T_d0ea5c86_7d71_11eb_a2f1_7c2a31f00fa9level0_row39\" class=\"row_heading level0 row39\" >39</th>\n",
       "                        <td id=\"T_d0ea5c86_7d71_11eb_a2f1_7c2a31f00fa9row39_col0\" class=\"data row39 col0\" >Numeric Binning</td>\n",
       "                        <td id=\"T_d0ea5c86_7d71_11eb_a2f1_7c2a31f00fa9row39_col1\" class=\"data row39 col1\" >False</td>\n",
       "            </tr>\n",
       "            <tr>\n",
       "                        <th id=\"T_d0ea5c86_7d71_11eb_a2f1_7c2a31f00fa9level0_row40\" class=\"row_heading level0 row40\" >40</th>\n",
       "                        <td id=\"T_d0ea5c86_7d71_11eb_a2f1_7c2a31f00fa9row40_col0\" class=\"data row40 col0\" >Remove Outliers</td>\n",
       "                        <td id=\"T_d0ea5c86_7d71_11eb_a2f1_7c2a31f00fa9row40_col1\" class=\"data row40 col1\" >False</td>\n",
       "            </tr>\n",
       "            <tr>\n",
       "                        <th id=\"T_d0ea5c86_7d71_11eb_a2f1_7c2a31f00fa9level0_row41\" class=\"row_heading level0 row41\" >41</th>\n",
       "                        <td id=\"T_d0ea5c86_7d71_11eb_a2f1_7c2a31f00fa9row41_col0\" class=\"data row41 col0\" >Outliers Threshold</td>\n",
       "                        <td id=\"T_d0ea5c86_7d71_11eb_a2f1_7c2a31f00fa9row41_col1\" class=\"data row41 col1\" >None</td>\n",
       "            </tr>\n",
       "            <tr>\n",
       "                        <th id=\"T_d0ea5c86_7d71_11eb_a2f1_7c2a31f00fa9level0_row42\" class=\"row_heading level0 row42\" >42</th>\n",
       "                        <td id=\"T_d0ea5c86_7d71_11eb_a2f1_7c2a31f00fa9row42_col0\" class=\"data row42 col0\" >Remove Multicollinearity</td>\n",
       "                        <td id=\"T_d0ea5c86_7d71_11eb_a2f1_7c2a31f00fa9row42_col1\" class=\"data row42 col1\" >False</td>\n",
       "            </tr>\n",
       "            <tr>\n",
       "                        <th id=\"T_d0ea5c86_7d71_11eb_a2f1_7c2a31f00fa9level0_row43\" class=\"row_heading level0 row43\" >43</th>\n",
       "                        <td id=\"T_d0ea5c86_7d71_11eb_a2f1_7c2a31f00fa9row43_col0\" class=\"data row43 col0\" >Multicollinearity Threshold</td>\n",
       "                        <td id=\"T_d0ea5c86_7d71_11eb_a2f1_7c2a31f00fa9row43_col1\" class=\"data row43 col1\" >None</td>\n",
       "            </tr>\n",
       "            <tr>\n",
       "                        <th id=\"T_d0ea5c86_7d71_11eb_a2f1_7c2a31f00fa9level0_row44\" class=\"row_heading level0 row44\" >44</th>\n",
       "                        <td id=\"T_d0ea5c86_7d71_11eb_a2f1_7c2a31f00fa9row44_col0\" class=\"data row44 col0\" >Clustering</td>\n",
       "                        <td id=\"T_d0ea5c86_7d71_11eb_a2f1_7c2a31f00fa9row44_col1\" class=\"data row44 col1\" >False</td>\n",
       "            </tr>\n",
       "            <tr>\n",
       "                        <th id=\"T_d0ea5c86_7d71_11eb_a2f1_7c2a31f00fa9level0_row45\" class=\"row_heading level0 row45\" >45</th>\n",
       "                        <td id=\"T_d0ea5c86_7d71_11eb_a2f1_7c2a31f00fa9row45_col0\" class=\"data row45 col0\" >Clustering Iteration</td>\n",
       "                        <td id=\"T_d0ea5c86_7d71_11eb_a2f1_7c2a31f00fa9row45_col1\" class=\"data row45 col1\" >None</td>\n",
       "            </tr>\n",
       "            <tr>\n",
       "                        <th id=\"T_d0ea5c86_7d71_11eb_a2f1_7c2a31f00fa9level0_row46\" class=\"row_heading level0 row46\" >46</th>\n",
       "                        <td id=\"T_d0ea5c86_7d71_11eb_a2f1_7c2a31f00fa9row46_col0\" class=\"data row46 col0\" >Polynomial Features</td>\n",
       "                        <td id=\"T_d0ea5c86_7d71_11eb_a2f1_7c2a31f00fa9row46_col1\" class=\"data row46 col1\" >False</td>\n",
       "            </tr>\n",
       "            <tr>\n",
       "                        <th id=\"T_d0ea5c86_7d71_11eb_a2f1_7c2a31f00fa9level0_row47\" class=\"row_heading level0 row47\" >47</th>\n",
       "                        <td id=\"T_d0ea5c86_7d71_11eb_a2f1_7c2a31f00fa9row47_col0\" class=\"data row47 col0\" >Polynomial Degree</td>\n",
       "                        <td id=\"T_d0ea5c86_7d71_11eb_a2f1_7c2a31f00fa9row47_col1\" class=\"data row47 col1\" >None</td>\n",
       "            </tr>\n",
       "            <tr>\n",
       "                        <th id=\"T_d0ea5c86_7d71_11eb_a2f1_7c2a31f00fa9level0_row48\" class=\"row_heading level0 row48\" >48</th>\n",
       "                        <td id=\"T_d0ea5c86_7d71_11eb_a2f1_7c2a31f00fa9row48_col0\" class=\"data row48 col0\" >Trignometry Features</td>\n",
       "                        <td id=\"T_d0ea5c86_7d71_11eb_a2f1_7c2a31f00fa9row48_col1\" class=\"data row48 col1\" >False</td>\n",
       "            </tr>\n",
       "            <tr>\n",
       "                        <th id=\"T_d0ea5c86_7d71_11eb_a2f1_7c2a31f00fa9level0_row49\" class=\"row_heading level0 row49\" >49</th>\n",
       "                        <td id=\"T_d0ea5c86_7d71_11eb_a2f1_7c2a31f00fa9row49_col0\" class=\"data row49 col0\" >Polynomial Threshold</td>\n",
       "                        <td id=\"T_d0ea5c86_7d71_11eb_a2f1_7c2a31f00fa9row49_col1\" class=\"data row49 col1\" >None</td>\n",
       "            </tr>\n",
       "            <tr>\n",
       "                        <th id=\"T_d0ea5c86_7d71_11eb_a2f1_7c2a31f00fa9level0_row50\" class=\"row_heading level0 row50\" >50</th>\n",
       "                        <td id=\"T_d0ea5c86_7d71_11eb_a2f1_7c2a31f00fa9row50_col0\" class=\"data row50 col0\" >Group Features</td>\n",
       "                        <td id=\"T_d0ea5c86_7d71_11eb_a2f1_7c2a31f00fa9row50_col1\" class=\"data row50 col1\" >False</td>\n",
       "            </tr>\n",
       "            <tr>\n",
       "                        <th id=\"T_d0ea5c86_7d71_11eb_a2f1_7c2a31f00fa9level0_row51\" class=\"row_heading level0 row51\" >51</th>\n",
       "                        <td id=\"T_d0ea5c86_7d71_11eb_a2f1_7c2a31f00fa9row51_col0\" class=\"data row51 col0\" >Feature Selection</td>\n",
       "                        <td id=\"T_d0ea5c86_7d71_11eb_a2f1_7c2a31f00fa9row51_col1\" class=\"data row51 col1\" >False</td>\n",
       "            </tr>\n",
       "            <tr>\n",
       "                        <th id=\"T_d0ea5c86_7d71_11eb_a2f1_7c2a31f00fa9level0_row52\" class=\"row_heading level0 row52\" >52</th>\n",
       "                        <td id=\"T_d0ea5c86_7d71_11eb_a2f1_7c2a31f00fa9row52_col0\" class=\"data row52 col0\" >Feature Selection Method</td>\n",
       "                        <td id=\"T_d0ea5c86_7d71_11eb_a2f1_7c2a31f00fa9row52_col1\" class=\"data row52 col1\" >classic</td>\n",
       "            </tr>\n",
       "            <tr>\n",
       "                        <th id=\"T_d0ea5c86_7d71_11eb_a2f1_7c2a31f00fa9level0_row53\" class=\"row_heading level0 row53\" >53</th>\n",
       "                        <td id=\"T_d0ea5c86_7d71_11eb_a2f1_7c2a31f00fa9row53_col0\" class=\"data row53 col0\" >Features Selection Threshold</td>\n",
       "                        <td id=\"T_d0ea5c86_7d71_11eb_a2f1_7c2a31f00fa9row53_col1\" class=\"data row53 col1\" >None</td>\n",
       "            </tr>\n",
       "            <tr>\n",
       "                        <th id=\"T_d0ea5c86_7d71_11eb_a2f1_7c2a31f00fa9level0_row54\" class=\"row_heading level0 row54\" >54</th>\n",
       "                        <td id=\"T_d0ea5c86_7d71_11eb_a2f1_7c2a31f00fa9row54_col0\" class=\"data row54 col0\" >Feature Interaction</td>\n",
       "                        <td id=\"T_d0ea5c86_7d71_11eb_a2f1_7c2a31f00fa9row54_col1\" class=\"data row54 col1\" >False</td>\n",
       "            </tr>\n",
       "            <tr>\n",
       "                        <th id=\"T_d0ea5c86_7d71_11eb_a2f1_7c2a31f00fa9level0_row55\" class=\"row_heading level0 row55\" >55</th>\n",
       "                        <td id=\"T_d0ea5c86_7d71_11eb_a2f1_7c2a31f00fa9row55_col0\" class=\"data row55 col0\" >Feature Ratio</td>\n",
       "                        <td id=\"T_d0ea5c86_7d71_11eb_a2f1_7c2a31f00fa9row55_col1\" class=\"data row55 col1\" >False</td>\n",
       "            </tr>\n",
       "            <tr>\n",
       "                        <th id=\"T_d0ea5c86_7d71_11eb_a2f1_7c2a31f00fa9level0_row56\" class=\"row_heading level0 row56\" >56</th>\n",
       "                        <td id=\"T_d0ea5c86_7d71_11eb_a2f1_7c2a31f00fa9row56_col0\" class=\"data row56 col0\" >Interaction Threshold</td>\n",
       "                        <td id=\"T_d0ea5c86_7d71_11eb_a2f1_7c2a31f00fa9row56_col1\" class=\"data row56 col1\" >None</td>\n",
       "            </tr>\n",
       "            <tr>\n",
       "                        <th id=\"T_d0ea5c86_7d71_11eb_a2f1_7c2a31f00fa9level0_row57\" class=\"row_heading level0 row57\" >57</th>\n",
       "                        <td id=\"T_d0ea5c86_7d71_11eb_a2f1_7c2a31f00fa9row57_col0\" class=\"data row57 col0\" >Fix Imbalance</td>\n",
       "                        <td id=\"T_d0ea5c86_7d71_11eb_a2f1_7c2a31f00fa9row57_col1\" class=\"data row57 col1\" >False</td>\n",
       "            </tr>\n",
       "            <tr>\n",
       "                        <th id=\"T_d0ea5c86_7d71_11eb_a2f1_7c2a31f00fa9level0_row58\" class=\"row_heading level0 row58\" >58</th>\n",
       "                        <td id=\"T_d0ea5c86_7d71_11eb_a2f1_7c2a31f00fa9row58_col0\" class=\"data row58 col0\" >Fix Imbalance Method</td>\n",
       "                        <td id=\"T_d0ea5c86_7d71_11eb_a2f1_7c2a31f00fa9row58_col1\" class=\"data row58 col1\" >SMOTE</td>\n",
       "            </tr>\n",
       "    </tbody></table>"
      ],
      "text/plain": [
       "<pandas.io.formats.style.Styler at 0x26dc854d6c8>"
      ]
     },
     "metadata": {},
     "output_type": "display_data"
    }
   ],
   "source": [
    "grid = setup(data=median, target=median.columns[-1], html=True, silent=False, verbose=True) #"
   ]
  },
  {
   "cell_type": "code",
   "execution_count": 46,
   "metadata": {},
   "outputs": [
    {
     "data": {
      "text/html": [
       "<style  type=\"text/css\" >\n",
       "</style><table id=\"T_f5befcdc_7d71_11eb_9c8e_7c2a31f00fa9\" ><thead></thead><tbody>\n",
       "        </tbody></table>"
      ],
      "text/plain": [
       "<pandas.io.formats.style.Styler at 0x26dc912a508>"
      ]
     },
     "metadata": {},
     "output_type": "display_data"
    },
    {
     "data": {
      "text/plain": [
       "[]"
      ]
     },
     "execution_count": 46,
     "metadata": {},
     "output_type": "execute_result"
    }
   ],
   "source": [
    "compare_models(include=['lr','nb'])"
   ]
  },
  {
   "cell_type": "code",
   "execution_count": 45,
   "metadata": {},
   "outputs": [
    {
     "data": {
      "text/html": [
       "<style  type=\"text/css\" >\n",
       "</style><table id=\"T_ed4ca7ae_7d71_11eb_b143_7c2a31f00fa9\" ><thead></thead><tbody>\n",
       "        </tbody></table>"
      ],
      "text/plain": [
       "<pandas.io.formats.style.Styler at 0x26dc861bd88>"
      ]
     },
     "metadata": {},
     "output_type": "display_data"
    },
    {
     "data": {
      "text/plain": [
       "[]"
      ]
     },
     "execution_count": 45,
     "metadata": {},
     "output_type": "execute_result"
    }
   ],
   "source": [
    "compare_models(n_select=10)"
   ]
  },
  {
   "cell_type": "code",
   "execution_count": 44,
   "metadata": {},
   "outputs": [
    {
     "data": {
      "text/html": [
       "<style  type=\"text/css\" >\n",
       "</style><table id=\"T_e5902a38_7d71_11eb_9a9a_7c2a31f00fa9\" ><thead>    <tr>        <th class=\"blank level0\" ></th>        <th class=\"col_heading level0 col0\" >Description</th>        <th class=\"col_heading level0 col1\" >Value</th>    </tr></thead><tbody>\n",
       "                <tr>\n",
       "                        <th id=\"T_e5902a38_7d71_11eb_9a9a_7c2a31f00fa9level0_row0\" class=\"row_heading level0 row0\" >0</th>\n",
       "                        <td id=\"T_e5902a38_7d71_11eb_9a9a_7c2a31f00fa9row0_col0\" class=\"data row0 col0\" >session_id</td>\n",
       "                        <td id=\"T_e5902a38_7d71_11eb_9a9a_7c2a31f00fa9row0_col1\" class=\"data row0 col1\" >7714</td>\n",
       "            </tr>\n",
       "            <tr>\n",
       "                        <th id=\"T_e5902a38_7d71_11eb_9a9a_7c2a31f00fa9level0_row1\" class=\"row_heading level0 row1\" >1</th>\n",
       "                        <td id=\"T_e5902a38_7d71_11eb_9a9a_7c2a31f00fa9row1_col0\" class=\"data row1 col0\" >Target</td>\n",
       "                        <td id=\"T_e5902a38_7d71_11eb_9a9a_7c2a31f00fa9row1_col1\" class=\"data row1 col1\" >Total</td>\n",
       "            </tr>\n",
       "            <tr>\n",
       "                        <th id=\"T_e5902a38_7d71_11eb_9a9a_7c2a31f00fa9level0_row2\" class=\"row_heading level0 row2\" >2</th>\n",
       "                        <td id=\"T_e5902a38_7d71_11eb_9a9a_7c2a31f00fa9row2_col0\" class=\"data row2 col0\" >Target Type</td>\n",
       "                        <td id=\"T_e5902a38_7d71_11eb_9a9a_7c2a31f00fa9row2_col1\" class=\"data row2 col1\" >Multiclass</td>\n",
       "            </tr>\n",
       "            <tr>\n",
       "                        <th id=\"T_e5902a38_7d71_11eb_9a9a_7c2a31f00fa9level0_row3\" class=\"row_heading level0 row3\" >3</th>\n",
       "                        <td id=\"T_e5902a38_7d71_11eb_9a9a_7c2a31f00fa9row3_col0\" class=\"data row3 col0\" >Label Encoded</td>\n",
       "                        <td id=\"T_e5902a38_7d71_11eb_9a9a_7c2a31f00fa9row3_col1\" class=\"data row3 col1\" >None</td>\n",
       "            </tr>\n",
       "            <tr>\n",
       "                        <th id=\"T_e5902a38_7d71_11eb_9a9a_7c2a31f00fa9level0_row4\" class=\"row_heading level0 row4\" >4</th>\n",
       "                        <td id=\"T_e5902a38_7d71_11eb_9a9a_7c2a31f00fa9row4_col0\" class=\"data row4 col0\" >Original Data</td>\n",
       "                        <td id=\"T_e5902a38_7d71_11eb_9a9a_7c2a31f00fa9row4_col1\" class=\"data row4 col1\" >(365, 2)</td>\n",
       "            </tr>\n",
       "            <tr>\n",
       "                        <th id=\"T_e5902a38_7d71_11eb_9a9a_7c2a31f00fa9level0_row5\" class=\"row_heading level0 row5\" >5</th>\n",
       "                        <td id=\"T_e5902a38_7d71_11eb_9a9a_7c2a31f00fa9row5_col0\" class=\"data row5 col0\" >Missing Values</td>\n",
       "                        <td id=\"T_e5902a38_7d71_11eb_9a9a_7c2a31f00fa9row5_col1\" class=\"data row5 col1\" >False</td>\n",
       "            </tr>\n",
       "            <tr>\n",
       "                        <th id=\"T_e5902a38_7d71_11eb_9a9a_7c2a31f00fa9level0_row6\" class=\"row_heading level0 row6\" >6</th>\n",
       "                        <td id=\"T_e5902a38_7d71_11eb_9a9a_7c2a31f00fa9row6_col0\" class=\"data row6 col0\" >Numeric Features</td>\n",
       "                        <td id=\"T_e5902a38_7d71_11eb_9a9a_7c2a31f00fa9row6_col1\" class=\"data row6 col1\" >0</td>\n",
       "            </tr>\n",
       "            <tr>\n",
       "                        <th id=\"T_e5902a38_7d71_11eb_9a9a_7c2a31f00fa9level0_row7\" class=\"row_heading level0 row7\" >7</th>\n",
       "                        <td id=\"T_e5902a38_7d71_11eb_9a9a_7c2a31f00fa9row7_col0\" class=\"data row7 col0\" >Categorical Features</td>\n",
       "                        <td id=\"T_e5902a38_7d71_11eb_9a9a_7c2a31f00fa9row7_col1\" class=\"data row7 col1\" >0</td>\n",
       "            </tr>\n",
       "            <tr>\n",
       "                        <th id=\"T_e5902a38_7d71_11eb_9a9a_7c2a31f00fa9level0_row8\" class=\"row_heading level0 row8\" >8</th>\n",
       "                        <td id=\"T_e5902a38_7d71_11eb_9a9a_7c2a31f00fa9row8_col0\" class=\"data row8 col0\" >Ordinal Features</td>\n",
       "                        <td id=\"T_e5902a38_7d71_11eb_9a9a_7c2a31f00fa9row8_col1\" class=\"data row8 col1\" >False</td>\n",
       "            </tr>\n",
       "            <tr>\n",
       "                        <th id=\"T_e5902a38_7d71_11eb_9a9a_7c2a31f00fa9level0_row9\" class=\"row_heading level0 row9\" >9</th>\n",
       "                        <td id=\"T_e5902a38_7d71_11eb_9a9a_7c2a31f00fa9row9_col0\" class=\"data row9 col0\" >High Cardinality Features</td>\n",
       "                        <td id=\"T_e5902a38_7d71_11eb_9a9a_7c2a31f00fa9row9_col1\" class=\"data row9 col1\" >False</td>\n",
       "            </tr>\n",
       "            <tr>\n",
       "                        <th id=\"T_e5902a38_7d71_11eb_9a9a_7c2a31f00fa9level0_row10\" class=\"row_heading level0 row10\" >10</th>\n",
       "                        <td id=\"T_e5902a38_7d71_11eb_9a9a_7c2a31f00fa9row10_col0\" class=\"data row10 col0\" >High Cardinality Method</td>\n",
       "                        <td id=\"T_e5902a38_7d71_11eb_9a9a_7c2a31f00fa9row10_col1\" class=\"data row10 col1\" >None</td>\n",
       "            </tr>\n",
       "            <tr>\n",
       "                        <th id=\"T_e5902a38_7d71_11eb_9a9a_7c2a31f00fa9level0_row11\" class=\"row_heading level0 row11\" >11</th>\n",
       "                        <td id=\"T_e5902a38_7d71_11eb_9a9a_7c2a31f00fa9row11_col0\" class=\"data row11 col0\" >Transformed Train Set</td>\n",
       "                        <td id=\"T_e5902a38_7d71_11eb_9a9a_7c2a31f00fa9row11_col1\" class=\"data row11 col1\" >(255, 0)</td>\n",
       "            </tr>\n",
       "            <tr>\n",
       "                        <th id=\"T_e5902a38_7d71_11eb_9a9a_7c2a31f00fa9level0_row12\" class=\"row_heading level0 row12\" >12</th>\n",
       "                        <td id=\"T_e5902a38_7d71_11eb_9a9a_7c2a31f00fa9row12_col0\" class=\"data row12 col0\" >Transformed Test Set</td>\n",
       "                        <td id=\"T_e5902a38_7d71_11eb_9a9a_7c2a31f00fa9row12_col1\" class=\"data row12 col1\" >(110, 0)</td>\n",
       "            </tr>\n",
       "            <tr>\n",
       "                        <th id=\"T_e5902a38_7d71_11eb_9a9a_7c2a31f00fa9level0_row13\" class=\"row_heading level0 row13\" >13</th>\n",
       "                        <td id=\"T_e5902a38_7d71_11eb_9a9a_7c2a31f00fa9row13_col0\" class=\"data row13 col0\" >Shuffle Train-Test</td>\n",
       "                        <td id=\"T_e5902a38_7d71_11eb_9a9a_7c2a31f00fa9row13_col1\" class=\"data row13 col1\" >True</td>\n",
       "            </tr>\n",
       "            <tr>\n",
       "                        <th id=\"T_e5902a38_7d71_11eb_9a9a_7c2a31f00fa9level0_row14\" class=\"row_heading level0 row14\" >14</th>\n",
       "                        <td id=\"T_e5902a38_7d71_11eb_9a9a_7c2a31f00fa9row14_col0\" class=\"data row14 col0\" >Stratify Train-Test</td>\n",
       "                        <td id=\"T_e5902a38_7d71_11eb_9a9a_7c2a31f00fa9row14_col1\" class=\"data row14 col1\" >False</td>\n",
       "            </tr>\n",
       "            <tr>\n",
       "                        <th id=\"T_e5902a38_7d71_11eb_9a9a_7c2a31f00fa9level0_row15\" class=\"row_heading level0 row15\" >15</th>\n",
       "                        <td id=\"T_e5902a38_7d71_11eb_9a9a_7c2a31f00fa9row15_col0\" class=\"data row15 col0\" >Fold Generator</td>\n",
       "                        <td id=\"T_e5902a38_7d71_11eb_9a9a_7c2a31f00fa9row15_col1\" class=\"data row15 col1\" >StratifiedKFold</td>\n",
       "            </tr>\n",
       "            <tr>\n",
       "                        <th id=\"T_e5902a38_7d71_11eb_9a9a_7c2a31f00fa9level0_row16\" class=\"row_heading level0 row16\" >16</th>\n",
       "                        <td id=\"T_e5902a38_7d71_11eb_9a9a_7c2a31f00fa9row16_col0\" class=\"data row16 col0\" >Fold Number</td>\n",
       "                        <td id=\"T_e5902a38_7d71_11eb_9a9a_7c2a31f00fa9row16_col1\" class=\"data row16 col1\" >10</td>\n",
       "            </tr>\n",
       "            <tr>\n",
       "                        <th id=\"T_e5902a38_7d71_11eb_9a9a_7c2a31f00fa9level0_row17\" class=\"row_heading level0 row17\" >17</th>\n",
       "                        <td id=\"T_e5902a38_7d71_11eb_9a9a_7c2a31f00fa9row17_col0\" class=\"data row17 col0\" >CPU Jobs</td>\n",
       "                        <td id=\"T_e5902a38_7d71_11eb_9a9a_7c2a31f00fa9row17_col1\" class=\"data row17 col1\" >-1</td>\n",
       "            </tr>\n",
       "            <tr>\n",
       "                        <th id=\"T_e5902a38_7d71_11eb_9a9a_7c2a31f00fa9level0_row18\" class=\"row_heading level0 row18\" >18</th>\n",
       "                        <td id=\"T_e5902a38_7d71_11eb_9a9a_7c2a31f00fa9row18_col0\" class=\"data row18 col0\" >Use GPU</td>\n",
       "                        <td id=\"T_e5902a38_7d71_11eb_9a9a_7c2a31f00fa9row18_col1\" class=\"data row18 col1\" >False</td>\n",
       "            </tr>\n",
       "            <tr>\n",
       "                        <th id=\"T_e5902a38_7d71_11eb_9a9a_7c2a31f00fa9level0_row19\" class=\"row_heading level0 row19\" >19</th>\n",
       "                        <td id=\"T_e5902a38_7d71_11eb_9a9a_7c2a31f00fa9row19_col0\" class=\"data row19 col0\" >Log Experiment</td>\n",
       "                        <td id=\"T_e5902a38_7d71_11eb_9a9a_7c2a31f00fa9row19_col1\" class=\"data row19 col1\" >False</td>\n",
       "            </tr>\n",
       "            <tr>\n",
       "                        <th id=\"T_e5902a38_7d71_11eb_9a9a_7c2a31f00fa9level0_row20\" class=\"row_heading level0 row20\" >20</th>\n",
       "                        <td id=\"T_e5902a38_7d71_11eb_9a9a_7c2a31f00fa9row20_col0\" class=\"data row20 col0\" >Experiment Name</td>\n",
       "                        <td id=\"T_e5902a38_7d71_11eb_9a9a_7c2a31f00fa9row20_col1\" class=\"data row20 col1\" >clf-default-name</td>\n",
       "            </tr>\n",
       "            <tr>\n",
       "                        <th id=\"T_e5902a38_7d71_11eb_9a9a_7c2a31f00fa9level0_row21\" class=\"row_heading level0 row21\" >21</th>\n",
       "                        <td id=\"T_e5902a38_7d71_11eb_9a9a_7c2a31f00fa9row21_col0\" class=\"data row21 col0\" >USI</td>\n",
       "                        <td id=\"T_e5902a38_7d71_11eb_9a9a_7c2a31f00fa9row21_col1\" class=\"data row21 col1\" >a866</td>\n",
       "            </tr>\n",
       "            <tr>\n",
       "                        <th id=\"T_e5902a38_7d71_11eb_9a9a_7c2a31f00fa9level0_row22\" class=\"row_heading level0 row22\" >22</th>\n",
       "                        <td id=\"T_e5902a38_7d71_11eb_9a9a_7c2a31f00fa9row22_col0\" class=\"data row22 col0\" >Imputation Type</td>\n",
       "                        <td id=\"T_e5902a38_7d71_11eb_9a9a_7c2a31f00fa9row22_col1\" class=\"data row22 col1\" >simple</td>\n",
       "            </tr>\n",
       "            <tr>\n",
       "                        <th id=\"T_e5902a38_7d71_11eb_9a9a_7c2a31f00fa9level0_row23\" class=\"row_heading level0 row23\" >23</th>\n",
       "                        <td id=\"T_e5902a38_7d71_11eb_9a9a_7c2a31f00fa9row23_col0\" class=\"data row23 col0\" >Iterative Imputation Iteration</td>\n",
       "                        <td id=\"T_e5902a38_7d71_11eb_9a9a_7c2a31f00fa9row23_col1\" class=\"data row23 col1\" >None</td>\n",
       "            </tr>\n",
       "            <tr>\n",
       "                        <th id=\"T_e5902a38_7d71_11eb_9a9a_7c2a31f00fa9level0_row24\" class=\"row_heading level0 row24\" >24</th>\n",
       "                        <td id=\"T_e5902a38_7d71_11eb_9a9a_7c2a31f00fa9row24_col0\" class=\"data row24 col0\" >Numeric Imputer</td>\n",
       "                        <td id=\"T_e5902a38_7d71_11eb_9a9a_7c2a31f00fa9row24_col1\" class=\"data row24 col1\" >mean</td>\n",
       "            </tr>\n",
       "            <tr>\n",
       "                        <th id=\"T_e5902a38_7d71_11eb_9a9a_7c2a31f00fa9level0_row25\" class=\"row_heading level0 row25\" >25</th>\n",
       "                        <td id=\"T_e5902a38_7d71_11eb_9a9a_7c2a31f00fa9row25_col0\" class=\"data row25 col0\" >Iterative Imputation Numeric Model</td>\n",
       "                        <td id=\"T_e5902a38_7d71_11eb_9a9a_7c2a31f00fa9row25_col1\" class=\"data row25 col1\" >None</td>\n",
       "            </tr>\n",
       "            <tr>\n",
       "                        <th id=\"T_e5902a38_7d71_11eb_9a9a_7c2a31f00fa9level0_row26\" class=\"row_heading level0 row26\" >26</th>\n",
       "                        <td id=\"T_e5902a38_7d71_11eb_9a9a_7c2a31f00fa9row26_col0\" class=\"data row26 col0\" >Categorical Imputer</td>\n",
       "                        <td id=\"T_e5902a38_7d71_11eb_9a9a_7c2a31f00fa9row26_col1\" class=\"data row26 col1\" >constant</td>\n",
       "            </tr>\n",
       "            <tr>\n",
       "                        <th id=\"T_e5902a38_7d71_11eb_9a9a_7c2a31f00fa9level0_row27\" class=\"row_heading level0 row27\" >27</th>\n",
       "                        <td id=\"T_e5902a38_7d71_11eb_9a9a_7c2a31f00fa9row27_col0\" class=\"data row27 col0\" >Iterative Imputation Categorical Model</td>\n",
       "                        <td id=\"T_e5902a38_7d71_11eb_9a9a_7c2a31f00fa9row27_col1\" class=\"data row27 col1\" >None</td>\n",
       "            </tr>\n",
       "            <tr>\n",
       "                        <th id=\"T_e5902a38_7d71_11eb_9a9a_7c2a31f00fa9level0_row28\" class=\"row_heading level0 row28\" >28</th>\n",
       "                        <td id=\"T_e5902a38_7d71_11eb_9a9a_7c2a31f00fa9row28_col0\" class=\"data row28 col0\" >Unknown Categoricals Handling</td>\n",
       "                        <td id=\"T_e5902a38_7d71_11eb_9a9a_7c2a31f00fa9row28_col1\" class=\"data row28 col1\" >least_frequent</td>\n",
       "            </tr>\n",
       "            <tr>\n",
       "                        <th id=\"T_e5902a38_7d71_11eb_9a9a_7c2a31f00fa9level0_row29\" class=\"row_heading level0 row29\" >29</th>\n",
       "                        <td id=\"T_e5902a38_7d71_11eb_9a9a_7c2a31f00fa9row29_col0\" class=\"data row29 col0\" >Normalize</td>\n",
       "                        <td id=\"T_e5902a38_7d71_11eb_9a9a_7c2a31f00fa9row29_col1\" class=\"data row29 col1\" >False</td>\n",
       "            </tr>\n",
       "            <tr>\n",
       "                        <th id=\"T_e5902a38_7d71_11eb_9a9a_7c2a31f00fa9level0_row30\" class=\"row_heading level0 row30\" >30</th>\n",
       "                        <td id=\"T_e5902a38_7d71_11eb_9a9a_7c2a31f00fa9row30_col0\" class=\"data row30 col0\" >Normalize Method</td>\n",
       "                        <td id=\"T_e5902a38_7d71_11eb_9a9a_7c2a31f00fa9row30_col1\" class=\"data row30 col1\" >None</td>\n",
       "            </tr>\n",
       "            <tr>\n",
       "                        <th id=\"T_e5902a38_7d71_11eb_9a9a_7c2a31f00fa9level0_row31\" class=\"row_heading level0 row31\" >31</th>\n",
       "                        <td id=\"T_e5902a38_7d71_11eb_9a9a_7c2a31f00fa9row31_col0\" class=\"data row31 col0\" >Transformation</td>\n",
       "                        <td id=\"T_e5902a38_7d71_11eb_9a9a_7c2a31f00fa9row31_col1\" class=\"data row31 col1\" >False</td>\n",
       "            </tr>\n",
       "            <tr>\n",
       "                        <th id=\"T_e5902a38_7d71_11eb_9a9a_7c2a31f00fa9level0_row32\" class=\"row_heading level0 row32\" >32</th>\n",
       "                        <td id=\"T_e5902a38_7d71_11eb_9a9a_7c2a31f00fa9row32_col0\" class=\"data row32 col0\" >Transformation Method</td>\n",
       "                        <td id=\"T_e5902a38_7d71_11eb_9a9a_7c2a31f00fa9row32_col1\" class=\"data row32 col1\" >None</td>\n",
       "            </tr>\n",
       "            <tr>\n",
       "                        <th id=\"T_e5902a38_7d71_11eb_9a9a_7c2a31f00fa9level0_row33\" class=\"row_heading level0 row33\" >33</th>\n",
       "                        <td id=\"T_e5902a38_7d71_11eb_9a9a_7c2a31f00fa9row33_col0\" class=\"data row33 col0\" >PCA</td>\n",
       "                        <td id=\"T_e5902a38_7d71_11eb_9a9a_7c2a31f00fa9row33_col1\" class=\"data row33 col1\" >False</td>\n",
       "            </tr>\n",
       "            <tr>\n",
       "                        <th id=\"T_e5902a38_7d71_11eb_9a9a_7c2a31f00fa9level0_row34\" class=\"row_heading level0 row34\" >34</th>\n",
       "                        <td id=\"T_e5902a38_7d71_11eb_9a9a_7c2a31f00fa9row34_col0\" class=\"data row34 col0\" >PCA Method</td>\n",
       "                        <td id=\"T_e5902a38_7d71_11eb_9a9a_7c2a31f00fa9row34_col1\" class=\"data row34 col1\" >None</td>\n",
       "            </tr>\n",
       "            <tr>\n",
       "                        <th id=\"T_e5902a38_7d71_11eb_9a9a_7c2a31f00fa9level0_row35\" class=\"row_heading level0 row35\" >35</th>\n",
       "                        <td id=\"T_e5902a38_7d71_11eb_9a9a_7c2a31f00fa9row35_col0\" class=\"data row35 col0\" >PCA Components</td>\n",
       "                        <td id=\"T_e5902a38_7d71_11eb_9a9a_7c2a31f00fa9row35_col1\" class=\"data row35 col1\" >None</td>\n",
       "            </tr>\n",
       "            <tr>\n",
       "                        <th id=\"T_e5902a38_7d71_11eb_9a9a_7c2a31f00fa9level0_row36\" class=\"row_heading level0 row36\" >36</th>\n",
       "                        <td id=\"T_e5902a38_7d71_11eb_9a9a_7c2a31f00fa9row36_col0\" class=\"data row36 col0\" >Ignore Low Variance</td>\n",
       "                        <td id=\"T_e5902a38_7d71_11eb_9a9a_7c2a31f00fa9row36_col1\" class=\"data row36 col1\" >False</td>\n",
       "            </tr>\n",
       "            <tr>\n",
       "                        <th id=\"T_e5902a38_7d71_11eb_9a9a_7c2a31f00fa9level0_row37\" class=\"row_heading level0 row37\" >37</th>\n",
       "                        <td id=\"T_e5902a38_7d71_11eb_9a9a_7c2a31f00fa9row37_col0\" class=\"data row37 col0\" >Combine Rare Levels</td>\n",
       "                        <td id=\"T_e5902a38_7d71_11eb_9a9a_7c2a31f00fa9row37_col1\" class=\"data row37 col1\" >False</td>\n",
       "            </tr>\n",
       "            <tr>\n",
       "                        <th id=\"T_e5902a38_7d71_11eb_9a9a_7c2a31f00fa9level0_row38\" class=\"row_heading level0 row38\" >38</th>\n",
       "                        <td id=\"T_e5902a38_7d71_11eb_9a9a_7c2a31f00fa9row38_col0\" class=\"data row38 col0\" >Rare Level Threshold</td>\n",
       "                        <td id=\"T_e5902a38_7d71_11eb_9a9a_7c2a31f00fa9row38_col1\" class=\"data row38 col1\" >None</td>\n",
       "            </tr>\n",
       "            <tr>\n",
       "                        <th id=\"T_e5902a38_7d71_11eb_9a9a_7c2a31f00fa9level0_row39\" class=\"row_heading level0 row39\" >39</th>\n",
       "                        <td id=\"T_e5902a38_7d71_11eb_9a9a_7c2a31f00fa9row39_col0\" class=\"data row39 col0\" >Numeric Binning</td>\n",
       "                        <td id=\"T_e5902a38_7d71_11eb_9a9a_7c2a31f00fa9row39_col1\" class=\"data row39 col1\" >False</td>\n",
       "            </tr>\n",
       "            <tr>\n",
       "                        <th id=\"T_e5902a38_7d71_11eb_9a9a_7c2a31f00fa9level0_row40\" class=\"row_heading level0 row40\" >40</th>\n",
       "                        <td id=\"T_e5902a38_7d71_11eb_9a9a_7c2a31f00fa9row40_col0\" class=\"data row40 col0\" >Remove Outliers</td>\n",
       "                        <td id=\"T_e5902a38_7d71_11eb_9a9a_7c2a31f00fa9row40_col1\" class=\"data row40 col1\" >False</td>\n",
       "            </tr>\n",
       "            <tr>\n",
       "                        <th id=\"T_e5902a38_7d71_11eb_9a9a_7c2a31f00fa9level0_row41\" class=\"row_heading level0 row41\" >41</th>\n",
       "                        <td id=\"T_e5902a38_7d71_11eb_9a9a_7c2a31f00fa9row41_col0\" class=\"data row41 col0\" >Outliers Threshold</td>\n",
       "                        <td id=\"T_e5902a38_7d71_11eb_9a9a_7c2a31f00fa9row41_col1\" class=\"data row41 col1\" >None</td>\n",
       "            </tr>\n",
       "            <tr>\n",
       "                        <th id=\"T_e5902a38_7d71_11eb_9a9a_7c2a31f00fa9level0_row42\" class=\"row_heading level0 row42\" >42</th>\n",
       "                        <td id=\"T_e5902a38_7d71_11eb_9a9a_7c2a31f00fa9row42_col0\" class=\"data row42 col0\" >Remove Multicollinearity</td>\n",
       "                        <td id=\"T_e5902a38_7d71_11eb_9a9a_7c2a31f00fa9row42_col1\" class=\"data row42 col1\" >False</td>\n",
       "            </tr>\n",
       "            <tr>\n",
       "                        <th id=\"T_e5902a38_7d71_11eb_9a9a_7c2a31f00fa9level0_row43\" class=\"row_heading level0 row43\" >43</th>\n",
       "                        <td id=\"T_e5902a38_7d71_11eb_9a9a_7c2a31f00fa9row43_col0\" class=\"data row43 col0\" >Multicollinearity Threshold</td>\n",
       "                        <td id=\"T_e5902a38_7d71_11eb_9a9a_7c2a31f00fa9row43_col1\" class=\"data row43 col1\" >None</td>\n",
       "            </tr>\n",
       "            <tr>\n",
       "                        <th id=\"T_e5902a38_7d71_11eb_9a9a_7c2a31f00fa9level0_row44\" class=\"row_heading level0 row44\" >44</th>\n",
       "                        <td id=\"T_e5902a38_7d71_11eb_9a9a_7c2a31f00fa9row44_col0\" class=\"data row44 col0\" >Clustering</td>\n",
       "                        <td id=\"T_e5902a38_7d71_11eb_9a9a_7c2a31f00fa9row44_col1\" class=\"data row44 col1\" >False</td>\n",
       "            </tr>\n",
       "            <tr>\n",
       "                        <th id=\"T_e5902a38_7d71_11eb_9a9a_7c2a31f00fa9level0_row45\" class=\"row_heading level0 row45\" >45</th>\n",
       "                        <td id=\"T_e5902a38_7d71_11eb_9a9a_7c2a31f00fa9row45_col0\" class=\"data row45 col0\" >Clustering Iteration</td>\n",
       "                        <td id=\"T_e5902a38_7d71_11eb_9a9a_7c2a31f00fa9row45_col1\" class=\"data row45 col1\" >None</td>\n",
       "            </tr>\n",
       "            <tr>\n",
       "                        <th id=\"T_e5902a38_7d71_11eb_9a9a_7c2a31f00fa9level0_row46\" class=\"row_heading level0 row46\" >46</th>\n",
       "                        <td id=\"T_e5902a38_7d71_11eb_9a9a_7c2a31f00fa9row46_col0\" class=\"data row46 col0\" >Polynomial Features</td>\n",
       "                        <td id=\"T_e5902a38_7d71_11eb_9a9a_7c2a31f00fa9row46_col1\" class=\"data row46 col1\" >False</td>\n",
       "            </tr>\n",
       "            <tr>\n",
       "                        <th id=\"T_e5902a38_7d71_11eb_9a9a_7c2a31f00fa9level0_row47\" class=\"row_heading level0 row47\" >47</th>\n",
       "                        <td id=\"T_e5902a38_7d71_11eb_9a9a_7c2a31f00fa9row47_col0\" class=\"data row47 col0\" >Polynomial Degree</td>\n",
       "                        <td id=\"T_e5902a38_7d71_11eb_9a9a_7c2a31f00fa9row47_col1\" class=\"data row47 col1\" >None</td>\n",
       "            </tr>\n",
       "            <tr>\n",
       "                        <th id=\"T_e5902a38_7d71_11eb_9a9a_7c2a31f00fa9level0_row48\" class=\"row_heading level0 row48\" >48</th>\n",
       "                        <td id=\"T_e5902a38_7d71_11eb_9a9a_7c2a31f00fa9row48_col0\" class=\"data row48 col0\" >Trignometry Features</td>\n",
       "                        <td id=\"T_e5902a38_7d71_11eb_9a9a_7c2a31f00fa9row48_col1\" class=\"data row48 col1\" >False</td>\n",
       "            </tr>\n",
       "            <tr>\n",
       "                        <th id=\"T_e5902a38_7d71_11eb_9a9a_7c2a31f00fa9level0_row49\" class=\"row_heading level0 row49\" >49</th>\n",
       "                        <td id=\"T_e5902a38_7d71_11eb_9a9a_7c2a31f00fa9row49_col0\" class=\"data row49 col0\" >Polynomial Threshold</td>\n",
       "                        <td id=\"T_e5902a38_7d71_11eb_9a9a_7c2a31f00fa9row49_col1\" class=\"data row49 col1\" >None</td>\n",
       "            </tr>\n",
       "            <tr>\n",
       "                        <th id=\"T_e5902a38_7d71_11eb_9a9a_7c2a31f00fa9level0_row50\" class=\"row_heading level0 row50\" >50</th>\n",
       "                        <td id=\"T_e5902a38_7d71_11eb_9a9a_7c2a31f00fa9row50_col0\" class=\"data row50 col0\" >Group Features</td>\n",
       "                        <td id=\"T_e5902a38_7d71_11eb_9a9a_7c2a31f00fa9row50_col1\" class=\"data row50 col1\" >False</td>\n",
       "            </tr>\n",
       "            <tr>\n",
       "                        <th id=\"T_e5902a38_7d71_11eb_9a9a_7c2a31f00fa9level0_row51\" class=\"row_heading level0 row51\" >51</th>\n",
       "                        <td id=\"T_e5902a38_7d71_11eb_9a9a_7c2a31f00fa9row51_col0\" class=\"data row51 col0\" >Feature Selection</td>\n",
       "                        <td id=\"T_e5902a38_7d71_11eb_9a9a_7c2a31f00fa9row51_col1\" class=\"data row51 col1\" >False</td>\n",
       "            </tr>\n",
       "            <tr>\n",
       "                        <th id=\"T_e5902a38_7d71_11eb_9a9a_7c2a31f00fa9level0_row52\" class=\"row_heading level0 row52\" >52</th>\n",
       "                        <td id=\"T_e5902a38_7d71_11eb_9a9a_7c2a31f00fa9row52_col0\" class=\"data row52 col0\" >Feature Selection Method</td>\n",
       "                        <td id=\"T_e5902a38_7d71_11eb_9a9a_7c2a31f00fa9row52_col1\" class=\"data row52 col1\" >classic</td>\n",
       "            </tr>\n",
       "            <tr>\n",
       "                        <th id=\"T_e5902a38_7d71_11eb_9a9a_7c2a31f00fa9level0_row53\" class=\"row_heading level0 row53\" >53</th>\n",
       "                        <td id=\"T_e5902a38_7d71_11eb_9a9a_7c2a31f00fa9row53_col0\" class=\"data row53 col0\" >Features Selection Threshold</td>\n",
       "                        <td id=\"T_e5902a38_7d71_11eb_9a9a_7c2a31f00fa9row53_col1\" class=\"data row53 col1\" >None</td>\n",
       "            </tr>\n",
       "            <tr>\n",
       "                        <th id=\"T_e5902a38_7d71_11eb_9a9a_7c2a31f00fa9level0_row54\" class=\"row_heading level0 row54\" >54</th>\n",
       "                        <td id=\"T_e5902a38_7d71_11eb_9a9a_7c2a31f00fa9row54_col0\" class=\"data row54 col0\" >Feature Interaction</td>\n",
       "                        <td id=\"T_e5902a38_7d71_11eb_9a9a_7c2a31f00fa9row54_col1\" class=\"data row54 col1\" >False</td>\n",
       "            </tr>\n",
       "            <tr>\n",
       "                        <th id=\"T_e5902a38_7d71_11eb_9a9a_7c2a31f00fa9level0_row55\" class=\"row_heading level0 row55\" >55</th>\n",
       "                        <td id=\"T_e5902a38_7d71_11eb_9a9a_7c2a31f00fa9row55_col0\" class=\"data row55 col0\" >Feature Ratio</td>\n",
       "                        <td id=\"T_e5902a38_7d71_11eb_9a9a_7c2a31f00fa9row55_col1\" class=\"data row55 col1\" >False</td>\n",
       "            </tr>\n",
       "            <tr>\n",
       "                        <th id=\"T_e5902a38_7d71_11eb_9a9a_7c2a31f00fa9level0_row56\" class=\"row_heading level0 row56\" >56</th>\n",
       "                        <td id=\"T_e5902a38_7d71_11eb_9a9a_7c2a31f00fa9row56_col0\" class=\"data row56 col0\" >Interaction Threshold</td>\n",
       "                        <td id=\"T_e5902a38_7d71_11eb_9a9a_7c2a31f00fa9row56_col1\" class=\"data row56 col1\" >None</td>\n",
       "            </tr>\n",
       "            <tr>\n",
       "                        <th id=\"T_e5902a38_7d71_11eb_9a9a_7c2a31f00fa9level0_row57\" class=\"row_heading level0 row57\" >57</th>\n",
       "                        <td id=\"T_e5902a38_7d71_11eb_9a9a_7c2a31f00fa9row57_col0\" class=\"data row57 col0\" >Fix Imbalance</td>\n",
       "                        <td id=\"T_e5902a38_7d71_11eb_9a9a_7c2a31f00fa9row57_col1\" class=\"data row57 col1\" >False</td>\n",
       "            </tr>\n",
       "            <tr>\n",
       "                        <th id=\"T_e5902a38_7d71_11eb_9a9a_7c2a31f00fa9level0_row58\" class=\"row_heading level0 row58\" >58</th>\n",
       "                        <td id=\"T_e5902a38_7d71_11eb_9a9a_7c2a31f00fa9row58_col0\" class=\"data row58 col0\" >Fix Imbalance Method</td>\n",
       "                        <td id=\"T_e5902a38_7d71_11eb_9a9a_7c2a31f00fa9row58_col1\" class=\"data row58 col1\" >SMOTE</td>\n",
       "            </tr>\n",
       "    </tbody></table>"
      ],
      "text/plain": [
       "<pandas.io.formats.style.Styler at 0x26dc93fc2c8>"
      ]
     },
     "metadata": {},
     "output_type": "display_data"
    }
   ],
   "source": [
    "clf1 = setup(data = median, \n",
    "             target = 'Total',\n",
    "             numeric_imputation = 'mean',\n",
    "             #categorical_features = ['Bedrooms'], \n",
    "             ignore_features = ['Bedrooms'],\n",
    "             silent = True)\n"
   ]
  },
  {
   "cell_type": "code",
   "execution_count": 23,
   "metadata": {},
   "outputs": [
    {
     "data": {
      "text/plain": [
       "array([[<AxesSubplot:title={'center':'Bedrooms'}>,\n",
       "        <AxesSubplot:title={'center':'value'}>]], dtype=object)"
      ]
     },
     "execution_count": 23,
     "metadata": {},
     "output_type": "execute_result"
    },
    {
     "data": {
      "image/png": "[encoded data removed]",
      "text/plain": [
       "<Figure size 432x288 with 2 Axes>"
      ]
     },
     "metadata": {
      "needs_background": "light"
     },
     "output_type": "display_data"
    }
   ],
   "source": [
    "median.hist(bins=20)"
   ]
  },
  {
   "cell_type": "code",
   "execution_count": 24,
   "metadata": {},
   "outputs": [
    {
     "data": {
      "text/plain": [
       "<AxesSubplot:>"
      ]
     },
     "execution_count": 24,
     "metadata": {},
     "output_type": "execute_result"
    },
    {
     "data": {
      "image/png": "[encoded data removed]",
      "text/plain": [
       "<Figure size 432x288 with 1 Axes>"
      ]
     },
     "metadata": {
      "needs_background": "light"
     },
     "output_type": "display_data"
    }
   ],
   "source": [
    "medianMelt.value.plot()"
   ]
  },
  {
   "cell_type": "code",
   "execution_count": null,
   "metadata": {},
   "outputs": [],
   "source": []
  },
  {
   "cell_type": "code",
   "execution_count": null,
   "metadata": {},
   "outputs": [],
   "source": []
  },
  {
   "cell_type": "code",
   "execution_count": 26,
   "metadata": {},
   "outputs": [],
   "source": [
    "import os"
   ]
  },
  {
   "cell_type": "code",
   "execution_count": null,
   "metadata": {},
   "outputs": [],
   "source": []
  },
  {
   "cell_type": "code",
   "execution_count": 27,
   "metadata": {},
   "outputs": [
    {
     "data": {
      "text/plain": [
       "environ{'ACLOCAL_PATH': 'C:\\\\Program Files\\\\Git\\\\mingw64\\\\share\\\\aclocal;C:\\\\Program Files\\\\Git\\\\usr\\\\share\\\\aclocal',\n",
       "        'ALLUSERSPROFILE': 'C:\\\\ProgramData',\n",
       "        'APPDATA': 'C:\\\\Users\\\\betan\\\\AppData\\\\Roaming',\n",
       "        'COMMONPROGRAMFILES': 'C:\\\\Program Files\\\\Common Files',\n",
       "        'COMPUTERNAME': 'DESKTOP-N71JR62',\n",
       "        'COMSPEC': 'C:\\\\WINDOWS\\\\system32\\\\cmd.exe',\n",
       "        'CONDA_DEFAULT_ENV': 'PythonTime',\n",
       "        'CONDA_EXE': 'C:/users/betan/anaconda3/Scripts/conda.exe',\n",
       "        'CONDA_PREFIX': 'C:\\\\users\\\\betan\\\\anaconda3\\\\envs\\\\PythonTime',\n",
       "        'CONDA_PROMPT_MODIFIER': '(PythonTime) ',\n",
       "        'CONDA_PYTHON_EXE': 'C:/users/betan/anaconda3/python.exe',\n",
       "        'CONDA_SHLVL': '1',\n",
       "        'CONFIG_SITE': 'C:/Program Files/Git/mingw64/etc/config.site',\n",
       "        'COMMONPROGRAMFILES(X86)': 'C:\\\\Program Files (x86)\\\\Common Files',\n",
       "        'COMMONPROGRAMW6432': 'C:\\\\Program Files\\\\Common Files',\n",
       "        'DISPLAY': 'needs-to-be-defined',\n",
       "        'DRIVERDATA': 'C:\\\\Windows\\\\System32\\\\Drivers\\\\DriverData',\n",
       "        'EXEPATH': 'C:\\\\Program Files\\\\Git',\n",
       "        'FPS_BROWSER_APP_PROFILE_STRING': 'Internet Explorer',\n",
       "        'FPS_BROWSER_USER_PROFILE_STRING': 'Default',\n",
       "        'HOME': 'C:\\\\Users\\\\betan',\n",
       "        'HOMEDRIVE': 'C:',\n",
       "        'HOMEPATH': '\\\\Users\\\\betan',\n",
       "        'HOSTNAME': 'DESKTOP-N71JR62',\n",
       "        'INFOPATH': 'C:\\\\Program Files\\\\Git\\\\usr\\\\local\\\\info;C:\\\\Program Files\\\\Git\\\\usr\\\\share\\\\info;C:\\\\Program Files\\\\Git\\\\usr\\\\info;C:\\\\Program Files\\\\Git\\\\share\\\\info',\n",
       "        'LANG': 'en_US.UTF-8',\n",
       "        'LOCALAPPDATA': 'C:\\\\Users\\\\betan\\\\AppData\\\\Local',\n",
       "        'LOGONSERVER': '\\\\\\\\DESKTOP-N71JR62',\n",
       "        'MANPATH': 'C:\\\\Program Files\\\\Git\\\\mingw64\\\\local\\\\man;C:\\\\Program Files\\\\Git\\\\mingw64\\\\share\\\\man;C:\\\\Program Files\\\\Git\\\\usr\\\\local\\\\man;C:\\\\Program Files\\\\Git\\\\usr\\\\share\\\\man;C:\\\\Program Files\\\\Git\\\\usr\\\\man;C:\\\\Program Files\\\\Git\\\\share\\\\man',\n",
       "        'MINGW_CHOST': 'x86_64-w64-mingw32',\n",
       "        'MINGW_PACKAGE_PREFIX': 'mingw-w64-x86_64',\n",
       "        'MINGW_PREFIX': 'C:/Program Files/Git/mingw64',\n",
       "        'MSYSTEM': 'MINGW64',\n",
       "        'MSYSTEM_CARCH': 'x86_64',\n",
       "        'MSYSTEM_CHOST': 'x86_64-w64-mingw32',\n",
       "        'MSYSTEM_PREFIX': 'C:/Program Files/Git/mingw64',\n",
       "        'NUMBER_OF_PROCESSORS': '12',\n",
       "        'ORIGINAL_PATH': 'C:\\\\Program Files\\\\Git\\\\mingw64\\\\bin;C:\\\\Program Files\\\\Git\\\\usr\\\\bin;C:\\\\Users\\\\betan\\\\bin;C:\\\\Windows\\\\system32;C:\\\\Windows;C:\\\\Windows\\\\System32\\\\Wbem;C:\\\\Windows\\\\System32\\\\WindowsPowerShell\\\\v1.0;C:\\\\Program Files (x86)\\\\NVIDIA Corporation\\\\PhysX\\\\Common;C:\\\\WINDOWS\\\\system32;C:\\\\WINDOWS;C:\\\\WINDOWS\\\\System32\\\\Wbem;C:\\\\WINDOWS\\\\System32\\\\WindowsPowerShell\\\\v1.0;C:\\\\WINDOWS\\\\System32\\\\OpenSSH;C:\\\\Program Files\\\\Intel\\\\WiFi\\\\bin;C:\\\\Program Files\\\\Common Files\\\\Intel\\\\WirelessCommon;C:\\\\Program Files (x86)\\\\Intel\\\\Intel(R) Management Engine Components\\\\DAL;C:\\\\Program Files\\\\Intel\\\\Intel(R) Management Engine Components\\\\DAL;C:\\\\Program Files\\\\Git\\\\cmd;C:\\\\Users\\\\betan\\\\AppData\\\\Local\\\\Microsoft\\\\WindowsApps;C:\\\\Users\\\\betan\\\\AppData\\\\Local\\\\Programs\\\\Microsoft VS Code\\\\bin;C:\\\\Program Files\\\\MongoDB\\\\Server\\\\4.4\\\\bin;C:\\\\Program Files\\\\heroku\\\\bin',\n",
       "        'ORIGINAL_TEMP': 'C:/Users/betan/AppData/Local/Temp',\n",
       "        'ORIGINAL_TMP': 'C:/Users/betan/AppData/Local/Temp',\n",
       "        'OS': 'Windows_NT',\n",
       "        'ONEDRIVE': 'C:\\\\Users\\\\betan\\\\OneDrive',\n",
       "        'ONEDRIVECONSUMER': 'C:\\\\Users\\\\betan\\\\OneDrive',\n",
       "        'PATH': 'C:\\\\users\\\\betan\\\\anaconda3\\\\envs\\\\PythonTime;C:\\\\users\\\\betan\\\\anaconda3\\\\envs\\\\PythonTime\\\\Library\\\\mingw-w64\\\\bin;C:\\\\users\\\\betan\\\\anaconda3\\\\envs\\\\PythonTime\\\\Library\\\\usr\\\\bin;C:\\\\users\\\\betan\\\\anaconda3\\\\envs\\\\PythonTime\\\\Library\\\\bin;C:\\\\users\\\\betan\\\\anaconda3\\\\envs\\\\PythonTime\\\\Scripts;C:\\\\users\\\\betan\\\\anaconda3\\\\envs\\\\PythonTime\\\\bin;C;C:\\\\Program Files\\\\Git\\\\users\\\\betan\\\\anaconda3;C;C:\\\\Program Files\\\\Git\\\\users\\\\betan\\\\anaconda3\\\\Library\\\\mingw-w64\\\\bin;C;C:\\\\Program Files\\\\Git\\\\users\\\\betan\\\\anaconda3\\\\Library\\\\usr\\\\bin;C;C:\\\\Program Files\\\\Git\\\\users\\\\betan\\\\anaconda3\\\\Library\\\\bin;C;C:\\\\Program Files\\\\Git\\\\users\\\\betan\\\\anaconda3\\\\Scripts;C;C:\\\\Program Files\\\\Git\\\\users\\\\betan\\\\anaconda3\\\\bin;C;C:\\\\Program Files\\\\Git\\\\users\\\\betan\\\\anaconda3\\\\Scripts\\\\condabin;C:\\\\Program Files\\\\R\\\\R-4.0.3\\\\bin\\\\x64;C:\\\\sqlite;C:\\\\users\\\\betan\\\\Anaconda3;C:\\\\users\\\\betan\\\\anaconda3\\\\scripts;C:\\\\Program Files\\\\PostgreSQL\\\\11\\\\bin;C:\\\\Program Files\\\\MongoDB\\\\Server\\\\4.0\\\\bin;C:\\\\Users\\\\betan\\\\bin;C:\\\\Program Files\\\\Git\\\\mingw64\\\\bin;C:\\\\Program Files\\\\Git\\\\usr\\\\local\\\\bin;C:\\\\Program Files\\\\Git\\\\usr\\\\bin;C:\\\\Program Files\\\\Git\\\\usr\\\\bin;C:\\\\Program Files\\\\Git\\\\mingw64\\\\bin;C:\\\\Program Files\\\\Git\\\\usr\\\\bin;C:\\\\Users\\\\betan\\\\bin;C:\\\\Windows\\\\system32;C:\\\\Windows;C:\\\\Windows\\\\System32\\\\Wbem;C:\\\\Windows\\\\System32\\\\WindowsPowerShell\\\\v1.0;C:\\\\Program Files (x86)\\\\NVIDIA Corporation\\\\PhysX\\\\Common;C:\\\\WINDOWS\\\\system32;C:\\\\WINDOWS;C:\\\\WINDOWS\\\\System32\\\\Wbem;C:\\\\WINDOWS\\\\System32\\\\WindowsPowerShell\\\\v1.0;C:\\\\WINDOWS\\\\System32\\\\OpenSSH;C:\\\\Program Files\\\\Intel\\\\WiFi\\\\bin;C:\\\\Program Files\\\\Common Files\\\\Intel\\\\WirelessCommon;C:\\\\Program Files (x86)\\\\Intel\\\\Intel(R) Management Engine Components\\\\DAL;C:\\\\Program Files\\\\Intel\\\\Intel(R) Management Engine Components\\\\DAL;C:\\\\Program Files\\\\Git\\\\cmd;C:\\\\Users\\\\betan\\\\AppData\\\\Local\\\\Microsoft\\\\WindowsApps;C:\\\\Users\\\\betan\\\\AppData\\\\Local\\\\Programs\\\\Microsoft VS Code\\\\bin;C:\\\\Program Files\\\\MongoDB\\\\Server\\\\4.4\\\\bin;C:\\\\Program Files\\\\heroku\\\\bin;C:\\\\Program Files\\\\Git\\\\usr\\\\bin\\\\vendor_perl;C:\\\\Program Files\\\\Git\\\\usr\\\\bin\\\\core_perl;C:\\\\users\\\\betan\\\\anaconda3\\\\envs\\\\PythonTime\\\\lib\\\\site-packages\\\\llvmlite\\\\binding',\n",
       "        'PATHEXT': '.COM;.EXE;.BAT;.CMD;.VBS;.VBE;.JS;.JSE;.WSF;.WSH;.MSC',\n",
       "        'PKG_CONFIG_PATH': 'C:\\\\Program Files\\\\Git\\\\mingw64\\\\lib\\\\pkgconfig;C:\\\\Program Files\\\\Git\\\\mingw64\\\\share\\\\pkgconfig',\n",
       "        'PLINK_PROTOCOL': 'ssh',\n",
       "        'PROCESSOR_ARCHITECTURE': 'AMD64',\n",
       "        'PROCESSOR_IDENTIFIER': 'Intel64 Family 6 Model 158 Stepping 10, GenuineIntel',\n",
       "        'PROCESSOR_LEVEL': '6',\n",
       "        'PROCESSOR_REVISION': '9e0a',\n",
       "        'PROGRAMFILES': 'C:\\\\Program Files',\n",
       "        'PROMPT': '$P$G',\n",
       "        'PS1': '(PythonTime) \\\\[\\\\033]0;$TITLEPREFIX:$PWD\\\\007\\\\]\\\\n\\\\[\\\\033[32m\\\\]\\\\u@\\\\h \\\\[\\\\033[35m\\\\]$MSYSTEM \\\\[\\\\033[33m\\\\]\\\\w\\\\[\\\\033[36m\\\\]`__git_ps1`\\\\[\\\\033[0m\\\\]\\\\n$ ',\n",
       "        'PSMODULEPATH': 'C:\\\\Program Files\\\\WindowsPowerShell\\\\Modules;C:\\\\WINDOWS\\\\system32\\\\WindowsPowerShell\\\\v1.0\\\\Modules',\n",
       "        'PUBLIC': 'C:\\\\Users\\\\Public',\n",
       "        'PWD': 'C:/Users/betan/Documents/Martin/Bootcamp',\n",
       "        'PROGRAMDATA': 'C:\\\\ProgramData',\n",
       "        'PROGRAMFILES(X86)': 'C:\\\\Program Files (x86)',\n",
       "        'PROGRAMW6432': 'C:\\\\Program Files',\n",
       "        'SESSIONNAME': 'Console',\n",
       "        'SHELL': 'C:\\\\Program Files\\\\Git\\\\usr\\\\bin\\\\bash.exe',\n",
       "        'SHLVL': '1',\n",
       "        'SQLPASS': '12345',\n",
       "        'SSH_ASKPASS': 'C:/Program Files/Git/mingw64/libexec/git-core/git-gui--askpass',\n",
       "        'SYSTEMDRIVE': 'C:',\n",
       "        'SYSTEMROOT': 'C:\\\\WINDOWS',\n",
       "        'TEMP': 'C:\\\\Users\\\\betan\\\\AppData\\\\Local\\\\Temp',\n",
       "        'TERM': 'xterm-color',\n",
       "        'TMP': 'C:\\\\Users\\\\betan\\\\AppData\\\\Local\\\\Temp',\n",
       "        'TMPDIR': 'C:\\\\Users\\\\betan\\\\AppData\\\\Local\\\\Temp',\n",
       "        'USERDOMAIN': 'DESKTOP-N71JR62',\n",
       "        'USERDOMAIN_ROAMINGPROFILE': 'DESKTOP-N71JR62',\n",
       "        'USERNAME': 'betan',\n",
       "        'USERPROFILE': 'C:\\\\Users\\\\betan',\n",
       "        'WINDIR': 'C:\\\\WINDOWS',\n",
       "        '_': 'C:/users/betan/anaconda3/envs/PythonTime/Scripts/jupyter',\n",
       "        '_CE_CONDA': '',\n",
       "        '_CE_M': '',\n",
       "        'JPY_INTERRUPT_EVENT': '2172',\n",
       "        'IPY_INTERRUPT_EVENT': '2172',\n",
       "        'JPY_PARENT_PID': '2176',\n",
       "        'CLICOLOR': '1',\n",
       "        'PAGER': 'cat',\n",
       "        'GIT_PAGER': 'cat',\n",
       "        'MPLBACKEND': 'module://ipykernel.pylab.backend_inline',\n",
       "        'KMP_DUPLICATE_LIB_OK': 'True',\n",
       "        'KMP_INIT_AT_FORK': 'FALSE'}"
      ]
     },
     "execution_count": 27,
     "metadata": {},
     "output_type": "execute_result"
    }
   ],
   "source": [
    "os.environ"
   ]
  },
  {
   "cell_type": "code",
   "execution_count": 28,
   "metadata": {},
   "outputs": [
    {
     "name": "stdout",
     "output_type": "stream",
     "text": [
      "/c/users/betan/anaconda3/envs/PythonTime/python\n"
     ]
    }
   ],
   "source": [
    "!which python"
   ]
  },
  {
   "cell_type": "code",
   "execution_count": 29,
   "metadata": {},
   "outputs": [
    {
     "name": "stdout",
     "output_type": "stream",
     "text": [
      "Python 3.7.9\n"
     ]
    }
   ],
   "source": [
    "!python --version"
   ]
  },
  {
   "cell_type": "code",
   "execution_count": null,
   "metadata": {},
   "outputs": [],
   "source": []
  }
 ],
 "metadata": {
  "kernelspec": {
   "display_name": "Python 3",
   "language": "python",
   "name": "python3"
  },
  "language_info": {
   "codemirror_mode": {
    "name": "ipython",
    "version": 3
   },
   "file_extension": ".py",
   "mimetype": "text/x-python",
   "name": "python",
   "nbconvert_exporter": "python",
   "pygments_lexer": "ipython3",
   "version": "3.7.9"
  }
 },
 "nbformat": 4,
 "nbformat_minor": 4
}
