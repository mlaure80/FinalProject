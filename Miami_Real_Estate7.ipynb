{
 "cells": [
  {
   "cell_type": "code",
   "execution_count": 1,
   "metadata": {},
   "outputs": [],
   "source": [
    "import os\n",
    "import pandas as pd\n",
    "import numpy as np\n",
    "from sklearn import linear_model\n",
    "from sklearn.metrics import mean_squared_error,r2_score\n",
    "from sklearn.model_selection import train_test_split\n",
    "# visualization libraries\n",
    "from matplotlib import pyplot as plt"
   ]
  },
  {
   "cell_type": "code",
   "execution_count": 2,
   "metadata": {},
   "outputs": [
    {
     "name": "stderr",
     "output_type": "stream",
     "text": [
      "C:\\users\\betan\\anaconda3\\envs\\PythonTime\\lib\\site-packages\\IPython\\core\\interactiveshell.py:3147: DtypeWarning: Columns (1,2) have mixed types.Specify dtype option on import or set low_memory=False.\n",
      "  interactivity=interactivity, compiler=compiler, result=result)\n"
     ]
    }
   ],
   "source": [
    "median=pd.read_csv('medianSalesPrice.csv', dtype={\"Bedrooms\": int, \"RegionName\": \"string\"})"
   ]
  },
  {
   "cell_type": "code",
   "execution_count": 3,
   "metadata": {},
   "outputs": [
    {
     "data": {
      "text/html": [
       "<div>\n",
       "<style scoped>\n",
       "    .dataframe tbody tr th:only-of-type {\n",
       "        vertical-align: middle;\n",
       "    }\n",
       "\n",
       "    .dataframe tbody tr th {\n",
       "        vertical-align: top;\n",
       "    }\n",
       "\n",
       "    .dataframe thead th {\n",
       "        text-align: right;\n",
       "    }\n",
       "</style>\n",
       "<table border=\"1\" class=\"dataframe\">\n",
       "  <thead>\n",
       "    <tr style=\"text-align: right;\">\n",
       "      <th></th>\n",
       "      <th>Bedrooms</th>\n",
       "      <th>RegionID</th>\n",
       "      <th>SizeRank</th>\n",
       "      <th>RegionName</th>\n",
       "      <th>RegionType</th>\n",
       "      <th>StateName</th>\n",
       "      <th>State</th>\n",
       "      <th>City</th>\n",
       "      <th>Metro</th>\n",
       "      <th>CountyName</th>\n",
       "      <th>...</th>\n",
       "      <th>4/30/2020</th>\n",
       "      <th>5/31/2020</th>\n",
       "      <th>6/30/2020</th>\n",
       "      <th>7/31/2020</th>\n",
       "      <th>8/31/2020</th>\n",
       "      <th>9/30/2020</th>\n",
       "      <th>10/31/2020</th>\n",
       "      <th>11/30/2020</th>\n",
       "      <th>12/31/2020</th>\n",
       "      <th>1/31/2021</th>\n",
       "    </tr>\n",
       "  </thead>\n",
       "  <tbody>\n",
       "    <tr>\n",
       "      <th>0</th>\n",
       "      <td>1</td>\n",
       "      <td>61639</td>\n",
       "      <td>0</td>\n",
       "      <td>10025</td>\n",
       "      <td>Zip</td>\n",
       "      <td>NY</td>\n",
       "      <td>NY</td>\n",
       "      <td>New York</td>\n",
       "      <td>New York-Newark-Jersey City</td>\n",
       "      <td>New York County</td>\n",
       "      <td>...</td>\n",
       "      <td>689319.0</td>\n",
       "      <td>688401.0</td>\n",
       "      <td>687989.0</td>\n",
       "      <td>686916.0</td>\n",
       "      <td>685278.0</td>\n",
       "      <td>682705.0</td>\n",
       "      <td>681110.0</td>\n",
       "      <td>680490.0</td>\n",
       "      <td>681329.0</td>\n",
       "      <td>681740.0</td>\n",
       "    </tr>\n",
       "    <tr>\n",
       "      <th>1</th>\n",
       "      <td>1</td>\n",
       "      <td>84654</td>\n",
       "      <td>1</td>\n",
       "      <td>60657</td>\n",
       "      <td>Zip</td>\n",
       "      <td>IL</td>\n",
       "      <td>IL</td>\n",
       "      <td>Chicago</td>\n",
       "      <td>Chicago-Naperville-Elgin</td>\n",
       "      <td>Cook County</td>\n",
       "      <td>...</td>\n",
       "      <td>217151.0</td>\n",
       "      <td>217353.0</td>\n",
       "      <td>217807.0</td>\n",
       "      <td>218778.0</td>\n",
       "      <td>220062.0</td>\n",
       "      <td>221396.0</td>\n",
       "      <td>222713.0</td>\n",
       "      <td>224034.0</td>\n",
       "      <td>225383.0</td>\n",
       "      <td>226155.0</td>\n",
       "    </tr>\n",
       "    <tr>\n",
       "      <th>2</th>\n",
       "      <td>1</td>\n",
       "      <td>61637</td>\n",
       "      <td>2</td>\n",
       "      <td>10023</td>\n",
       "      <td>Zip</td>\n",
       "      <td>NY</td>\n",
       "      <td>NY</td>\n",
       "      <td>New York</td>\n",
       "      <td>New York-Newark-Jersey City</td>\n",
       "      <td>New York County</td>\n",
       "      <td>...</td>\n",
       "      <td>764479.0</td>\n",
       "      <td>762927.0</td>\n",
       "      <td>763024.0</td>\n",
       "      <td>762572.0</td>\n",
       "      <td>762335.0</td>\n",
       "      <td>762696.0</td>\n",
       "      <td>764745.0</td>\n",
       "      <td>766037.0</td>\n",
       "      <td>768289.0</td>\n",
       "      <td>769852.0</td>\n",
       "    </tr>\n",
       "    <tr>\n",
       "      <th>3</th>\n",
       "      <td>1</td>\n",
       "      <td>84616</td>\n",
       "      <td>4</td>\n",
       "      <td>60614</td>\n",
       "      <td>Zip</td>\n",
       "      <td>IL</td>\n",
       "      <td>IL</td>\n",
       "      <td>Chicago</td>\n",
       "      <td>Chicago-Naperville-Elgin</td>\n",
       "      <td>Cook County</td>\n",
       "      <td>...</td>\n",
       "      <td>246589.0</td>\n",
       "      <td>246965.0</td>\n",
       "      <td>247455.0</td>\n",
       "      <td>247958.0</td>\n",
       "      <td>248226.0</td>\n",
       "      <td>248181.0</td>\n",
       "      <td>248364.0</td>\n",
       "      <td>249036.0</td>\n",
       "      <td>250130.0</td>\n",
       "      <td>250644.0</td>\n",
       "    </tr>\n",
       "    <tr>\n",
       "      <th>4</th>\n",
       "      <td>1</td>\n",
       "      <td>91940</td>\n",
       "      <td>5</td>\n",
       "      <td>77449</td>\n",
       "      <td>Zip</td>\n",
       "      <td>TX</td>\n",
       "      <td>TX</td>\n",
       "      <td>Katy</td>\n",
       "      <td>Houston-The Woodlands-Sugar Land</td>\n",
       "      <td>Harris County</td>\n",
       "      <td>...</td>\n",
       "      <td>137762.0</td>\n",
       "      <td>138753.0</td>\n",
       "      <td>139456.0</td>\n",
       "      <td>140111.0</td>\n",
       "      <td>140617.0</td>\n",
       "      <td>142016.0</td>\n",
       "      <td>143976.0</td>\n",
       "      <td>146953.0</td>\n",
       "      <td>149562.0</td>\n",
       "      <td>151943.0</td>\n",
       "    </tr>\n",
       "  </tbody>\n",
       "</table>\n",
       "<p>5 rows × 83 columns</p>\n",
       "</div>"
      ],
      "text/plain": [
       "   Bedrooms RegionID SizeRank RegionName RegionType StateName State      City  \\\n",
       "0         1    61639        0      10025        Zip        NY    NY  New York   \n",
       "1         1    84654        1      60657        Zip        IL    IL   Chicago   \n",
       "2         1    61637        2      10023        Zip        NY    NY  New York   \n",
       "3         1    84616        4      60614        Zip        IL    IL   Chicago   \n",
       "4         1    91940        5      77449        Zip        TX    TX      Katy   \n",
       "\n",
       "                              Metro       CountyName  ...  4/30/2020  \\\n",
       "0       New York-Newark-Jersey City  New York County  ...   689319.0   \n",
       "1          Chicago-Naperville-Elgin      Cook County  ...   217151.0   \n",
       "2       New York-Newark-Jersey City  New York County  ...   764479.0   \n",
       "3          Chicago-Naperville-Elgin      Cook County  ...   246589.0   \n",
       "4  Houston-The Woodlands-Sugar Land    Harris County  ...   137762.0   \n",
       "\n",
       "   5/31/2020  6/30/2020  7/31/2020  8/31/2020  9/30/2020  10/31/2020  \\\n",
       "0   688401.0   687989.0   686916.0   685278.0   682705.0    681110.0   \n",
       "1   217353.0   217807.0   218778.0   220062.0   221396.0    222713.0   \n",
       "2   762927.0   763024.0   762572.0   762335.0   762696.0    764745.0   \n",
       "3   246965.0   247455.0   247958.0   248226.0   248181.0    248364.0   \n",
       "4   138753.0   139456.0   140111.0   140617.0   142016.0    143976.0   \n",
       "\n",
       "   11/30/2020  12/31/2020  1/31/2021  \n",
       "0    680490.0    681329.0   681740.0  \n",
       "1    224034.0    225383.0   226155.0  \n",
       "2    766037.0    768289.0   769852.0  \n",
       "3    249036.0    250130.0   250644.0  \n",
       "4    146953.0    149562.0   151943.0  \n",
       "\n",
       "[5 rows x 83 columns]"
      ]
     },
     "execution_count": 3,
     "metadata": {},
     "output_type": "execute_result"
    }
   ],
   "source": [
    "median.head()"
   ]
  },
  {
   "cell_type": "code",
   "execution_count": 4,
   "metadata": {},
   "outputs": [
    {
     "data": {
      "text/plain": [
       "pandas.core.frame.DataFrame"
      ]
     },
     "execution_count": 4,
     "metadata": {},
     "output_type": "execute_result"
    }
   ],
   "source": [
    "type(median)"
   ]
  },
  {
   "cell_type": "code",
   "execution_count": 5,
   "metadata": {},
   "outputs": [],
   "source": [
    "median= median[median['RegionName']=='33178']"
   ]
  },
  {
   "cell_type": "code",
   "execution_count": 6,
   "metadata": {},
   "outputs": [
    {
     "data": {
      "text/html": [
       "<div>\n",
       "<style scoped>\n",
       "    .dataframe tbody tr th:only-of-type {\n",
       "        vertical-align: middle;\n",
       "    }\n",
       "\n",
       "    .dataframe tbody tr th {\n",
       "        vertical-align: top;\n",
       "    }\n",
       "\n",
       "    .dataframe thead th {\n",
       "        text-align: right;\n",
       "    }\n",
       "</style>\n",
       "<table border=\"1\" class=\"dataframe\">\n",
       "  <thead>\n",
       "    <tr style=\"text-align: right;\">\n",
       "      <th></th>\n",
       "      <th>Bedrooms</th>\n",
       "      <th>RegionID</th>\n",
       "      <th>SizeRank</th>\n",
       "      <th>RegionName</th>\n",
       "      <th>RegionType</th>\n",
       "      <th>StateName</th>\n",
       "      <th>State</th>\n",
       "      <th>City</th>\n",
       "      <th>Metro</th>\n",
       "      <th>CountyName</th>\n",
       "      <th>...</th>\n",
       "      <th>4/30/2020</th>\n",
       "      <th>5/31/2020</th>\n",
       "      <th>6/30/2020</th>\n",
       "      <th>7/31/2020</th>\n",
       "      <th>8/31/2020</th>\n",
       "      <th>9/30/2020</th>\n",
       "      <th>10/31/2020</th>\n",
       "      <th>11/30/2020</th>\n",
       "      <th>12/31/2020</th>\n",
       "      <th>1/31/2021</th>\n",
       "    </tr>\n",
       "  </thead>\n",
       "  <tbody>\n",
       "    <tr>\n",
       "      <th>623</th>\n",
       "      <td>1</td>\n",
       "      <td>72480</td>\n",
       "      <td>657</td>\n",
       "      <td>33178</td>\n",
       "      <td>Zip</td>\n",
       "      <td>FL</td>\n",
       "      <td>FL</td>\n",
       "      <td>Doral</td>\n",
       "      <td>Miami-Fort Lauderdale-West Palm Beach</td>\n",
       "      <td>Miami-Dade County</td>\n",
       "      <td>...</td>\n",
       "      <td>210973.0</td>\n",
       "      <td>209623.0</td>\n",
       "      <td>207865.0</td>\n",
       "      <td>206733.0</td>\n",
       "      <td>207315.0</td>\n",
       "      <td>208198.0</td>\n",
       "      <td>209419.0</td>\n",
       "      <td>209805.0</td>\n",
       "      <td>210270.0</td>\n",
       "      <td>210640.0</td>\n",
       "    </tr>\n",
       "    <tr>\n",
       "      <th>19200</th>\n",
       "      <td>2</td>\n",
       "      <td>72480</td>\n",
       "      <td>657</td>\n",
       "      <td>33178</td>\n",
       "      <td>Zip</td>\n",
       "      <td>FL</td>\n",
       "      <td>FL</td>\n",
       "      <td>Doral</td>\n",
       "      <td>Miami-Fort Lauderdale-West Palm Beach</td>\n",
       "      <td>Miami-Dade County</td>\n",
       "      <td>...</td>\n",
       "      <td>249556.0</td>\n",
       "      <td>249560.0</td>\n",
       "      <td>249134.0</td>\n",
       "      <td>249153.0</td>\n",
       "      <td>249559.0</td>\n",
       "      <td>250467.0</td>\n",
       "      <td>251510.0</td>\n",
       "      <td>252071.0</td>\n",
       "      <td>253238.0</td>\n",
       "      <td>254715.0</td>\n",
       "    </tr>\n",
       "    <tr>\n",
       "      <th>45955</th>\n",
       "      <td>3</td>\n",
       "      <td>72480</td>\n",
       "      <td>657</td>\n",
       "      <td>33178</td>\n",
       "      <td>Zip</td>\n",
       "      <td>FL</td>\n",
       "      <td>FL</td>\n",
       "      <td>Doral</td>\n",
       "      <td>Miami-Fort Lauderdale-West Palm Beach</td>\n",
       "      <td>Miami-Dade County</td>\n",
       "      <td>...</td>\n",
       "      <td>340325.0</td>\n",
       "      <td>340920.0</td>\n",
       "      <td>341534.0</td>\n",
       "      <td>342905.0</td>\n",
       "      <td>344561.0</td>\n",
       "      <td>346361.0</td>\n",
       "      <td>348205.0</td>\n",
       "      <td>349553.0</td>\n",
       "      <td>352206.0</td>\n",
       "      <td>355292.0</td>\n",
       "    </tr>\n",
       "    <tr>\n",
       "      <th>74754</th>\n",
       "      <td>4</td>\n",
       "      <td>72480</td>\n",
       "      <td>657</td>\n",
       "      <td>33178</td>\n",
       "      <td>Zip</td>\n",
       "      <td>FL</td>\n",
       "      <td>FL</td>\n",
       "      <td>Doral</td>\n",
       "      <td>Miami-Fort Lauderdale-West Palm Beach</td>\n",
       "      <td>Miami-Dade County</td>\n",
       "      <td>...</td>\n",
       "      <td>444277.0</td>\n",
       "      <td>444446.0</td>\n",
       "      <td>444955.0</td>\n",
       "      <td>446170.0</td>\n",
       "      <td>447755.0</td>\n",
       "      <td>449881.0</td>\n",
       "      <td>452519.0</td>\n",
       "      <td>455077.0</td>\n",
       "      <td>458819.0</td>\n",
       "      <td>462917.0</td>\n",
       "    </tr>\n",
       "    <tr>\n",
       "      <th>101331</th>\n",
       "      <td>5</td>\n",
       "      <td>72480</td>\n",
       "      <td>657</td>\n",
       "      <td>33178</td>\n",
       "      <td>Zip</td>\n",
       "      <td>FL</td>\n",
       "      <td>FL</td>\n",
       "      <td>Doral</td>\n",
       "      <td>Miami-Fort Lauderdale-West Palm Beach</td>\n",
       "      <td>Miami-Dade County</td>\n",
       "      <td>...</td>\n",
       "      <td>695127.0</td>\n",
       "      <td>694260.0</td>\n",
       "      <td>694655.0</td>\n",
       "      <td>697251.0</td>\n",
       "      <td>698968.0</td>\n",
       "      <td>701111.0</td>\n",
       "      <td>703419.0</td>\n",
       "      <td>706214.0</td>\n",
       "      <td>709939.0</td>\n",
       "      <td>714459.0</td>\n",
       "    </tr>\n",
       "  </tbody>\n",
       "</table>\n",
       "<p>5 rows × 83 columns</p>\n",
       "</div>"
      ],
      "text/plain": [
       "        Bedrooms RegionID SizeRank RegionName RegionType StateName State  \\\n",
       "623            1    72480      657      33178        Zip        FL    FL   \n",
       "19200          2    72480      657      33178        Zip        FL    FL   \n",
       "45955          3    72480      657      33178        Zip        FL    FL   \n",
       "74754          4    72480      657      33178        Zip        FL    FL   \n",
       "101331         5    72480      657      33178        Zip        FL    FL   \n",
       "\n",
       "         City                                  Metro         CountyName  ...  \\\n",
       "623     Doral  Miami-Fort Lauderdale-West Palm Beach  Miami-Dade County  ...   \n",
       "19200   Doral  Miami-Fort Lauderdale-West Palm Beach  Miami-Dade County  ...   \n",
       "45955   Doral  Miami-Fort Lauderdale-West Palm Beach  Miami-Dade County  ...   \n",
       "74754   Doral  Miami-Fort Lauderdale-West Palm Beach  Miami-Dade County  ...   \n",
       "101331  Doral  Miami-Fort Lauderdale-West Palm Beach  Miami-Dade County  ...   \n",
       "\n",
       "        4/30/2020  5/31/2020  6/30/2020  7/31/2020  8/31/2020  9/30/2020  \\\n",
       "623      210973.0   209623.0   207865.0   206733.0   207315.0   208198.0   \n",
       "19200    249556.0   249560.0   249134.0   249153.0   249559.0   250467.0   \n",
       "45955    340325.0   340920.0   341534.0   342905.0   344561.0   346361.0   \n",
       "74754    444277.0   444446.0   444955.0   446170.0   447755.0   449881.0   \n",
       "101331   695127.0   694260.0   694655.0   697251.0   698968.0   701111.0   \n",
       "\n",
       "        10/31/2020  11/30/2020  12/31/2020  1/31/2021  \n",
       "623       209419.0    209805.0    210270.0   210640.0  \n",
       "19200     251510.0    252071.0    253238.0   254715.0  \n",
       "45955     348205.0    349553.0    352206.0   355292.0  \n",
       "74754     452519.0    455077.0    458819.0   462917.0  \n",
       "101331    703419.0    706214.0    709939.0   714459.0  \n",
       "\n",
       "[5 rows x 83 columns]"
      ]
     },
     "execution_count": 6,
     "metadata": {},
     "output_type": "execute_result"
    }
   ],
   "source": [
    "median.head()"
   ]
  },
  {
   "cell_type": "code",
   "execution_count": 7,
   "metadata": {},
   "outputs": [],
   "source": [
    "median=median.drop(columns=['RegionID','SizeRank','RegionName','RegionType','StateName','State','Metro'])"
   ]
  },
  {
   "cell_type": "code",
   "execution_count": 8,
   "metadata": {},
   "outputs": [
    {
     "name": "stdout",
     "output_type": "stream",
     "text": [
      "Bedrooms        int32\n",
      "City           object\n",
      "CountyName     object\n",
      "1/31/2015     float64\n",
      "2/28/2015     float64\n",
      "               ...   \n",
      "9/30/2020     float64\n",
      "10/31/2020    float64\n",
      "11/30/2020    float64\n",
      "12/31/2020    float64\n",
      "1/31/2021     float64\n",
      "Length: 76, dtype: object\n"
     ]
    }
   ],
   "source": [
    "print(median.dtypes)"
   ]
  },
  {
   "cell_type": "code",
   "execution_count": 9,
   "metadata": {},
   "outputs": [
    {
     "data": {
      "text/html": [
       "<div>\n",
       "<style scoped>\n",
       "    .dataframe tbody tr th:only-of-type {\n",
       "        vertical-align: middle;\n",
       "    }\n",
       "\n",
       "    .dataframe tbody tr th {\n",
       "        vertical-align: top;\n",
       "    }\n",
       "\n",
       "    .dataframe thead th {\n",
       "        text-align: right;\n",
       "    }\n",
       "</style>\n",
       "<table border=\"1\" class=\"dataframe\">\n",
       "  <thead>\n",
       "    <tr style=\"text-align: right;\">\n",
       "      <th></th>\n",
       "      <th>Bedrooms</th>\n",
       "      <th>City</th>\n",
       "      <th>CountyName</th>\n",
       "      <th>1/31/2015</th>\n",
       "      <th>2/28/2015</th>\n",
       "      <th>3/31/2015</th>\n",
       "      <th>4/30/2015</th>\n",
       "      <th>5/31/2015</th>\n",
       "      <th>6/30/2015</th>\n",
       "      <th>7/31/2015</th>\n",
       "      <th>...</th>\n",
       "      <th>4/30/2020</th>\n",
       "      <th>5/31/2020</th>\n",
       "      <th>6/30/2020</th>\n",
       "      <th>7/31/2020</th>\n",
       "      <th>8/31/2020</th>\n",
       "      <th>9/30/2020</th>\n",
       "      <th>10/31/2020</th>\n",
       "      <th>11/30/2020</th>\n",
       "      <th>12/31/2020</th>\n",
       "      <th>1/31/2021</th>\n",
       "    </tr>\n",
       "  </thead>\n",
       "  <tbody>\n",
       "    <tr>\n",
       "      <th>623</th>\n",
       "      <td>False</td>\n",
       "      <td>False</td>\n",
       "      <td>False</td>\n",
       "      <td>False</td>\n",
       "      <td>False</td>\n",
       "      <td>False</td>\n",
       "      <td>False</td>\n",
       "      <td>False</td>\n",
       "      <td>False</td>\n",
       "      <td>False</td>\n",
       "      <td>...</td>\n",
       "      <td>False</td>\n",
       "      <td>False</td>\n",
       "      <td>False</td>\n",
       "      <td>False</td>\n",
       "      <td>False</td>\n",
       "      <td>False</td>\n",
       "      <td>False</td>\n",
       "      <td>False</td>\n",
       "      <td>False</td>\n",
       "      <td>False</td>\n",
       "    </tr>\n",
       "    <tr>\n",
       "      <th>19200</th>\n",
       "      <td>False</td>\n",
       "      <td>False</td>\n",
       "      <td>False</td>\n",
       "      <td>False</td>\n",
       "      <td>False</td>\n",
       "      <td>False</td>\n",
       "      <td>False</td>\n",
       "      <td>False</td>\n",
       "      <td>False</td>\n",
       "      <td>False</td>\n",
       "      <td>...</td>\n",
       "      <td>False</td>\n",
       "      <td>False</td>\n",
       "      <td>False</td>\n",
       "      <td>False</td>\n",
       "      <td>False</td>\n",
       "      <td>False</td>\n",
       "      <td>False</td>\n",
       "      <td>False</td>\n",
       "      <td>False</td>\n",
       "      <td>False</td>\n",
       "    </tr>\n",
       "    <tr>\n",
       "      <th>45955</th>\n",
       "      <td>False</td>\n",
       "      <td>False</td>\n",
       "      <td>False</td>\n",
       "      <td>False</td>\n",
       "      <td>False</td>\n",
       "      <td>False</td>\n",
       "      <td>False</td>\n",
       "      <td>False</td>\n",
       "      <td>False</td>\n",
       "      <td>False</td>\n",
       "      <td>...</td>\n",
       "      <td>False</td>\n",
       "      <td>False</td>\n",
       "      <td>False</td>\n",
       "      <td>False</td>\n",
       "      <td>False</td>\n",
       "      <td>False</td>\n",
       "      <td>False</td>\n",
       "      <td>False</td>\n",
       "      <td>False</td>\n",
       "      <td>False</td>\n",
       "    </tr>\n",
       "    <tr>\n",
       "      <th>74754</th>\n",
       "      <td>False</td>\n",
       "      <td>False</td>\n",
       "      <td>False</td>\n",
       "      <td>False</td>\n",
       "      <td>False</td>\n",
       "      <td>False</td>\n",
       "      <td>False</td>\n",
       "      <td>False</td>\n",
       "      <td>False</td>\n",
       "      <td>False</td>\n",
       "      <td>...</td>\n",
       "      <td>False</td>\n",
       "      <td>False</td>\n",
       "      <td>False</td>\n",
       "      <td>False</td>\n",
       "      <td>False</td>\n",
       "      <td>False</td>\n",
       "      <td>False</td>\n",
       "      <td>False</td>\n",
       "      <td>False</td>\n",
       "      <td>False</td>\n",
       "    </tr>\n",
       "    <tr>\n",
       "      <th>101331</th>\n",
       "      <td>False</td>\n",
       "      <td>False</td>\n",
       "      <td>False</td>\n",
       "      <td>False</td>\n",
       "      <td>False</td>\n",
       "      <td>False</td>\n",
       "      <td>False</td>\n",
       "      <td>False</td>\n",
       "      <td>False</td>\n",
       "      <td>False</td>\n",
       "      <td>...</td>\n",
       "      <td>False</td>\n",
       "      <td>False</td>\n",
       "      <td>False</td>\n",
       "      <td>False</td>\n",
       "      <td>False</td>\n",
       "      <td>False</td>\n",
       "      <td>False</td>\n",
       "      <td>False</td>\n",
       "      <td>False</td>\n",
       "      <td>False</td>\n",
       "    </tr>\n",
       "  </tbody>\n",
       "</table>\n",
       "<p>5 rows × 76 columns</p>\n",
       "</div>"
      ],
      "text/plain": [
       "        Bedrooms   City  CountyName  1/31/2015  2/28/2015  3/31/2015  \\\n",
       "623        False  False       False      False      False      False   \n",
       "19200      False  False       False      False      False      False   \n",
       "45955      False  False       False      False      False      False   \n",
       "74754      False  False       False      False      False      False   \n",
       "101331     False  False       False      False      False      False   \n",
       "\n",
       "        4/30/2015  5/31/2015  6/30/2015  7/31/2015  ...  4/30/2020  5/31/2020  \\\n",
       "623         False      False      False      False  ...      False      False   \n",
       "19200       False      False      False      False  ...      False      False   \n",
       "45955       False      False      False      False  ...      False      False   \n",
       "74754       False      False      False      False  ...      False      False   \n",
       "101331      False      False      False      False  ...      False      False   \n",
       "\n",
       "        6/30/2020  7/31/2020  8/31/2020  9/30/2020  10/31/2020  11/30/2020  \\\n",
       "623         False      False      False      False       False       False   \n",
       "19200       False      False      False      False       False       False   \n",
       "45955       False      False      False      False       False       False   \n",
       "74754       False      False      False      False       False       False   \n",
       "101331      False      False      False      False       False       False   \n",
       "\n",
       "        12/31/2020  1/31/2021  \n",
       "623          False      False  \n",
       "19200        False      False  \n",
       "45955        False      False  \n",
       "74754        False      False  \n",
       "101331       False      False  \n",
       "\n",
       "[5 rows x 76 columns]"
      ]
     },
     "execution_count": 9,
     "metadata": {},
     "output_type": "execute_result"
    }
   ],
   "source": [
    "median.isnull()"
   ]
  },
  {
   "cell_type": "code",
   "execution_count": 10,
   "metadata": {},
   "outputs": [
    {
     "data": {
      "text/plain": [
       "Series([], dtype: float64)"
      ]
     },
     "execution_count": 10,
     "metadata": {},
     "output_type": "execute_result"
    }
   ],
   "source": [
    "null_columns=median.columns[median.isnull().any()]\n",
    "median[null_columns].isnull().sum()"
   ]
  },
  {
   "cell_type": "code",
   "execution_count": 11,
   "metadata": {},
   "outputs": [],
   "source": [
    "median = median.fillna(0)"
   ]
  },
  {
   "cell_type": "code",
   "execution_count": 12,
   "metadata": {},
   "outputs": [
    {
     "data": {
      "text/plain": [
       "Series([], dtype: float64)"
      ]
     },
     "execution_count": 12,
     "metadata": {},
     "output_type": "execute_result"
    }
   ],
   "source": [
    "null_columns=median.columns[median.isnull().any()]\n",
    "median[null_columns].isnull().sum()"
   ]
  },
  {
   "cell_type": "code",
   "execution_count": 13,
   "metadata": {},
   "outputs": [],
   "source": [
    "medianMelt= pd.melt(median, id_vars=['Bedrooms', 'City', 'CountyName'])"
   ]
  },
  {
   "cell_type": "code",
   "execution_count": 14,
   "metadata": {},
   "outputs": [
    {
     "data": {
      "text/html": [
       "<div>\n",
       "<style scoped>\n",
       "    .dataframe tbody tr th:only-of-type {\n",
       "        vertical-align: middle;\n",
       "    }\n",
       "\n",
       "    .dataframe tbody tr th {\n",
       "        vertical-align: top;\n",
       "    }\n",
       "\n",
       "    .dataframe thead th {\n",
       "        text-align: right;\n",
       "    }\n",
       "</style>\n",
       "<table border=\"1\" class=\"dataframe\">\n",
       "  <thead>\n",
       "    <tr style=\"text-align: right;\">\n",
       "      <th></th>\n",
       "      <th>Bedrooms</th>\n",
       "      <th>City</th>\n",
       "      <th>CountyName</th>\n",
       "      <th>variable</th>\n",
       "      <th>value</th>\n",
       "    </tr>\n",
       "  </thead>\n",
       "  <tbody>\n",
       "    <tr>\n",
       "      <th>0</th>\n",
       "      <td>1</td>\n",
       "      <td>Doral</td>\n",
       "      <td>Miami-Dade County</td>\n",
       "      <td>1/31/2015</td>\n",
       "      <td>219321.0</td>\n",
       "    </tr>\n",
       "    <tr>\n",
       "      <th>1</th>\n",
       "      <td>2</td>\n",
       "      <td>Doral</td>\n",
       "      <td>Miami-Dade County</td>\n",
       "      <td>1/31/2015</td>\n",
       "      <td>231300.0</td>\n",
       "    </tr>\n",
       "    <tr>\n",
       "      <th>2</th>\n",
       "      <td>3</td>\n",
       "      <td>Doral</td>\n",
       "      <td>Miami-Dade County</td>\n",
       "      <td>1/31/2015</td>\n",
       "      <td>316331.0</td>\n",
       "    </tr>\n",
       "    <tr>\n",
       "      <th>3</th>\n",
       "      <td>4</td>\n",
       "      <td>Doral</td>\n",
       "      <td>Miami-Dade County</td>\n",
       "      <td>1/31/2015</td>\n",
       "      <td>460123.0</td>\n",
       "    </tr>\n",
       "    <tr>\n",
       "      <th>4</th>\n",
       "      <td>5</td>\n",
       "      <td>Doral</td>\n",
       "      <td>Miami-Dade County</td>\n",
       "      <td>1/31/2015</td>\n",
       "      <td>787990.0</td>\n",
       "    </tr>\n",
       "    <tr>\n",
       "      <th>...</th>\n",
       "      <td>...</td>\n",
       "      <td>...</td>\n",
       "      <td>...</td>\n",
       "      <td>...</td>\n",
       "      <td>...</td>\n",
       "    </tr>\n",
       "    <tr>\n",
       "      <th>360</th>\n",
       "      <td>1</td>\n",
       "      <td>Doral</td>\n",
       "      <td>Miami-Dade County</td>\n",
       "      <td>1/31/2021</td>\n",
       "      <td>210640.0</td>\n",
       "    </tr>\n",
       "    <tr>\n",
       "      <th>361</th>\n",
       "      <td>2</td>\n",
       "      <td>Doral</td>\n",
       "      <td>Miami-Dade County</td>\n",
       "      <td>1/31/2021</td>\n",
       "      <td>254715.0</td>\n",
       "    </tr>\n",
       "    <tr>\n",
       "      <th>362</th>\n",
       "      <td>3</td>\n",
       "      <td>Doral</td>\n",
       "      <td>Miami-Dade County</td>\n",
       "      <td>1/31/2021</td>\n",
       "      <td>355292.0</td>\n",
       "    </tr>\n",
       "    <tr>\n",
       "      <th>363</th>\n",
       "      <td>4</td>\n",
       "      <td>Doral</td>\n",
       "      <td>Miami-Dade County</td>\n",
       "      <td>1/31/2021</td>\n",
       "      <td>462917.0</td>\n",
       "    </tr>\n",
       "    <tr>\n",
       "      <th>364</th>\n",
       "      <td>5</td>\n",
       "      <td>Doral</td>\n",
       "      <td>Miami-Dade County</td>\n",
       "      <td>1/31/2021</td>\n",
       "      <td>714459.0</td>\n",
       "    </tr>\n",
       "  </tbody>\n",
       "</table>\n",
       "<p>365 rows × 5 columns</p>\n",
       "</div>"
      ],
      "text/plain": [
       "     Bedrooms   City         CountyName   variable     value\n",
       "0           1  Doral  Miami-Dade County  1/31/2015  219321.0\n",
       "1           2  Doral  Miami-Dade County  1/31/2015  231300.0\n",
       "2           3  Doral  Miami-Dade County  1/31/2015  316331.0\n",
       "3           4  Doral  Miami-Dade County  1/31/2015  460123.0\n",
       "4           5  Doral  Miami-Dade County  1/31/2015  787990.0\n",
       "..        ...    ...                ...        ...       ...\n",
       "360         1  Doral  Miami-Dade County  1/31/2021  210640.0\n",
       "361         2  Doral  Miami-Dade County  1/31/2021  254715.0\n",
       "362         3  Doral  Miami-Dade County  1/31/2021  355292.0\n",
       "363         4  Doral  Miami-Dade County  1/31/2021  462917.0\n",
       "364         5  Doral  Miami-Dade County  1/31/2021  714459.0\n",
       "\n",
       "[365 rows x 5 columns]"
      ]
     },
     "execution_count": 14,
     "metadata": {},
     "output_type": "execute_result"
    }
   ],
   "source": [
    "medianMelt"
   ]
  },
  {
   "cell_type": "code",
   "execution_count": 15,
   "metadata": {},
   "outputs": [],
   "source": [
    "medianDummy = pd.get_dummies(medianMelt, columns=['City'])"
   ]
  },
  {
   "cell_type": "code",
   "execution_count": 16,
   "metadata": {},
   "outputs": [],
   "source": [
    "medianDummy.rename(columns={'variable':'date'},inplace=True)"
   ]
  },
  {
   "cell_type": "code",
   "execution_count": 17,
   "metadata": {},
   "outputs": [
    {
     "data": {
      "text/html": [
       "<div>\n",
       "<style scoped>\n",
       "    .dataframe tbody tr th:only-of-type {\n",
       "        vertical-align: middle;\n",
       "    }\n",
       "\n",
       "    .dataframe tbody tr th {\n",
       "        vertical-align: top;\n",
       "    }\n",
       "\n",
       "    .dataframe thead th {\n",
       "        text-align: right;\n",
       "    }\n",
       "</style>\n",
       "<table border=\"1\" class=\"dataframe\">\n",
       "  <thead>\n",
       "    <tr style=\"text-align: right;\">\n",
       "      <th></th>\n",
       "      <th>Bedrooms</th>\n",
       "      <th>CountyName</th>\n",
       "      <th>date</th>\n",
       "      <th>value</th>\n",
       "      <th>City_Doral</th>\n",
       "    </tr>\n",
       "  </thead>\n",
       "  <tbody>\n",
       "    <tr>\n",
       "      <th>360</th>\n",
       "      <td>1</td>\n",
       "      <td>Miami-Dade County</td>\n",
       "      <td>1/31/2021</td>\n",
       "      <td>210640.0</td>\n",
       "      <td>1</td>\n",
       "    </tr>\n",
       "    <tr>\n",
       "      <th>361</th>\n",
       "      <td>2</td>\n",
       "      <td>Miami-Dade County</td>\n",
       "      <td>1/31/2021</td>\n",
       "      <td>254715.0</td>\n",
       "      <td>1</td>\n",
       "    </tr>\n",
       "    <tr>\n",
       "      <th>362</th>\n",
       "      <td>3</td>\n",
       "      <td>Miami-Dade County</td>\n",
       "      <td>1/31/2021</td>\n",
       "      <td>355292.0</td>\n",
       "      <td>1</td>\n",
       "    </tr>\n",
       "    <tr>\n",
       "      <th>363</th>\n",
       "      <td>4</td>\n",
       "      <td>Miami-Dade County</td>\n",
       "      <td>1/31/2021</td>\n",
       "      <td>462917.0</td>\n",
       "      <td>1</td>\n",
       "    </tr>\n",
       "    <tr>\n",
       "      <th>364</th>\n",
       "      <td>5</td>\n",
       "      <td>Miami-Dade County</td>\n",
       "      <td>1/31/2021</td>\n",
       "      <td>714459.0</td>\n",
       "      <td>1</td>\n",
       "    </tr>\n",
       "  </tbody>\n",
       "</table>\n",
       "</div>"
      ],
      "text/plain": [
       "     Bedrooms         CountyName       date     value  City_Doral\n",
       "360         1  Miami-Dade County  1/31/2021  210640.0           1\n",
       "361         2  Miami-Dade County  1/31/2021  254715.0           1\n",
       "362         3  Miami-Dade County  1/31/2021  355292.0           1\n",
       "363         4  Miami-Dade County  1/31/2021  462917.0           1\n",
       "364         5  Miami-Dade County  1/31/2021  714459.0           1"
      ]
     },
     "execution_count": 17,
     "metadata": {},
     "output_type": "execute_result"
    }
   ],
   "source": [
    "medianDummy.tail()"
   ]
  },
  {
   "cell_type": "code",
   "execution_count": 18,
   "metadata": {},
   "outputs": [],
   "source": [
    "medianDummy['date']=pd.to_datetime(medianDummy['date'])"
   ]
  },
  {
   "cell_type": "code",
   "execution_count": 19,
   "metadata": {},
   "outputs": [
    {
     "data": {
      "text/html": [
       "<div>\n",
       "<style scoped>\n",
       "    .dataframe tbody tr th:only-of-type {\n",
       "        vertical-align: middle;\n",
       "    }\n",
       "\n",
       "    .dataframe tbody tr th {\n",
       "        vertical-align: top;\n",
       "    }\n",
       "\n",
       "    .dataframe thead th {\n",
       "        text-align: right;\n",
       "    }\n",
       "</style>\n",
       "<table border=\"1\" class=\"dataframe\">\n",
       "  <thead>\n",
       "    <tr style=\"text-align: right;\">\n",
       "      <th></th>\n",
       "      <th></th>\n",
       "      <th>Bedrooms</th>\n",
       "      <th>value</th>\n",
       "      <th>City_Doral</th>\n",
       "    </tr>\n",
       "    <tr>\n",
       "      <th>CountyName</th>\n",
       "      <th>date</th>\n",
       "      <th></th>\n",
       "      <th></th>\n",
       "      <th></th>\n",
       "    </tr>\n",
       "  </thead>\n",
       "  <tbody>\n",
       "    <tr>\n",
       "      <th rowspan=\"11\" valign=\"top\">Miami-Dade County</th>\n",
       "      <th>2015-01-31</th>\n",
       "      <td>3</td>\n",
       "      <td>403013.0</td>\n",
       "      <td>1</td>\n",
       "    </tr>\n",
       "    <tr>\n",
       "      <th>2015-02-28</th>\n",
       "      <td>3</td>\n",
       "      <td>403556.8</td>\n",
       "      <td>1</td>\n",
       "    </tr>\n",
       "    <tr>\n",
       "      <th>2015-03-31</th>\n",
       "      <td>3</td>\n",
       "      <td>403896.6</td>\n",
       "      <td>1</td>\n",
       "    </tr>\n",
       "    <tr>\n",
       "      <th>2015-04-30</th>\n",
       "      <td>3</td>\n",
       "      <td>404460.0</td>\n",
       "      <td>1</td>\n",
       "    </tr>\n",
       "    <tr>\n",
       "      <th>2015-05-31</th>\n",
       "      <td>3</td>\n",
       "      <td>405575.6</td>\n",
       "      <td>1</td>\n",
       "    </tr>\n",
       "    <tr>\n",
       "      <th>...</th>\n",
       "      <td>...</td>\n",
       "      <td>...</td>\n",
       "      <td>...</td>\n",
       "    </tr>\n",
       "    <tr>\n",
       "      <th>2020-09-30</th>\n",
       "      <td>3</td>\n",
       "      <td>391203.6</td>\n",
       "      <td>1</td>\n",
       "    </tr>\n",
       "    <tr>\n",
       "      <th>2020-10-31</th>\n",
       "      <td>3</td>\n",
       "      <td>393014.4</td>\n",
       "      <td>1</td>\n",
       "    </tr>\n",
       "    <tr>\n",
       "      <th>2020-11-30</th>\n",
       "      <td>3</td>\n",
       "      <td>394544.0</td>\n",
       "      <td>1</td>\n",
       "    </tr>\n",
       "    <tr>\n",
       "      <th>2020-12-31</th>\n",
       "      <td>3</td>\n",
       "      <td>396894.4</td>\n",
       "      <td>1</td>\n",
       "    </tr>\n",
       "    <tr>\n",
       "      <th>2021-01-31</th>\n",
       "      <td>3</td>\n",
       "      <td>399604.6</td>\n",
       "      <td>1</td>\n",
       "    </tr>\n",
       "  </tbody>\n",
       "</table>\n",
       "<p>73 rows × 3 columns</p>\n",
       "</div>"
      ],
      "text/plain": [
       "                              Bedrooms     value  City_Doral\n",
       "CountyName        date                                      \n",
       "Miami-Dade County 2015-01-31         3  403013.0           1\n",
       "                  2015-02-28         3  403556.8           1\n",
       "                  2015-03-31         3  403896.6           1\n",
       "                  2015-04-30         3  404460.0           1\n",
       "                  2015-05-31         3  405575.6           1\n",
       "...                                ...       ...         ...\n",
       "                  2020-09-30         3  391203.6           1\n",
       "                  2020-10-31         3  393014.4           1\n",
       "                  2020-11-30         3  394544.0           1\n",
       "                  2020-12-31         3  396894.4           1\n",
       "                  2021-01-31         3  399604.6           1\n",
       "\n",
       "[73 rows x 3 columns]"
      ]
     },
     "execution_count": 19,
     "metadata": {},
     "output_type": "execute_result"
    }
   ],
   "source": [
    "medianDummy.groupby(['CountyName','date']).mean()"
   ]
  },
  {
   "cell_type": "code",
   "execution_count": 20,
   "metadata": {},
   "outputs": [
    {
     "data": {
      "text/plain": [
       "date\n",
       "2015-01-31    403013.0\n",
       "2015-02-28    403556.8\n",
       "2015-03-31    403896.6\n",
       "2015-04-30    404460.0\n",
       "2015-05-31    405575.6\n",
       "                ...   \n",
       "2020-09-30    391203.6\n",
       "2020-10-31    393014.4\n",
       "2020-11-30    394544.0\n",
       "2020-12-31    396894.4\n",
       "2021-01-31    399604.6\n",
       "Name: value, Length: 73, dtype: float64"
      ]
     },
     "execution_count": 20,
     "metadata": {},
     "output_type": "execute_result"
    }
   ],
   "source": [
    "medianDummy.groupby(['date']).mean()['value']"
   ]
  },
  {
   "cell_type": "code",
   "execution_count": 21,
   "metadata": {},
   "outputs": [],
   "source": [
    "timestamps = medianDummy.groupby(['date']).mean()['value'].index.tolist()"
   ]
  },
  {
   "cell_type": "code",
   "execution_count": 22,
   "metadata": {},
   "outputs": [],
   "source": [
    "X=list(range(1,len(medianDummy.groupby(['date']).mean()['value'])+1)) # keep brand separate for another time and explain dummy variables, or encoding\n",
    "#X=[str(x) for x in timestamps]\n",
    "X=np.array(X)\n",
    "X=X.reshape(-1,1)\n",
    "y=medianDummy.groupby(['date']).mean()['value'].values\n",
    "split_num=int(len(medianDummy.groupby(['date']).mean()['value'].values)*.70)\n",
    "X_train, X_test=X[:split_num],X[split_num:]\n",
    "y_train, y_test=y[:split_num],y[split_num:]"
   ]
  },
  {
   "cell_type": "code",
   "execution_count": null,
   "metadata": {},
   "outputs": [],
   "source": []
  },
  {
   "cell_type": "code",
   "execution_count": 23,
   "metadata": {},
   "outputs": [
    {
     "data": {
      "text/plain": [
       "(73, 73)"
      ]
     },
     "execution_count": 23,
     "metadata": {},
     "output_type": "execute_result"
    }
   ],
   "source": [
    "len(y),len(X)"
   ]
  },
  {
   "cell_type": "code",
   "execution_count": 24,
   "metadata": {},
   "outputs": [
    {
     "data": {
      "text/plain": [
       "array([396457.2, 396209.2, 396304.8, 395417. , 394303. , 392759.8,\n",
       "       391646.4, 390422. , 389341.8, 388330.8, 388743.8, 388730.4,\n",
       "       388051.6, 387761.8, 387628.6, 388442.4, 389631.6, 391203.6,\n",
       "       393014.4, 394544. , 396894.4, 399604.6])"
      ]
     },
     "execution_count": 24,
     "metadata": {},
     "output_type": "execute_result"
    }
   ],
   "source": [
    "y_test"
   ]
  },
  {
   "cell_type": "code",
   "execution_count": 25,
   "metadata": {},
   "outputs": [],
   "source": [
    "regr=linear_model.LinearRegression()\n",
    "re_res=regr.fit(X_train,y_train)\n",
    "# print(re_res.coef_)\n",
    "y_predict=regr.predict(X_test)"
   ]
  },
  {
   "cell_type": "code",
   "execution_count": 26,
   "metadata": {},
   "outputs": [
    {
     "data": {
      "text/plain": [
       "(array([3., 2., 2., 2., 2., 2., 2., 2., 2., 3.]),\n",
       " array([395545.45239216, 396032.94985098, 396520.4473098 , 397007.94476863,\n",
       "        397495.44222745, 397982.93968627, 398470.4371451 , 398957.93460392,\n",
       "        399445.43206275, 399932.92952157, 400420.42698039]),\n",
       " <BarContainer object of 10 artists>)"
      ]
     },
     "execution_count": 26,
     "metadata": {},
     "output_type": "execute_result"
    },
    {
     "data": {
      "image/png": "[encoded data removed]",
      "text/plain": [
       "<Figure size 432x288 with 1 Axes>"
      ]
     },
     "metadata": {
      "needs_background": "light"
     },
     "output_type": "display_data"
    }
   ],
   "source": [
    "fig,ax=plt.subplots()\n",
    "plt.hist(y_test,color='blue',alpha=0.5)\n",
    "plt.hist(y_predict,color='green')"
   ]
  },
  {
   "cell_type": "code",
   "execution_count": 34,
   "metadata": {},
   "outputs": [
    {
     "data": {
      "text/plain": [
       "array([396457.2, 396209.2, 396304.8, 395417. , 394303. , 392759.8,\n",
       "       391646.4, 390422. , 389341.8, 388330.8, 388743.8, 388730.4,\n",
       "       388051.6, 387761.8, 387628.6, 388442.4, 389631.6, 391203.6,\n",
       "       393014.4, 394544. , 396894.4, 399604.6])"
      ]
     },
     "execution_count": 34,
     "metadata": {},
     "output_type": "execute_result"
    }
   ],
   "source": [
    "y_test"
   ]
  },
  {
   "cell_type": "code",
   "execution_count": 44,
   "metadata": {},
   "outputs": [
    {
     "data": {
      "text/plain": [
       "[<matplotlib.lines.Line2D at 0x1f5bd6de488>]"
      ]
     },
     "execution_count": 44,
     "metadata": {},
     "output_type": "execute_result"
    },
    {
     "data": {
      "image/png": "[encoded data removed]",
      "text/plain": [
       "<Figure size 432x288 with 1 Axes>"
      ]
     },
     "metadata": {
      "needs_background": "light"
     },
     "output_type": "display_data"
    }
   ],
   "source": [
    "import matplotlib.dates as fmtdates\n",
    "fig,ax=plt.subplots()\n",
    "plt.plot(timestamps[51:],y_test,color='blue',alpha=0.5)\n",
    "plt.plot(timestamps[51:],y_predict,color='green')\n",
    "#fmt = fmtdates.DateFormatter('%d')\n",
    "#ax.xaxis.set_major_formatter(fmt)\n",
    "#Find to julian calendar function 'Dec 12 2020'"
   ]
  },
  {
   "cell_type": "code",
   "execution_count": 45,
   "metadata": {},
   "outputs": [
    {
     "data": {
      "text/plain": [
       "[<matplotlib.lines.Line2D at 0x1f5bd4b17c8>]"
      ]
     },
     "execution_count": 45,
     "metadata": {},
     "output_type": "execute_result"
    },
    {
     "data": {
      "image/png": "[encoded data removed]",
      "text/plain": [
       "<Figure size 432x288 with 1 Axes>"
      ]
     },
     "metadata": {
      "needs_background": "light"
     },
     "output_type": "display_data"
    }
   ],
   "source": [
    "fig,ax=plt.subplots()\n",
    "plt.plot(timestamps[:51],y_train,color='blue',alpha=0.5)\n",
    "plt.plot(timestamps[:51],regr.predict(X_train),color='green')"
   ]
  },
  {
   "cell_type": "code",
   "execution_count": 29,
   "metadata": {},
   "outputs": [],
   "source": [
    "# features=medianDummy.columns[4:].tolist()\n",
    "# features.append('Bedrooms')"
   ]
  },
  {
   "cell_type": "code",
   "execution_count": 46,
   "metadata": {},
   "outputs": [],
   "source": [
    "X=medianDummy[features] # keep brand separate for another time and explain dummy variables, or encoding\n",
    "y=medianDummy['value']"
   ]
  },
  {
   "cell_type": "code",
   "execution_count": 35,
   "metadata": {},
   "outputs": [],
   "source": [
    "# Training/Test Data\n",
    "# adjust for random picks when splitting\n",
    "# wish to shuffle in case data is orderd by brand, which will throw things off\n",
    "X_train, X_test, y_train, y_test = train_test_split(X, y, test_size=0.25,\n",
    "                                                    shuffle=True,\n",
    "                                                    random_state=42)"
   ]
  },
  {
   "cell_type": "code",
   "execution_count": 36,
   "metadata": {},
   "outputs": [],
   "source": [
    "split_num=int(len(X)*.70)"
   ]
  },
  {
   "cell_type": "code",
   "execution_count": 37,
   "metadata": {},
   "outputs": [],
   "source": [
    "# change out splitter to take time into account\n",
    "X_train, X_test=X[:split_num],X[split_num:]\n",
    "y_train, y_test=y[:split_num],y[split_num:]"
   ]
  },
  {
   "cell_type": "code",
   "execution_count": 38,
   "metadata": {},
   "outputs": [],
   "source": [
    "regr=linear_model.LinearRegression()\n",
    "re_res=regr.fit(X_train,y_train)\n",
    "# print(re_res.coef_)\n",
    "y_predict=regr.predict(X_test)"
   ]
  },
  {
   "cell_type": "code",
   "execution_count": 39,
   "metadata": {},
   "outputs": [
    {
     "data": {
      "text/plain": [
       "400420.42698039213"
      ]
     },
     "execution_count": 39,
     "metadata": {},
     "output_type": "execute_result"
    }
   ],
   "source": [
    "y_predict[0]"
   ]
  },
  {
   "cell_type": "code",
   "execution_count": 40,
   "metadata": {},
   "outputs": [
    {
     "data": {
      "text/plain": [
       "array([400420.42698039, 400188.28533333, 399956.14368627, 399724.00203922,\n",
       "       399491.86039216, 399259.7187451 , 399027.57709804, 398795.43545098,\n",
       "       398563.29380392, 398331.15215686, 398099.0105098 , 397866.86886275,\n",
       "       397634.72721569, 397402.58556863, 397170.44392157, 396938.30227451,\n",
       "       396706.16062745, 396474.01898039, 396241.87733333, 396009.73568627,\n",
       "       395777.59403922, 395545.45239216])"
      ]
     },
     "execution_count": 40,
     "metadata": {},
     "output_type": "execute_result"
    }
   ],
   "source": [
    "y_predict"
   ]
  },
  {
   "cell_type": "code",
   "execution_count": 41,
   "metadata": {},
   "outputs": [
    {
     "data": {
      "text/plain": [
       "array([396457.2, 396209.2, 396304.8, 395417. , 394303. , 392759.8,\n",
       "       391646.4, 390422. , 389341.8, 388330.8, 388743.8, 388730.4,\n",
       "       388051.6, 387761.8, 387628.6, 388442.4, 389631.6, 391203.6,\n",
       "       393014.4, 394544. , 396894.4, 399604.6])"
      ]
     },
     "execution_count": 41,
     "metadata": {},
     "output_type": "execute_result"
    }
   ],
   "source": [
    "y_test"
   ]
  },
  {
   "cell_type": "code",
   "execution_count": 42,
   "metadata": {},
   "outputs": [
    {
     "name": "stdout",
     "output_type": "stream",
     "text": [
      "48,607,007.31\n"
     ]
    }
   ],
   "source": [
    "print(f\"{mean_squared_error(y_test,y_predict):,.2f}\")"
   ]
  },
  {
   "cell_type": "code",
   "execution_count": null,
   "metadata": {},
   "outputs": [],
   "source": []
  }
 ],
 "metadata": {
  "kernelspec": {
   "display_name": "Python 3",
   "language": "python",
   "name": "python3"
  },
  "language_info": {
   "codemirror_mode": {
    "name": "ipython",
    "version": 3
   },
   "file_extension": ".py",
   "mimetype": "text/x-python",
   "name": "python",
   "nbconvert_exporter": "python",
   "pygments_lexer": "ipython3",
   "version": "3.7.9"
  },
  "varInspector": {
   "cols": {
    "lenName": 16,
    "lenType": 16,
    "lenVar": 40
   },
   "kernels_config": {
    "python": {
     "delete_cmd_postfix": "",
     "delete_cmd_prefix": "del ",
     "library": "var_list.py",
     "varRefreshCmd": "print(var_dic_list())"
    },
    "r": {
     "delete_cmd_postfix": ") ",
     "delete_cmd_prefix": "rm(",
     "library": "var_list.r",
     "varRefreshCmd": "cat(var_dic_list()) "
    }
   },
   "types_to_exclude": [
    "module",
    "function",
    "builtin_function_or_method",
    "instance",
    "_Feature"
   ],
   "window_display": false
  }
 },
 "nbformat": 4,
 "nbformat_minor": 5
}
